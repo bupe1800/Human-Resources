{
  "cells": [
    {
      "cell_type": "markdown",
      "metadata": {
        "id": "view-in-github",
        "colab_type": "text"
      },
      "source": [
        "<a href=\"https://colab.research.google.com/github/bupe1800/Human-Resources/blob/main/HR_Analytics.ipynb\" target=\"_parent\"><img src=\"https://colab.research.google.com/assets/colab-badge.svg\" alt=\"Open In Colab\"/></a>"
      ]
    },
    {
      "cell_type": "markdown",
      "metadata": {
        "id": "StQKiGqVu41T"
      },
      "source": [
        "#**Employee Retention**\n",
        "\n",
        "-----\n",
        "Wikipedia defines **Employee retention** as the ability of an organization to retain its employees. Employees leaving the company is more costly to the company as it brings about costs in the process of interviewing to finally finding a suitable replacemennt, the company is also expected to lose productivy while the new employee gets comfortable to the new role. However, employee retention is fast becoming a key competitor deferentiator among organizations. "
      ]
    },
    {
      "cell_type": "markdown",
      "metadata": {
        "id": "q5xfSREAusyH"
      },
      "source": [
        "![Employee-retention-rate-1000x553-1.png](data:image/png;base64,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)"
      ]
    },
    {
      "cell_type": "markdown",
      "metadata": {
        "id": "ZpmvSbc40WqH"
      },
      "source": [
        "##**Problem Statement**\n",
        "-----\n",
        "Given the data from the HR Management the company can be able to understand why and when an employer is likely to leave the company, this will therefore enable the Management to come up with efficient business-decisions/strategies to retain its employees, equally planning new recruitments on time.\n",
        "\n",
        "From the data science point of view the following are the questions the HR management team set on the table to solve this proble;\n",
        "\n",
        "1. What is the probability of an employer leaving the company?\n",
        "2. What are the key factors contributing to employees leaving the company?\n",
        "3. Based on the results, what are the strategies that can be adopted to improve employee retention."
      ]
    },
    {
      "cell_type": "markdown",
      "metadata": {
        "id": "3bVtRJE6-qVT"
      },
      "source": [
        "###**Importing required libraries**"
      ]
    },
    {
      "cell_type": "code",
      "execution_count": null,
      "metadata": {
        "id": "oBaVx9lykRQI"
      },
      "outputs": [],
      "source": [
        ""
      ]
    },
    {
      "cell_type": "code",
      "execution_count": 1,
      "metadata": {
        "id": "N9cebD3k-zhr"
      },
      "outputs": [],
      "source": [
        "import pandas as pd\n",
        "import numpy as np\n",
        "import matplotlib.pyplot as plt\n",
        "import matplotlib.ticker as mtick # For specifying the axes tick format \n",
        "import seaborn as sns \n",
        "# Standard plotly imports\n",
        "#from plotly import plotly as py\n",
        "import plotly as py\n",
        "import plotly.figure_factory as ff\n",
        "import plotly.graph_objs as go\n",
        "from plotly.offline import download_plotlyjs, init_notebook_mode, plot, iplot\n",
        "\n",
        "# sklearn modules for preprocessing\n",
        "from sklearn.preprocessing import OneHotEncoder, LabelEncoder\n",
        "# from imblearn.over_sampling import SMOTE  # SMOTE\n",
        "# sklearn modules for ML model selection\n",
        "from sklearn.model_selection import train_test_split  # import 'train_test_split'\n",
        "from sklearn.model_selection import GridSearchCV\n",
        "from sklearn.model_selection import RandomizedSearchCV\n",
        "from sklearn.model_selection import ShuffleSplit\n",
        "from sklearn.model_selection import KFold\n",
        "from sklearn.model_selection import cross_val_score\n",
        "\n",
        "# Libraries for data modelling\n",
        "from sklearn import svm, tree, linear_model, neighbors\n",
        "from sklearn import naive_bayes, ensemble, discriminant_analysis, gaussian_process\n",
        "from sklearn.linear_model import LogisticRegression\n",
        "from sklearn.tree import DecisionTreeClassifier\n",
        "from sklearn.ensemble import AdaBoostClassifier\n",
        "from sklearn.neighbors import KNeighborsClassifier\n",
        "from sklearn.discriminant_analysis import LinearDiscriminantAnalysis\n",
        "from sklearn.naive_bayes import GaussianNB\n",
        "from sklearn.svm import SVC\n",
        "from sklearn.neighbors import KNeighborsClassifier\n",
        "from xgboost import XGBClassifier\n",
        "from sklearn.ensemble import RandomForestClassifier\n",
        "\n",
        "# Common sklearn Model Helpers\n",
        "from sklearn import feature_selection\n",
        "from sklearn import model_selection\n",
        "from sklearn import metrics\n",
        "# from sklearn.datasets import make_classification\n",
        "\n",
        "# sklearn modules for performance metrics\n",
        "from sklearn.metrics import confusion_matrix, classification_report, precision_recall_curve\n",
        "from sklearn.metrics import auc, roc_auc_score, roc_curve, recall_score, log_loss\n",
        "from sklearn.metrics import f1_score, accuracy_score, roc_auc_score, make_scorer\n",
        "from sklearn.metrics import average_precision_score"
      ]
    },
    {
      "cell_type": "markdown",
      "metadata": {
        "id": "SOaxzUnt-e1M"
      },
      "source": [
        "###**Loading the data**"
      ]
    },
    {
      "cell_type": "code",
      "execution_count": 2,
      "metadata": {
        "colab": {
          "base_uri": "https://localhost:8080/",
          "height": 270
        },
        "id": "_WVo53UNo7e4",
        "outputId": "addde8cf-6744-48dd-c3ea-3efef5c45dee"
      },
      "outputs": [
        {
          "output_type": "execute_result",
          "data": {
            "text/html": [
              "\n",
              "  <div id=\"df-e1a68403-603f-4ba0-b3d7-900aa01fa0bb\">\n",
              "    <div class=\"colab-df-container\">\n",
              "      <div>\n",
              "<style scoped>\n",
              "    .dataframe tbody tr th:only-of-type {\n",
              "        vertical-align: middle;\n",
              "    }\n",
              "\n",
              "    .dataframe tbody tr th {\n",
              "        vertical-align: top;\n",
              "    }\n",
              "\n",
              "    .dataframe thead th {\n",
              "        text-align: right;\n",
              "    }\n",
              "</style>\n",
              "<table border=\"1\" class=\"dataframe\">\n",
              "  <thead>\n",
              "    <tr style=\"text-align: right;\">\n",
              "      <th></th>\n",
              "      <th>satisfaction_level</th>\n",
              "      <th>last_evaluation</th>\n",
              "      <th>number_project</th>\n",
              "      <th>average_montly_hours</th>\n",
              "      <th>time_spend_company</th>\n",
              "      <th>Work_accident</th>\n",
              "      <th>left</th>\n",
              "      <th>promotion_last_5years</th>\n",
              "      <th>Department</th>\n",
              "      <th>salary</th>\n",
              "    </tr>\n",
              "  </thead>\n",
              "  <tbody>\n",
              "    <tr>\n",
              "      <th>0</th>\n",
              "      <td>0.38</td>\n",
              "      <td>0.53</td>\n",
              "      <td>2</td>\n",
              "      <td>157</td>\n",
              "      <td>3</td>\n",
              "      <td>0</td>\n",
              "      <td>1</td>\n",
              "      <td>0</td>\n",
              "      <td>sales</td>\n",
              "      <td>low</td>\n",
              "    </tr>\n",
              "    <tr>\n",
              "      <th>1</th>\n",
              "      <td>0.80</td>\n",
              "      <td>0.86</td>\n",
              "      <td>5</td>\n",
              "      <td>262</td>\n",
              "      <td>6</td>\n",
              "      <td>0</td>\n",
              "      <td>1</td>\n",
              "      <td>0</td>\n",
              "      <td>sales</td>\n",
              "      <td>medium</td>\n",
              "    </tr>\n",
              "    <tr>\n",
              "      <th>2</th>\n",
              "      <td>0.11</td>\n",
              "      <td>0.88</td>\n",
              "      <td>7</td>\n",
              "      <td>272</td>\n",
              "      <td>4</td>\n",
              "      <td>0</td>\n",
              "      <td>1</td>\n",
              "      <td>0</td>\n",
              "      <td>sales</td>\n",
              "      <td>medium</td>\n",
              "    </tr>\n",
              "    <tr>\n",
              "      <th>3</th>\n",
              "      <td>0.72</td>\n",
              "      <td>0.87</td>\n",
              "      <td>5</td>\n",
              "      <td>223</td>\n",
              "      <td>5</td>\n",
              "      <td>0</td>\n",
              "      <td>1</td>\n",
              "      <td>0</td>\n",
              "      <td>sales</td>\n",
              "      <td>low</td>\n",
              "    </tr>\n",
              "    <tr>\n",
              "      <th>4</th>\n",
              "      <td>0.37</td>\n",
              "      <td>0.52</td>\n",
              "      <td>2</td>\n",
              "      <td>159</td>\n",
              "      <td>3</td>\n",
              "      <td>0</td>\n",
              "      <td>1</td>\n",
              "      <td>0</td>\n",
              "      <td>sales</td>\n",
              "      <td>low</td>\n",
              "    </tr>\n",
              "  </tbody>\n",
              "</table>\n",
              "</div>\n",
              "      <button class=\"colab-df-convert\" onclick=\"convertToInteractive('df-e1a68403-603f-4ba0-b3d7-900aa01fa0bb')\"\n",
              "              title=\"Convert this dataframe to an interactive table.\"\n",
              "              style=\"display:none;\">\n",
              "        \n",
              "  <svg xmlns=\"http://www.w3.org/2000/svg\" height=\"24px\"viewBox=\"0 0 24 24\"\n",
              "       width=\"24px\">\n",
              "    <path d=\"M0 0h24v24H0V0z\" fill=\"none\"/>\n",
              "    <path d=\"M18.56 5.44l.94 2.06.94-2.06 2.06-.94-2.06-.94-.94-2.06-.94 2.06-2.06.94zm-11 1L8.5 8.5l.94-2.06 2.06-.94-2.06-.94L8.5 2.5l-.94 2.06-2.06.94zm10 10l.94 2.06.94-2.06 2.06-.94-2.06-.94-.94-2.06-.94 2.06-2.06.94z\"/><path d=\"M17.41 7.96l-1.37-1.37c-.4-.4-.92-.59-1.43-.59-.52 0-1.04.2-1.43.59L10.3 9.45l-7.72 7.72c-.78.78-.78 2.05 0 2.83L4 21.41c.39.39.9.59 1.41.59.51 0 1.02-.2 1.41-.59l7.78-7.78 2.81-2.81c.8-.78.8-2.07 0-2.86zM5.41 20L4 18.59l7.72-7.72 1.47 1.35L5.41 20z\"/>\n",
              "  </svg>\n",
              "      </button>\n",
              "      \n",
              "  <style>\n",
              "    .colab-df-container {\n",
              "      display:flex;\n",
              "      flex-wrap:wrap;\n",
              "      gap: 12px;\n",
              "    }\n",
              "\n",
              "    .colab-df-convert {\n",
              "      background-color: #E8F0FE;\n",
              "      border: none;\n",
              "      border-radius: 50%;\n",
              "      cursor: pointer;\n",
              "      display: none;\n",
              "      fill: #1967D2;\n",
              "      height: 32px;\n",
              "      padding: 0 0 0 0;\n",
              "      width: 32px;\n",
              "    }\n",
              "\n",
              "    .colab-df-convert:hover {\n",
              "      background-color: #E2EBFA;\n",
              "      box-shadow: 0px 1px 2px rgba(60, 64, 67, 0.3), 0px 1px 3px 1px rgba(60, 64, 67, 0.15);\n",
              "      fill: #174EA6;\n",
              "    }\n",
              "\n",
              "    [theme=dark] .colab-df-convert {\n",
              "      background-color: #3B4455;\n",
              "      fill: #D2E3FC;\n",
              "    }\n",
              "\n",
              "    [theme=dark] .colab-df-convert:hover {\n",
              "      background-color: #434B5C;\n",
              "      box-shadow: 0px 1px 3px 1px rgba(0, 0, 0, 0.15);\n",
              "      filter: drop-shadow(0px 1px 2px rgba(0, 0, 0, 0.3));\n",
              "      fill: #FFFFFF;\n",
              "    }\n",
              "  </style>\n",
              "\n",
              "      <script>\n",
              "        const buttonEl =\n",
              "          document.querySelector('#df-e1a68403-603f-4ba0-b3d7-900aa01fa0bb button.colab-df-convert');\n",
              "        buttonEl.style.display =\n",
              "          google.colab.kernel.accessAllowed ? 'block' : 'none';\n",
              "\n",
              "        async function convertToInteractive(key) {\n",
              "          const element = document.querySelector('#df-e1a68403-603f-4ba0-b3d7-900aa01fa0bb');\n",
              "          const dataTable =\n",
              "            await google.colab.kernel.invokeFunction('convertToInteractive',\n",
              "                                                     [key], {});\n",
              "          if (!dataTable) return;\n",
              "\n",
              "          const docLinkHtml = 'Like what you see? Visit the ' +\n",
              "            '<a target=\"_blank\" href=https://colab.research.google.com/notebooks/data_table.ipynb>data table notebook</a>'\n",
              "            + ' to learn more about interactive tables.';\n",
              "          element.innerHTML = '';\n",
              "          dataTable['output_type'] = 'display_data';\n",
              "          await google.colab.output.renderOutput(dataTable, element);\n",
              "          const docLink = document.createElement('div');\n",
              "          docLink.innerHTML = docLinkHtml;\n",
              "          element.appendChild(docLink);\n",
              "        }\n",
              "      </script>\n",
              "    </div>\n",
              "  </div>\n",
              "  "
            ],
            "text/plain": [
              "   satisfaction_level  last_evaluation  ...  Department  salary\n",
              "0                0.38             0.53  ...       sales     low\n",
              "1                0.80             0.86  ...       sales  medium\n",
              "2                0.11             0.88  ...       sales  medium\n",
              "3                0.72             0.87  ...       sales     low\n",
              "4                0.37             0.52  ...       sales     low\n",
              "\n",
              "[5 rows x 10 columns]"
            ]
          },
          "metadata": {},
          "execution_count": 2
        }
      ],
      "source": [
        "data = pd.read_csv('https://raw.githubusercontent.com/bupe1800/Human-Resources/main/HR_comma_sep.csv')\n",
        "data.head(5)"
      ]
    },
    {
      "cell_type": "markdown",
      "metadata": {
        "id": "xzYMMpf4Vyul"
      },
      "source": [
        "###**Data Exploration**"
      ]
    },
    {
      "cell_type": "code",
      "execution_count": 3,
      "metadata": {
        "colab": {
          "base_uri": "https://localhost:8080/"
        },
        "id": "gLv4KjqNQbqK",
        "outputId": "376d4b35-e6e6-42a7-f9f6-08ecd8ff9629"
      },
      "outputs": [
        {
          "output_type": "stream",
          "name": "stdout",
          "text": [
            "<class 'pandas.core.frame.DataFrame'>\n",
            "RangeIndex: 14999 entries, 0 to 14998\n",
            "Data columns (total 10 columns):\n",
            " #   Column                 Non-Null Count  Dtype  \n",
            "---  ------                 --------------  -----  \n",
            " 0   satisfaction_level     14999 non-null  float64\n",
            " 1   last_evaluation        14999 non-null  float64\n",
            " 2   number_project         14999 non-null  int64  \n",
            " 3   average_montly_hours   14999 non-null  int64  \n",
            " 4   time_spend_company     14999 non-null  int64  \n",
            " 5   Work_accident          14999 non-null  int64  \n",
            " 6   left                   14999 non-null  int64  \n",
            " 7   promotion_last_5years  14999 non-null  int64  \n",
            " 8   Department             14999 non-null  object \n",
            " 9   salary                 14999 non-null  object \n",
            "dtypes: float64(2), int64(6), object(2)\n",
            "memory usage: 1.1+ MB\n"
          ]
        }
      ],
      "source": [
        "data.info()"
      ]
    },
    {
      "cell_type": "code",
      "execution_count": 4,
      "metadata": {
        "colab": {
          "base_uri": "https://localhost:8080/"
        },
        "id": "Q0KsjhYZQwYF",
        "outputId": "3594ff6d-7234-44da-b48d-7a97b6d46848"
      },
      "outputs": [
        {
          "output_type": "execute_result",
          "data": {
            "text/plain": [
              "(14999, 10)"
            ]
          },
          "metadata": {},
          "execution_count": 4
        }
      ],
      "source": [
        "data.shape"
      ]
    },
    {
      "cell_type": "code",
      "execution_count": 5,
      "metadata": {
        "colab": {
          "base_uri": "https://localhost:8080/"
        },
        "id": "6f80E9FGSswh",
        "outputId": "65010b0a-55d3-4d22-f73c-030e8ad0fb60"
      },
      "outputs": [
        {
          "output_type": "execute_result",
          "data": {
            "text/plain": [
              "satisfaction_level       0\n",
              "last_evaluation          0\n",
              "number_project           0\n",
              "average_montly_hours     0\n",
              "time_spend_company       0\n",
              "Work_accident            0\n",
              "left                     0\n",
              "promotion_last_5years    0\n",
              "Department               0\n",
              "salary                   0\n",
              "dtype: int64"
            ]
          },
          "metadata": {},
          "execution_count": 5
        }
      ],
      "source": [
        "data.isnull().sum()"
      ]
    },
    {
      "cell_type": "markdown",
      "metadata": {
        "id": "0SIAtvzKV7k1"
      },
      "source": [
        "The data provided has 14,999 rows representing employees and 10 columns reprent each employees personal information, there are also no missing values in this data, this is likely beacause HR Departments typically have all personal and employment data on-file, and this type of data is kept as accurate as possible. We can therefore just rename the column names into something simpler."
      ]
    },
    {
      "cell_type": "code",
      "execution_count": 6,
      "metadata": {
        "colab": {
          "base_uri": "https://localhost:8080/",
          "height": 143
        },
        "id": "sZLZqFNqSyqS",
        "outputId": "051b7602-b9d7-453f-8c26-690b56e4209a"
      },
      "outputs": [
        {
          "output_type": "execute_result",
          "data": {
            "text/html": [
              "\n",
              "  <div id=\"df-0828b817-e3cb-46af-874a-fda0c72e559a\">\n",
              "    <div class=\"colab-df-container\">\n",
              "      <div>\n",
              "<style scoped>\n",
              "    .dataframe tbody tr th:only-of-type {\n",
              "        vertical-align: middle;\n",
              "    }\n",
              "\n",
              "    .dataframe tbody tr th {\n",
              "        vertical-align: top;\n",
              "    }\n",
              "\n",
              "    .dataframe thead th {\n",
              "        text-align: right;\n",
              "    }\n",
              "</style>\n",
              "<table border=\"1\" class=\"dataframe\">\n",
              "  <thead>\n",
              "    <tr style=\"text-align: right;\">\n",
              "      <th></th>\n",
              "      <th>Satisfaction</th>\n",
              "      <th>Evaluation</th>\n",
              "      <th>Projects</th>\n",
              "      <th>Average_Montly_Hours</th>\n",
              "      <th>Years</th>\n",
              "      <th>Accident</th>\n",
              "      <th>Turnover</th>\n",
              "      <th>Promotion</th>\n",
              "      <th>Department</th>\n",
              "      <th>Salary</th>\n",
              "    </tr>\n",
              "  </thead>\n",
              "  <tbody>\n",
              "    <tr>\n",
              "      <th>0</th>\n",
              "      <td>0.38</td>\n",
              "      <td>0.53</td>\n",
              "      <td>2</td>\n",
              "      <td>157</td>\n",
              "      <td>3</td>\n",
              "      <td>0</td>\n",
              "      <td>1</td>\n",
              "      <td>0</td>\n",
              "      <td>sales</td>\n",
              "      <td>low</td>\n",
              "    </tr>\n",
              "    <tr>\n",
              "      <th>1</th>\n",
              "      <td>0.80</td>\n",
              "      <td>0.86</td>\n",
              "      <td>5</td>\n",
              "      <td>262</td>\n",
              "      <td>6</td>\n",
              "      <td>0</td>\n",
              "      <td>1</td>\n",
              "      <td>0</td>\n",
              "      <td>sales</td>\n",
              "      <td>medium</td>\n",
              "    </tr>\n",
              "    <tr>\n",
              "      <th>2</th>\n",
              "      <td>0.11</td>\n",
              "      <td>0.88</td>\n",
              "      <td>7</td>\n",
              "      <td>272</td>\n",
              "      <td>4</td>\n",
              "      <td>0</td>\n",
              "      <td>1</td>\n",
              "      <td>0</td>\n",
              "      <td>sales</td>\n",
              "      <td>medium</td>\n",
              "    </tr>\n",
              "  </tbody>\n",
              "</table>\n",
              "</div>\n",
              "      <button class=\"colab-df-convert\" onclick=\"convertToInteractive('df-0828b817-e3cb-46af-874a-fda0c72e559a')\"\n",
              "              title=\"Convert this dataframe to an interactive table.\"\n",
              "              style=\"display:none;\">\n",
              "        \n",
              "  <svg xmlns=\"http://www.w3.org/2000/svg\" height=\"24px\"viewBox=\"0 0 24 24\"\n",
              "       width=\"24px\">\n",
              "    <path d=\"M0 0h24v24H0V0z\" fill=\"none\"/>\n",
              "    <path d=\"M18.56 5.44l.94 2.06.94-2.06 2.06-.94-2.06-.94-.94-2.06-.94 2.06-2.06.94zm-11 1L8.5 8.5l.94-2.06 2.06-.94-2.06-.94L8.5 2.5l-.94 2.06-2.06.94zm10 10l.94 2.06.94-2.06 2.06-.94-2.06-.94-.94-2.06-.94 2.06-2.06.94z\"/><path d=\"M17.41 7.96l-1.37-1.37c-.4-.4-.92-.59-1.43-.59-.52 0-1.04.2-1.43.59L10.3 9.45l-7.72 7.72c-.78.78-.78 2.05 0 2.83L4 21.41c.39.39.9.59 1.41.59.51 0 1.02-.2 1.41-.59l7.78-7.78 2.81-2.81c.8-.78.8-2.07 0-2.86zM5.41 20L4 18.59l7.72-7.72 1.47 1.35L5.41 20z\"/>\n",
              "  </svg>\n",
              "      </button>\n",
              "      \n",
              "  <style>\n",
              "    .colab-df-container {\n",
              "      display:flex;\n",
              "      flex-wrap:wrap;\n",
              "      gap: 12px;\n",
              "    }\n",
              "\n",
              "    .colab-df-convert {\n",
              "      background-color: #E8F0FE;\n",
              "      border: none;\n",
              "      border-radius: 50%;\n",
              "      cursor: pointer;\n",
              "      display: none;\n",
              "      fill: #1967D2;\n",
              "      height: 32px;\n",
              "      padding: 0 0 0 0;\n",
              "      width: 32px;\n",
              "    }\n",
              "\n",
              "    .colab-df-convert:hover {\n",
              "      background-color: #E2EBFA;\n",
              "      box-shadow: 0px 1px 2px rgba(60, 64, 67, 0.3), 0px 1px 3px 1px rgba(60, 64, 67, 0.15);\n",
              "      fill: #174EA6;\n",
              "    }\n",
              "\n",
              "    [theme=dark] .colab-df-convert {\n",
              "      background-color: #3B4455;\n",
              "      fill: #D2E3FC;\n",
              "    }\n",
              "\n",
              "    [theme=dark] .colab-df-convert:hover {\n",
              "      background-color: #434B5C;\n",
              "      box-shadow: 0px 1px 3px 1px rgba(0, 0, 0, 0.15);\n",
              "      filter: drop-shadow(0px 1px 2px rgba(0, 0, 0, 0.3));\n",
              "      fill: #FFFFFF;\n",
              "    }\n",
              "  </style>\n",
              "\n",
              "      <script>\n",
              "        const buttonEl =\n",
              "          document.querySelector('#df-0828b817-e3cb-46af-874a-fda0c72e559a button.colab-df-convert');\n",
              "        buttonEl.style.display =\n",
              "          google.colab.kernel.accessAllowed ? 'block' : 'none';\n",
              "\n",
              "        async function convertToInteractive(key) {\n",
              "          const element = document.querySelector('#df-0828b817-e3cb-46af-874a-fda0c72e559a');\n",
              "          const dataTable =\n",
              "            await google.colab.kernel.invokeFunction('convertToInteractive',\n",
              "                                                     [key], {});\n",
              "          if (!dataTable) return;\n",
              "\n",
              "          const docLinkHtml = 'Like what you see? Visit the ' +\n",
              "            '<a target=\"_blank\" href=https://colab.research.google.com/notebooks/data_table.ipynb>data table notebook</a>'\n",
              "            + ' to learn more about interactive tables.';\n",
              "          element.innerHTML = '';\n",
              "          dataTable['output_type'] = 'display_data';\n",
              "          await google.colab.output.renderOutput(dataTable, element);\n",
              "          const docLink = document.createElement('div');\n",
              "          docLink.innerHTML = docLinkHtml;\n",
              "          element.appendChild(docLink);\n",
              "        }\n",
              "      </script>\n",
              "    </div>\n",
              "  </div>\n",
              "  "
            ],
            "text/plain": [
              "   Satisfaction  Evaluation  Projects  ...  Promotion  Department  Salary\n",
              "0          0.38        0.53         2  ...          0       sales     low\n",
              "1          0.80        0.86         5  ...          0       sales  medium\n",
              "2          0.11        0.88         7  ...          0       sales  medium\n",
              "\n",
              "[3 rows x 10 columns]"
            ]
          },
          "metadata": {},
          "execution_count": 6
        }
      ],
      "source": [
        "data = data.rename(columns= {'satisfaction_level': 'Satisfaction', 'last_evaluation':'Evaluation',\n",
        "                             'number_project': 'Projects', 'average_montly_hours':'Average_Montly_Hours',\n",
        "                             'time_spend_company':'Years','Work_accident':'Accident',\n",
        "                             'promotion_last_5years':'Promotion','Department':'Department',\n",
        "                             'salary':'Salary','left':'Turnover'})\n",
        "data.head(3)"
      ]
    },
    {
      "cell_type": "markdown",
      "metadata": {
        "id": "ThVQazMCXv2t"
      },
      "source": [
        "###**Exploratory Data Analysis**"
      ]
    },
    {
      "cell_type": "code",
      "execution_count": 7,
      "metadata": {
        "colab": {
          "base_uri": "https://localhost:8080/",
          "height": 300
        },
        "id": "hg9gxIX4VLo4",
        "outputId": "bccdb1c3-6781-49e0-b960-f022e9d93d22"
      },
      "outputs": [
        {
          "output_type": "execute_result",
          "data": {
            "text/html": [
              "\n",
              "  <div id=\"df-9f534ceb-ac28-4e44-8acd-052e79260d01\">\n",
              "    <div class=\"colab-df-container\">\n",
              "      <div>\n",
              "<style scoped>\n",
              "    .dataframe tbody tr th:only-of-type {\n",
              "        vertical-align: middle;\n",
              "    }\n",
              "\n",
              "    .dataframe tbody tr th {\n",
              "        vertical-align: top;\n",
              "    }\n",
              "\n",
              "    .dataframe thead th {\n",
              "        text-align: right;\n",
              "    }\n",
              "</style>\n",
              "<table border=\"1\" class=\"dataframe\">\n",
              "  <thead>\n",
              "    <tr style=\"text-align: right;\">\n",
              "      <th></th>\n",
              "      <th>Satisfaction</th>\n",
              "      <th>Evaluation</th>\n",
              "      <th>Projects</th>\n",
              "      <th>Average_Montly_Hours</th>\n",
              "      <th>Years</th>\n",
              "      <th>Accident</th>\n",
              "      <th>Turnover</th>\n",
              "      <th>Promotion</th>\n",
              "    </tr>\n",
              "  </thead>\n",
              "  <tbody>\n",
              "    <tr>\n",
              "      <th>count</th>\n",
              "      <td>14999.000000</td>\n",
              "      <td>14999.000000</td>\n",
              "      <td>14999.000000</td>\n",
              "      <td>14999.000000</td>\n",
              "      <td>14999.000000</td>\n",
              "      <td>14999.000000</td>\n",
              "      <td>14999.000000</td>\n",
              "      <td>14999.000000</td>\n",
              "    </tr>\n",
              "    <tr>\n",
              "      <th>mean</th>\n",
              "      <td>0.612834</td>\n",
              "      <td>0.716102</td>\n",
              "      <td>3.803054</td>\n",
              "      <td>201.050337</td>\n",
              "      <td>3.498233</td>\n",
              "      <td>0.144610</td>\n",
              "      <td>0.238083</td>\n",
              "      <td>0.021268</td>\n",
              "    </tr>\n",
              "    <tr>\n",
              "      <th>std</th>\n",
              "      <td>0.248631</td>\n",
              "      <td>0.171169</td>\n",
              "      <td>1.232592</td>\n",
              "      <td>49.943099</td>\n",
              "      <td>1.460136</td>\n",
              "      <td>0.351719</td>\n",
              "      <td>0.425924</td>\n",
              "      <td>0.144281</td>\n",
              "    </tr>\n",
              "    <tr>\n",
              "      <th>min</th>\n",
              "      <td>0.090000</td>\n",
              "      <td>0.360000</td>\n",
              "      <td>2.000000</td>\n",
              "      <td>96.000000</td>\n",
              "      <td>2.000000</td>\n",
              "      <td>0.000000</td>\n",
              "      <td>0.000000</td>\n",
              "      <td>0.000000</td>\n",
              "    </tr>\n",
              "    <tr>\n",
              "      <th>25%</th>\n",
              "      <td>0.440000</td>\n",
              "      <td>0.560000</td>\n",
              "      <td>3.000000</td>\n",
              "      <td>156.000000</td>\n",
              "      <td>3.000000</td>\n",
              "      <td>0.000000</td>\n",
              "      <td>0.000000</td>\n",
              "      <td>0.000000</td>\n",
              "    </tr>\n",
              "    <tr>\n",
              "      <th>50%</th>\n",
              "      <td>0.640000</td>\n",
              "      <td>0.720000</td>\n",
              "      <td>4.000000</td>\n",
              "      <td>200.000000</td>\n",
              "      <td>3.000000</td>\n",
              "      <td>0.000000</td>\n",
              "      <td>0.000000</td>\n",
              "      <td>0.000000</td>\n",
              "    </tr>\n",
              "    <tr>\n",
              "      <th>75%</th>\n",
              "      <td>0.820000</td>\n",
              "      <td>0.870000</td>\n",
              "      <td>5.000000</td>\n",
              "      <td>245.000000</td>\n",
              "      <td>4.000000</td>\n",
              "      <td>0.000000</td>\n",
              "      <td>0.000000</td>\n",
              "      <td>0.000000</td>\n",
              "    </tr>\n",
              "    <tr>\n",
              "      <th>max</th>\n",
              "      <td>1.000000</td>\n",
              "      <td>1.000000</td>\n",
              "      <td>7.000000</td>\n",
              "      <td>310.000000</td>\n",
              "      <td>10.000000</td>\n",
              "      <td>1.000000</td>\n",
              "      <td>1.000000</td>\n",
              "      <td>1.000000</td>\n",
              "    </tr>\n",
              "  </tbody>\n",
              "</table>\n",
              "</div>\n",
              "      <button class=\"colab-df-convert\" onclick=\"convertToInteractive('df-9f534ceb-ac28-4e44-8acd-052e79260d01')\"\n",
              "              title=\"Convert this dataframe to an interactive table.\"\n",
              "              style=\"display:none;\">\n",
              "        \n",
              "  <svg xmlns=\"http://www.w3.org/2000/svg\" height=\"24px\"viewBox=\"0 0 24 24\"\n",
              "       width=\"24px\">\n",
              "    <path d=\"M0 0h24v24H0V0z\" fill=\"none\"/>\n",
              "    <path d=\"M18.56 5.44l.94 2.06.94-2.06 2.06-.94-2.06-.94-.94-2.06-.94 2.06-2.06.94zm-11 1L8.5 8.5l.94-2.06 2.06-.94-2.06-.94L8.5 2.5l-.94 2.06-2.06.94zm10 10l.94 2.06.94-2.06 2.06-.94-2.06-.94-.94-2.06-.94 2.06-2.06.94z\"/><path d=\"M17.41 7.96l-1.37-1.37c-.4-.4-.92-.59-1.43-.59-.52 0-1.04.2-1.43.59L10.3 9.45l-7.72 7.72c-.78.78-.78 2.05 0 2.83L4 21.41c.39.39.9.59 1.41.59.51 0 1.02-.2 1.41-.59l7.78-7.78 2.81-2.81c.8-.78.8-2.07 0-2.86zM5.41 20L4 18.59l7.72-7.72 1.47 1.35L5.41 20z\"/>\n",
              "  </svg>\n",
              "      </button>\n",
              "      \n",
              "  <style>\n",
              "    .colab-df-container {\n",
              "      display:flex;\n",
              "      flex-wrap:wrap;\n",
              "      gap: 12px;\n",
              "    }\n",
              "\n",
              "    .colab-df-convert {\n",
              "      background-color: #E8F0FE;\n",
              "      border: none;\n",
              "      border-radius: 50%;\n",
              "      cursor: pointer;\n",
              "      display: none;\n",
              "      fill: #1967D2;\n",
              "      height: 32px;\n",
              "      padding: 0 0 0 0;\n",
              "      width: 32px;\n",
              "    }\n",
              "\n",
              "    .colab-df-convert:hover {\n",
              "      background-color: #E2EBFA;\n",
              "      box-shadow: 0px 1px 2px rgba(60, 64, 67, 0.3), 0px 1px 3px 1px rgba(60, 64, 67, 0.15);\n",
              "      fill: #174EA6;\n",
              "    }\n",
              "\n",
              "    [theme=dark] .colab-df-convert {\n",
              "      background-color: #3B4455;\n",
              "      fill: #D2E3FC;\n",
              "    }\n",
              "\n",
              "    [theme=dark] .colab-df-convert:hover {\n",
              "      background-color: #434B5C;\n",
              "      box-shadow: 0px 1px 3px 1px rgba(0, 0, 0, 0.15);\n",
              "      filter: drop-shadow(0px 1px 2px rgba(0, 0, 0, 0.3));\n",
              "      fill: #FFFFFF;\n",
              "    }\n",
              "  </style>\n",
              "\n",
              "      <script>\n",
              "        const buttonEl =\n",
              "          document.querySelector('#df-9f534ceb-ac28-4e44-8acd-052e79260d01 button.colab-df-convert');\n",
              "        buttonEl.style.display =\n",
              "          google.colab.kernel.accessAllowed ? 'block' : 'none';\n",
              "\n",
              "        async function convertToInteractive(key) {\n",
              "          const element = document.querySelector('#df-9f534ceb-ac28-4e44-8acd-052e79260d01');\n",
              "          const dataTable =\n",
              "            await google.colab.kernel.invokeFunction('convertToInteractive',\n",
              "                                                     [key], {});\n",
              "          if (!dataTable) return;\n",
              "\n",
              "          const docLinkHtml = 'Like what you see? Visit the ' +\n",
              "            '<a target=\"_blank\" href=https://colab.research.google.com/notebooks/data_table.ipynb>data table notebook</a>'\n",
              "            + ' to learn more about interactive tables.';\n",
              "          element.innerHTML = '';\n",
              "          dataTable['output_type'] = 'display_data';\n",
              "          await google.colab.output.renderOutput(dataTable, element);\n",
              "          const docLink = document.createElement('div');\n",
              "          docLink.innerHTML = docLinkHtml;\n",
              "          element.appendChild(docLink);\n",
              "        }\n",
              "      </script>\n",
              "    </div>\n",
              "  </div>\n",
              "  "
            ],
            "text/plain": [
              "       Satisfaction    Evaluation  ...      Turnover     Promotion\n",
              "count  14999.000000  14999.000000  ...  14999.000000  14999.000000\n",
              "mean       0.612834      0.716102  ...      0.238083      0.021268\n",
              "std        0.248631      0.171169  ...      0.425924      0.144281\n",
              "min        0.090000      0.360000  ...      0.000000      0.000000\n",
              "25%        0.440000      0.560000  ...      0.000000      0.000000\n",
              "50%        0.640000      0.720000  ...      0.000000      0.000000\n",
              "75%        0.820000      0.870000  ...      0.000000      0.000000\n",
              "max        1.000000      1.000000  ...      1.000000      1.000000\n",
              "\n",
              "[8 rows x 8 columns]"
            ]
          },
          "metadata": {},
          "execution_count": 7
        }
      ],
      "source": [
        "data.describe()"
      ]
    },
    {
      "cell_type": "markdown",
      "metadata": {
        "id": "nDG-MiplZZHK"
      },
      "source": [
        "The mean satisfaction of employees in the company is 61%"
      ]
    },
    {
      "cell_type": "code",
      "execution_count": 8,
      "metadata": {
        "colab": {
          "base_uri": "https://localhost:8080/"
        },
        "id": "Vdh0Qs5pYBq3",
        "outputId": "a48bf5b3-2b8b-470c-f52f-537c429aa3db"
      },
      "outputs": [
        {
          "output_type": "execute_result",
          "data": {
            "text/plain": [
              "0    0.761917\n",
              "1    0.238083\n",
              "Name: Turnover, dtype: float64"
            ]
          },
          "metadata": {},
          "execution_count": 8
        }
      ],
      "source": [
        "TurnoverRate = data.Turnover.value_counts()/len(data)\n",
        "TurnoverRate"
      ]
    },
    {
      "cell_type": "code",
      "execution_count": 9,
      "metadata": {
        "colab": {
          "base_uri": "https://localhost:8080/",
          "height": 409
        },
        "id": "16oV-3UPc3v2",
        "outputId": "9620db96-57a7-4c11-8dc8-9cc35e8a8dc3"
      },
      "outputs": [
        {
          "output_type": "display_data",
          "data": {
            "image/png": "[encoded data removed]",
            "text/plain": [
              "<Figure size 576x432 with 1 Axes>"
            ]
          },
          "metadata": {
            "needs_background": "light"
          }
        }
      ],
      "source": [
        "colors = ['#4D3425','#E4512B']\n",
        "ax = (data['Turnover'].value_counts()*100.0 /len(data)).plot(kind='bar',\n",
        "                                                                           stacked = True,\n",
        "                                                                          rot = 0,\n",
        "                                                                          color = colors,\n",
        "                                                                         figsize = (8,6))\n",
        "ax.yaxis.set_major_formatter(mtick.PercentFormatter())\n",
        "ax.set_ylabel('% Employee',size = 14)\n",
        "ax.set_xlabel('Turnover',size = 14)\n",
        "ax.set_title('Turnover Rate', size = 14)\n",
        "\n",
        "# create a list to collect the plt.patches data\n",
        "totals = []\n",
        "\n",
        "# find the values and append to list\n",
        "for i in ax.patches:\n",
        "    totals.append(i.get_width())\n",
        "\n",
        "# set individual bar lables using above list\n",
        "total = sum(totals)\n",
        "\n",
        "for i in ax.patches:\n",
        "    # get_width pulls left or right; get_y pushes up or down\n",
        "    ax.text(i.get_x()+.15, i.get_height()-4.0, \\\n",
        "            str(round((i.get_height()/total), 1))+'%',\n",
        "            fontsize=12,\n",
        "            color='white',\n",
        "           weight = 'bold',\n",
        "           size = 14)"
      ]
    },
    {
      "cell_type": "markdown",
      "metadata": {
        "id": "RkLZ1iN_aVIM"
      },
      "source": [
        "The Turnover rate in this company stands at 24%"
      ]
    },
    {
      "cell_type": "code",
      "execution_count": 10,
      "metadata": {
        "colab": {
          "base_uri": "https://localhost:8080/",
          "height": 143
        },
        "id": "d72H3VHsaI6Z",
        "outputId": "628db4b5-ecdb-4990-f8ac-0299e717d86a"
      },
      "outputs": [
        {
          "output_type": "execute_result",
          "data": {
            "text/html": [
              "\n",
              "  <div id=\"df-baffbcd7-7b47-4d53-8c29-39fca64c4f78\">\n",
              "    <div class=\"colab-df-container\">\n",
              "      <div>\n",
              "<style scoped>\n",
              "    .dataframe tbody tr th:only-of-type {\n",
              "        vertical-align: middle;\n",
              "    }\n",
              "\n",
              "    .dataframe tbody tr th {\n",
              "        vertical-align: top;\n",
              "    }\n",
              "\n",
              "    .dataframe thead th {\n",
              "        text-align: right;\n",
              "    }\n",
              "</style>\n",
              "<table border=\"1\" class=\"dataframe\">\n",
              "  <thead>\n",
              "    <tr style=\"text-align: right;\">\n",
              "      <th></th>\n",
              "      <th>Satisfaction</th>\n",
              "      <th>Evaluation</th>\n",
              "      <th>Projects</th>\n",
              "      <th>Average_Montly_Hours</th>\n",
              "      <th>Years</th>\n",
              "      <th>Accident</th>\n",
              "      <th>Promotion</th>\n",
              "    </tr>\n",
              "    <tr>\n",
              "      <th>Turnover</th>\n",
              "      <th></th>\n",
              "      <th></th>\n",
              "      <th></th>\n",
              "      <th></th>\n",
              "      <th></th>\n",
              "      <th></th>\n",
              "      <th></th>\n",
              "    </tr>\n",
              "  </thead>\n",
              "  <tbody>\n",
              "    <tr>\n",
              "      <th>0</th>\n",
              "      <td>0.666810</td>\n",
              "      <td>0.715473</td>\n",
              "      <td>3.786664</td>\n",
              "      <td>199.060203</td>\n",
              "      <td>3.380032</td>\n",
              "      <td>0.175009</td>\n",
              "      <td>0.026251</td>\n",
              "    </tr>\n",
              "    <tr>\n",
              "      <th>1</th>\n",
              "      <td>0.440098</td>\n",
              "      <td>0.718113</td>\n",
              "      <td>3.855503</td>\n",
              "      <td>207.419210</td>\n",
              "      <td>3.876505</td>\n",
              "      <td>0.047326</td>\n",
              "      <td>0.005321</td>\n",
              "    </tr>\n",
              "  </tbody>\n",
              "</table>\n",
              "</div>\n",
              "      <button class=\"colab-df-convert\" onclick=\"convertToInteractive('df-baffbcd7-7b47-4d53-8c29-39fca64c4f78')\"\n",
              "              title=\"Convert this dataframe to an interactive table.\"\n",
              "              style=\"display:none;\">\n",
              "        \n",
              "  <svg xmlns=\"http://www.w3.org/2000/svg\" height=\"24px\"viewBox=\"0 0 24 24\"\n",
              "       width=\"24px\">\n",
              "    <path d=\"M0 0h24v24H0V0z\" fill=\"none\"/>\n",
              "    <path d=\"M18.56 5.44l.94 2.06.94-2.06 2.06-.94-2.06-.94-.94-2.06-.94 2.06-2.06.94zm-11 1L8.5 8.5l.94-2.06 2.06-.94-2.06-.94L8.5 2.5l-.94 2.06-2.06.94zm10 10l.94 2.06.94-2.06 2.06-.94-2.06-.94-.94-2.06-.94 2.06-2.06.94z\"/><path d=\"M17.41 7.96l-1.37-1.37c-.4-.4-.92-.59-1.43-.59-.52 0-1.04.2-1.43.59L10.3 9.45l-7.72 7.72c-.78.78-.78 2.05 0 2.83L4 21.41c.39.39.9.59 1.41.59.51 0 1.02-.2 1.41-.59l7.78-7.78 2.81-2.81c.8-.78.8-2.07 0-2.86zM5.41 20L4 18.59l7.72-7.72 1.47 1.35L5.41 20z\"/>\n",
              "  </svg>\n",
              "      </button>\n",
              "      \n",
              "  <style>\n",
              "    .colab-df-container {\n",
              "      display:flex;\n",
              "      flex-wrap:wrap;\n",
              "      gap: 12px;\n",
              "    }\n",
              "\n",
              "    .colab-df-convert {\n",
              "      background-color: #E8F0FE;\n",
              "      border: none;\n",
              "      border-radius: 50%;\n",
              "      cursor: pointer;\n",
              "      display: none;\n",
              "      fill: #1967D2;\n",
              "      height: 32px;\n",
              "      padding: 0 0 0 0;\n",
              "      width: 32px;\n",
              "    }\n",
              "\n",
              "    .colab-df-convert:hover {\n",
              "      background-color: #E2EBFA;\n",
              "      box-shadow: 0px 1px 2px rgba(60, 64, 67, 0.3), 0px 1px 3px 1px rgba(60, 64, 67, 0.15);\n",
              "      fill: #174EA6;\n",
              "    }\n",
              "\n",
              "    [theme=dark] .colab-df-convert {\n",
              "      background-color: #3B4455;\n",
              "      fill: #D2E3FC;\n",
              "    }\n",
              "\n",
              "    [theme=dark] .colab-df-convert:hover {\n",
              "      background-color: #434B5C;\n",
              "      box-shadow: 0px 1px 3px 1px rgba(0, 0, 0, 0.15);\n",
              "      filter: drop-shadow(0px 1px 2px rgba(0, 0, 0, 0.3));\n",
              "      fill: #FFFFFF;\n",
              "    }\n",
              "  </style>\n",
              "\n",
              "      <script>\n",
              "        const buttonEl =\n",
              "          document.querySelector('#df-baffbcd7-7b47-4d53-8c29-39fca64c4f78 button.colab-df-convert');\n",
              "        buttonEl.style.display =\n",
              "          google.colab.kernel.accessAllowed ? 'block' : 'none';\n",
              "\n",
              "        async function convertToInteractive(key) {\n",
              "          const element = document.querySelector('#df-baffbcd7-7b47-4d53-8c29-39fca64c4f78');\n",
              "          const dataTable =\n",
              "            await google.colab.kernel.invokeFunction('convertToInteractive',\n",
              "                                                     [key], {});\n",
              "          if (!dataTable) return;\n",
              "\n",
              "          const docLinkHtml = 'Like what you see? Visit the ' +\n",
              "            '<a target=\"_blank\" href=https://colab.research.google.com/notebooks/data_table.ipynb>data table notebook</a>'\n",
              "            + ' to learn more about interactive tables.';\n",
              "          element.innerHTML = '';\n",
              "          dataTable['output_type'] = 'display_data';\n",
              "          await google.colab.output.renderOutput(dataTable, element);\n",
              "          const docLink = document.createElement('div');\n",
              "          docLink.innerHTML = docLinkHtml;\n",
              "          element.appendChild(docLink);\n",
              "        }\n",
              "      </script>\n",
              "    </div>\n",
              "  </div>\n",
              "  "
            ],
            "text/plain": [
              "          Satisfaction  Evaluation  Projects  ...     Years  Accident  Promotion\n",
              "Turnover                                      ...                               \n",
              "0             0.666810    0.715473  3.786664  ...  3.380032  0.175009   0.026251\n",
              "1             0.440098    0.718113  3.855503  ...  3.876505  0.047326   0.005321\n",
              "\n",
              "[2 rows x 7 columns]"
            ]
          },
          "metadata": {},
          "execution_count": 10
        }
      ],
      "source": [
        "TurnOver = data.groupby('Turnover')\n",
        "TurnOver.mean()"
      ]
    },
    {
      "cell_type": "markdown",
      "metadata": {
        "id": "dkUgtORibv4_"
      },
      "source": [
        "Employees that are less than 45% satisfied tend to leave the company compared to those who are atleast 65% satisfied. Also notice that it is those who work for long hours and are rarely promoted are the ones leaving the company."
      ]
    },
    {
      "cell_type": "code",
      "execution_count": 11,
      "metadata": {
        "colab": {
          "base_uri": "https://localhost:8080/",
          "height": 1000
        },
        "id": "9RsN9h7YbXFH",
        "outputId": "e3a0442c-d817-488b-b041-ec0cd9bfd601"
      },
      "outputs": [
        {
          "output_type": "display_data",
          "data": {
            "image/png": "[encoded data removed]",
            "text/plain": [
              "<Figure size 1440x1440 with 9 Axes>"
            ]
          },
          "metadata": {
            "needs_background": "light"
          }
        }
      ],
      "source": [
        "data.hist(figsize=(20,20))\n",
        "plt.show()"
      ]
    },
    {
      "cell_type": "code",
      "execution_count": 12,
      "metadata": {
        "colab": {
          "base_uri": "https://localhost:8080/",
          "height": 656
        },
        "id": "cqVI2gqBfl73",
        "outputId": "4b005c6f-d3d5-4147-ad54-1c5f6c01ab8f"
      },
      "outputs": [
        {
          "output_type": "execute_result",
          "data": {
            "text/html": [
              "\n",
              "  <div id=\"df-801db6d0-1f69-4a68-b3e9-f0698bbf99ee\">\n",
              "    <div class=\"colab-df-container\">\n",
              "      <div>\n",
              "<style scoped>\n",
              "    .dataframe tbody tr th:only-of-type {\n",
              "        vertical-align: middle;\n",
              "    }\n",
              "\n",
              "    .dataframe tbody tr th {\n",
              "        vertical-align: top;\n",
              "    }\n",
              "\n",
              "    .dataframe thead th {\n",
              "        text-align: right;\n",
              "    }\n",
              "</style>\n",
              "<table border=\"1\" class=\"dataframe\">\n",
              "  <thead>\n",
              "    <tr style=\"text-align: right;\">\n",
              "      <th></th>\n",
              "      <th>Satisfaction</th>\n",
              "      <th>Evaluation</th>\n",
              "      <th>Projects</th>\n",
              "      <th>Average_Montly_Hours</th>\n",
              "      <th>Years</th>\n",
              "      <th>Accident</th>\n",
              "      <th>Turnover</th>\n",
              "      <th>Promotion</th>\n",
              "    </tr>\n",
              "  </thead>\n",
              "  <tbody>\n",
              "    <tr>\n",
              "      <th>Satisfaction</th>\n",
              "      <td>1.000000</td>\n",
              "      <td>0.105021</td>\n",
              "      <td>-0.142970</td>\n",
              "      <td>-0.020048</td>\n",
              "      <td>-0.100866</td>\n",
              "      <td>0.058697</td>\n",
              "      <td>-0.388375</td>\n",
              "      <td>0.025605</td>\n",
              "    </tr>\n",
              "    <tr>\n",
              "      <th>Evaluation</th>\n",
              "      <td>0.105021</td>\n",
              "      <td>1.000000</td>\n",
              "      <td>0.349333</td>\n",
              "      <td>0.339742</td>\n",
              "      <td>0.131591</td>\n",
              "      <td>-0.007104</td>\n",
              "      <td>0.006567</td>\n",
              "      <td>-0.008684</td>\n",
              "    </tr>\n",
              "    <tr>\n",
              "      <th>Projects</th>\n",
              "      <td>-0.142970</td>\n",
              "      <td>0.349333</td>\n",
              "      <td>1.000000</td>\n",
              "      <td>0.417211</td>\n",
              "      <td>0.196786</td>\n",
              "      <td>-0.004741</td>\n",
              "      <td>0.023787</td>\n",
              "      <td>-0.006064</td>\n",
              "    </tr>\n",
              "    <tr>\n",
              "      <th>Average_Montly_Hours</th>\n",
              "      <td>-0.020048</td>\n",
              "      <td>0.339742</td>\n",
              "      <td>0.417211</td>\n",
              "      <td>1.000000</td>\n",
              "      <td>0.127755</td>\n",
              "      <td>-0.010143</td>\n",
              "      <td>0.071287</td>\n",
              "      <td>-0.003544</td>\n",
              "    </tr>\n",
              "    <tr>\n",
              "      <th>Years</th>\n",
              "      <td>-0.100866</td>\n",
              "      <td>0.131591</td>\n",
              "      <td>0.196786</td>\n",
              "      <td>0.127755</td>\n",
              "      <td>1.000000</td>\n",
              "      <td>0.002120</td>\n",
              "      <td>0.144822</td>\n",
              "      <td>0.067433</td>\n",
              "    </tr>\n",
              "    <tr>\n",
              "      <th>Accident</th>\n",
              "      <td>0.058697</td>\n",
              "      <td>-0.007104</td>\n",
              "      <td>-0.004741</td>\n",
              "      <td>-0.010143</td>\n",
              "      <td>0.002120</td>\n",
              "      <td>1.000000</td>\n",
              "      <td>-0.154622</td>\n",
              "      <td>0.039245</td>\n",
              "    </tr>\n",
              "    <tr>\n",
              "      <th>Turnover</th>\n",
              "      <td>-0.388375</td>\n",
              "      <td>0.006567</td>\n",
              "      <td>0.023787</td>\n",
              "      <td>0.071287</td>\n",
              "      <td>0.144822</td>\n",
              "      <td>-0.154622</td>\n",
              "      <td>1.000000</td>\n",
              "      <td>-0.061788</td>\n",
              "    </tr>\n",
              "    <tr>\n",
              "      <th>Promotion</th>\n",
              "      <td>0.025605</td>\n",
              "      <td>-0.008684</td>\n",
              "      <td>-0.006064</td>\n",
              "      <td>-0.003544</td>\n",
              "      <td>0.067433</td>\n",
              "      <td>0.039245</td>\n",
              "      <td>-0.061788</td>\n",
              "      <td>1.000000</td>\n",
              "    </tr>\n",
              "  </tbody>\n",
              "</table>\n",
              "</div>\n",
              "      <button class=\"colab-df-convert\" onclick=\"convertToInteractive('df-801db6d0-1f69-4a68-b3e9-f0698bbf99ee')\"\n",
              "              title=\"Convert this dataframe to an interactive table.\"\n",
              "              style=\"display:none;\">\n",
              "        \n",
              "  <svg xmlns=\"http://www.w3.org/2000/svg\" height=\"24px\"viewBox=\"0 0 24 24\"\n",
              "       width=\"24px\">\n",
              "    <path d=\"M0 0h24v24H0V0z\" fill=\"none\"/>\n",
              "    <path d=\"M18.56 5.44l.94 2.06.94-2.06 2.06-.94-2.06-.94-.94-2.06-.94 2.06-2.06.94zm-11 1L8.5 8.5l.94-2.06 2.06-.94-2.06-.94L8.5 2.5l-.94 2.06-2.06.94zm10 10l.94 2.06.94-2.06 2.06-.94-2.06-.94-.94-2.06-.94 2.06-2.06.94z\"/><path d=\"M17.41 7.96l-1.37-1.37c-.4-.4-.92-.59-1.43-.59-.52 0-1.04.2-1.43.59L10.3 9.45l-7.72 7.72c-.78.78-.78 2.05 0 2.83L4 21.41c.39.39.9.59 1.41.59.51 0 1.02-.2 1.41-.59l7.78-7.78 2.81-2.81c.8-.78.8-2.07 0-2.86zM5.41 20L4 18.59l7.72-7.72 1.47 1.35L5.41 20z\"/>\n",
              "  </svg>\n",
              "      </button>\n",
              "      \n",
              "  <style>\n",
              "    .colab-df-container {\n",
              "      display:flex;\n",
              "      flex-wrap:wrap;\n",
              "      gap: 12px;\n",
              "    }\n",
              "\n",
              "    .colab-df-convert {\n",
              "      background-color: #E8F0FE;\n",
              "      border: none;\n",
              "      border-radius: 50%;\n",
              "      cursor: pointer;\n",
              "      display: none;\n",
              "      fill: #1967D2;\n",
              "      height: 32px;\n",
              "      padding: 0 0 0 0;\n",
              "      width: 32px;\n",
              "    }\n",
              "\n",
              "    .colab-df-convert:hover {\n",
              "      background-color: #E2EBFA;\n",
              "      box-shadow: 0px 1px 2px rgba(60, 64, 67, 0.3), 0px 1px 3px 1px rgba(60, 64, 67, 0.15);\n",
              "      fill: #174EA6;\n",
              "    }\n",
              "\n",
              "    [theme=dark] .colab-df-convert {\n",
              "      background-color: #3B4455;\n",
              "      fill: #D2E3FC;\n",
              "    }\n",
              "\n",
              "    [theme=dark] .colab-df-convert:hover {\n",
              "      background-color: #434B5C;\n",
              "      box-shadow: 0px 1px 3px 1px rgba(0, 0, 0, 0.15);\n",
              "      filter: drop-shadow(0px 1px 2px rgba(0, 0, 0, 0.3));\n",
              "      fill: #FFFFFF;\n",
              "    }\n",
              "  </style>\n",
              "\n",
              "      <script>\n",
              "        const buttonEl =\n",
              "          document.querySelector('#df-801db6d0-1f69-4a68-b3e9-f0698bbf99ee button.colab-df-convert');\n",
              "        buttonEl.style.display =\n",
              "          google.colab.kernel.accessAllowed ? 'block' : 'none';\n",
              "\n",
              "        async function convertToInteractive(key) {\n",
              "          const element = document.querySelector('#df-801db6d0-1f69-4a68-b3e9-f0698bbf99ee');\n",
              "          const dataTable =\n",
              "            await google.colab.kernel.invokeFunction('convertToInteractive',\n",
              "                                                     [key], {});\n",
              "          if (!dataTable) return;\n",
              "\n",
              "          const docLinkHtml = 'Like what you see? Visit the ' +\n",
              "            '<a target=\"_blank\" href=https://colab.research.google.com/notebooks/data_table.ipynb>data table notebook</a>'\n",
              "            + ' to learn more about interactive tables.';\n",
              "          element.innerHTML = '';\n",
              "          dataTable['output_type'] = 'display_data';\n",
              "          await google.colab.output.renderOutput(dataTable, element);\n",
              "          const docLink = document.createElement('div');\n",
              "          docLink.innerHTML = docLinkHtml;\n",
              "          element.appendChild(docLink);\n",
              "        }\n",
              "      </script>\n",
              "    </div>\n",
              "  </div>\n",
              "  "
            ],
            "text/plain": [
              "                      Satisfaction  Evaluation  ...  Turnover  Promotion\n",
              "Satisfaction              1.000000    0.105021  ... -0.388375   0.025605\n",
              "Evaluation                0.105021    1.000000  ...  0.006567  -0.008684\n",
              "Projects                 -0.142970    0.349333  ...  0.023787  -0.006064\n",
              "Average_Montly_Hours     -0.020048    0.339742  ...  0.071287  -0.003544\n",
              "Years                    -0.100866    0.131591  ...  0.144822   0.067433\n",
              "Accident                  0.058697   -0.007104  ... -0.154622   0.039245\n",
              "Turnover                 -0.388375    0.006567  ...  1.000000  -0.061788\n",
              "Promotion                 0.025605   -0.008684  ... -0.061788   1.000000\n",
              "\n",
              "[8 rows x 8 columns]"
            ]
          },
          "metadata": {},
          "execution_count": 12
        },
        {
          "output_type": "display_data",
          "data": {
            "image/png": "[encoded data removed]",
            "text/plain": [
              "<Figure size 432x288 with 2 Axes>"
            ]
          },
          "metadata": {
            "needs_background": "light"
          }
        }
      ],
      "source": [
        "#Correlation Matrix\n",
        "corr = data.corr()\n",
        "corr = (corr)\n",
        "sns.heatmap(corr, \n",
        "            xticklabels=corr.columns.values,\n",
        "            yticklabels=corr.columns.values)\n",
        "\n",
        "corr"
      ]
    },
    {
      "cell_type": "code",
      "execution_count": 13,
      "metadata": {
        "colab": {
          "base_uri": "https://localhost:8080/",
          "height": 604
        },
        "id": "WoljymdRf4DY",
        "outputId": "f454d549-ab7b-45ef-91c4-8cad089c698b"
      },
      "outputs": [
        {
          "output_type": "execute_result",
          "data": {
            "text/plain": [
              "<matplotlib.axes._subplots.AxesSubplot at 0x7f2c556770d0>"
            ]
          },
          "metadata": {},
          "execution_count": 13
        },
        {
          "output_type": "display_data",
          "data": {
            "image/png": "[encoded data removed]",
            "text/plain": [
              "<Figure size 1080x576 with 1 Axes>"
            ]
          },
          "metadata": {
            "needs_background": "light"
          }
        }
      ],
      "source": [
        "#Correlation of \"Turnover\" with other variables:\n",
        "plt.figure(figsize=(15,8))\n",
        "data.corr()['Turnover'].sort_values(ascending = False).plot(kind='bar')"
      ]
    },
    {
      "cell_type": "markdown",
      "metadata": {
        "id": "0hKLym84gjir"
      },
      "source": [
        "From the correlation heatmap, we can care to look at the variables(Average_Monthly_Hours, Projects and Evaluation). The 3 variables are positively correlated with each other, and this means, employee who worked for many hours and a lot of projects were highly evaluated.\n",
        "\n",
        "However number of years at the company and Average monthly hours seem to be positively correlated with Turnover. While, Promotion, Accidents seem to be negatively correlated with Turnover. Satisfaction is the most negatively correlated variable with turnover, this implies that the less satisfied employees tend to leave this company."
      ]
    },
    {
      "cell_type": "markdown",
      "metadata": {
        "id": "vDMFOkzXCSYB"
      },
      "source": [
        "####**Turnover Vs Department**"
      ]
    },
    {
      "cell_type": "code",
      "execution_count": 14,
      "metadata": {
        "colab": {
          "base_uri": "https://localhost:8080/"
        },
        "id": "D8pu-fBli6hl",
        "outputId": "97817e44-d8f1-44bc-f7cc-a611732930e8"
      },
      "outputs": [
        {
          "output_type": "execute_result",
          "data": {
            "text/plain": [
              "sales          4140\n",
              "technical      2720\n",
              "support        2229\n",
              "IT             1227\n",
              "product_mng     902\n",
              "marketing       858\n",
              "RandD           787\n",
              "accounting      767\n",
              "hr              739\n",
              "management      630\n",
              "Name: Department, dtype: int64"
            ]
          },
          "metadata": {},
          "execution_count": 14
        }
      ],
      "source": [
        "# The organisation consists of several departments\n",
        "data['Department'].value_counts()"
      ]
    },
    {
      "cell_type": "code",
      "execution_count": 15,
      "metadata": {
        "colab": {
          "base_uri": "https://localhost:8080/",
          "height": 299
        },
        "id": "1Mmxumm7mFYx",
        "outputId": "a3181379-6bc8-47ff-a5d8-73e03c7e4688"
      },
      "outputs": [
        {
          "output_type": "execute_result",
          "data": {
            "text/plain": [
              "Text(0.5, 1.0, '# of Employees by Department')"
            ]
          },
          "metadata": {},
          "execution_count": 15
        },
        {
          "output_type": "display_data",
          "data": {
            "image/png": "[encoded data removed]",
            "text/plain": [
              "<Figure size 432x288 with 1 Axes>"
            ]
          },
          "metadata": {
            "needs_background": "light"
          }
        }
      ],
      "source": [
        "ax = data['Department'].value_counts().plot(kind = 'bar',rot = 0, width = 0.3)\n",
        "ax.set_ylabel('# of Employees')\n",
        "ax.set_title('# of Employees by Department')"
      ]
    },
    {
      "cell_type": "markdown",
      "metadata": {
        "id": "j6psTbwEjSuW"
      },
      "source": [
        "The company consists of several departments with most employees in the sales department, followed by the technical department. Management has the least number of employees."
      ]
    },
    {
      "cell_type": "code",
      "execution_count": 16,
      "metadata": {
        "colab": {
          "base_uri": "https://localhost:8080/",
          "height": 623
        },
        "id": "x-izWRIijsmk",
        "outputId": "eb741423-e855-4180-dff0-87dbb5ba615c"
      },
      "outputs": [
        {
          "output_type": "display_data",
          "data": {
            "image/png": "[encoded data removed]",
            "text/plain": [
              "<Figure size 1008x720 with 1 Axes>"
            ]
          },
          "metadata": {
            "needs_background": "light"
          }
        }
      ],
      "source": [
        "colors = ['#4D3425','#E4512B']\n",
        "Depart_Turnover = data.groupby(['Department','Turnover']).size().unstack()\n",
        "\n",
        "ax = (Depart_Turnover.T*100.0 / Depart_Turnover.T.sum()).T.plot(kind='bar',\n",
        "                                                                width = 0.3,\n",
        "                                                                stacked = True,\n",
        "                                                                rot = 0, \n",
        "                                                                figsize = (14,10),\n",
        "                                                                color = colors)\n",
        "ax.yaxis.set_major_formatter(mtick.PercentFormatter())\n",
        "ax.legend(loc='best',prop={'size':14},title = 'Turnover')\n",
        "ax.set_ylabel('% Employee',size = 14)\n",
        "ax.set_title('Turnover by Department',size = 14)\n",
        "\n",
        "# Code to add the data labels on the stacked bar chart\n",
        "for p in ax.patches:\n",
        "    width, height = p.get_width(), p.get_height()\n",
        "    x, y = p.get_xy() \n",
        "    ax.annotate('{:.0f}%'.format(height), (p.get_x()+.25*width, p.get_y()+.4*height),\n",
        "                color = 'white',\n",
        "               weight = 'bold',\n",
        "               size = 14)"
      ]
    },
    {
      "cell_type": "markdown",
      "metadata": {
        "id": "Jxb3HpA5jmo_"
      },
      "source": [
        "The HR, Accounting, technical, support and sales department are the leading departments in employees churning rate respectively. The management department has the least turnover. \n",
        "With more information on each department, we can exactly know the main cause for employee turnover in each department."
      ]
    },
    {
      "cell_type": "markdown",
      "metadata": {
        "id": "5zSF0x8nCeiH"
      },
      "source": [
        "####**Turnover Vs Salary**"
      ]
    },
    {
      "cell_type": "code",
      "execution_count": 17,
      "metadata": {
        "colab": {
          "base_uri": "https://localhost:8080/"
        },
        "id": "SMdBOG4JrfIH",
        "outputId": "6c3c3481-8e4c-4ea8-a246-0b8f5fe8df9d"
      },
      "outputs": [
        {
          "output_type": "execute_result",
          "data": {
            "text/plain": [
              "low       7316\n",
              "medium    6446\n",
              "high      1237\n",
              "Name: Salary, dtype: int64"
            ]
          },
          "metadata": {},
          "execution_count": 17
        }
      ],
      "source": [
        "data['Salary'].value_counts()"
      ]
    },
    {
      "cell_type": "code",
      "execution_count": 18,
      "metadata": {
        "colab": {
          "base_uri": "https://localhost:8080/",
          "height": 298
        },
        "id": "w4IJn_6osUi8",
        "outputId": "9f175816-c0cc-4614-c929-0bc3c88218be"
      },
      "outputs": [
        {
          "output_type": "execute_result",
          "data": {
            "text/plain": [
              "Text(0.5, 1.0, '# of Employees by Salary')"
            ]
          },
          "metadata": {},
          "execution_count": 18
        },
        {
          "output_type": "display_data",
          "data": {
            "image/png": "[encoded data removed]",
            "text/plain": [
              "<Figure size 432x288 with 1 Axes>"
            ]
          },
          "metadata": {
            "needs_background": "light"
          }
        }
      ],
      "source": [
        "ax = data['Salary'].value_counts().plot(kind = 'bar',rot = 0, width = 0.3)\n",
        "ax.set_ylabel('# of Employees')\n",
        "ax.set_title('# of Employees by Salary')"
      ]
    },
    {
      "cell_type": "markdown",
      "metadata": {
        "id": "rYAuJUD3sj0r"
      },
      "source": [
        "The salary is categorized in three groups, most of the employees have a low salary followed by the medium. Only a small number of employees were on a high salary."
      ]
    },
    {
      "cell_type": "code",
      "execution_count": 19,
      "metadata": {
        "colab": {
          "base_uri": "https://localhost:8080/",
          "height": 623
        },
        "id": "oVlAQRvwtQCU",
        "outputId": "912151f6-c192-4e3b-9a06-86ad64ba2892"
      },
      "outputs": [
        {
          "output_type": "display_data",
          "data": {
            "image/png": "[encoded data removed]",
            "text/plain": [
              "<Figure size 1008x720 with 1 Axes>"
            ]
          },
          "metadata": {
            "needs_background": "light"
          }
        }
      ],
      "source": [
        "colors = ['#4D3425','#E4512B']\n",
        "Salary_Turnover = data.groupby(['Salary','Turnover']).size().unstack()\n",
        "\n",
        "ax = (Salary_Turnover.T*100.0 / Salary_Turnover.T.sum()).T.plot(kind='bar',\n",
        "                                                                width = 0.3,\n",
        "                                                                stacked = True,\n",
        "                                                                rot = 0, \n",
        "                                                                figsize = (14,10),\n",
        "                                                                color = colors)\n",
        "ax.yaxis.set_major_formatter(mtick.PercentFormatter())\n",
        "ax.legend(loc='best',prop={'size':14},title = 'Turnover')\n",
        "ax.set_ylabel('% Employee',size = 14)\n",
        "ax.set_title('Turnover by Salary',size = 14)\n",
        "\n",
        "# Code to add the data labels on the stacked bar chart\n",
        "for p in ax.patches:\n",
        "    width, height = p.get_width(), p.get_height()\n",
        "    x, y = p.get_xy() \n",
        "    ax.annotate('{:.0f}%'.format(height), (p.get_x()+.25*width, p.get_y()+.4*height),\n",
        "                color = 'white',\n",
        "               weight = 'bold',\n",
        "               size = 14)"
      ]
    },
    {
      "cell_type": "markdown",
      "metadata": {
        "id": "8v2OddWVukTa"
      },
      "source": [
        "High number of turnover is recorded with employees who are in the low salary category, while only 7% of employees with a high salary leave this company."
      ]
    },
    {
      "cell_type": "markdown",
      "metadata": {
        "id": "0AIlIO_-Co9I"
      },
      "source": [
        "####**Turnover Vs Projects**"
      ]
    },
    {
      "cell_type": "code",
      "execution_count": 20,
      "metadata": {
        "colab": {
          "base_uri": "https://localhost:8080/"
        },
        "id": "-ltvXEPOwRmg",
        "outputId": "d5ffaa9a-d5a4-44f2-f39d-96bc7476cc43"
      },
      "outputs": [
        {
          "output_type": "execute_result",
          "data": {
            "text/plain": [
              "4    4365\n",
              "3    4055\n",
              "5    2761\n",
              "2    2388\n",
              "6    1174\n",
              "7     256\n",
              "Name: Projects, dtype: int64"
            ]
          },
          "metadata": {},
          "execution_count": 20
        }
      ],
      "source": [
        "data['Projects'].value_counts()"
      ]
    },
    {
      "cell_type": "code",
      "execution_count": 21,
      "metadata": {
        "colab": {
          "base_uri": "https://localhost:8080/",
          "height": 298
        },
        "id": "iJUML0cXwczl",
        "outputId": "f65b0929-704e-41a0-d7d1-095543c67872"
      },
      "outputs": [
        {
          "output_type": "execute_result",
          "data": {
            "text/plain": [
              "Text(0.5, 1.0, '# of Employees by Projects')"
            ]
          },
          "metadata": {},
          "execution_count": 21
        },
        {
          "output_type": "display_data",
          "data": {
            "image/png": "[encoded data removed]",
            "text/plain": [
              "<Figure size 432x288 with 1 Axes>"
            ]
          },
          "metadata": {
            "needs_background": "light"
          }
        }
      ],
      "source": [
        "ax = data['Projects'].value_counts().plot(kind = 'bar',rot = 0, width = 0.3)\n",
        "ax.set_ylabel('# of Employees')\n",
        "ax.set_title('# of Employees by Projects')"
      ]
    },
    {
      "cell_type": "code",
      "execution_count": 22,
      "metadata": {
        "colab": {
          "base_uri": "https://localhost:8080/",
          "height": 623
        },
        "id": "Cf6uiemuwpwz",
        "outputId": "5c85349a-aed8-49f5-e515-5b711a0a3c7b"
      },
      "outputs": [
        {
          "output_type": "display_data",
          "data": {
            "image/png": "[encoded data removed]",
            "text/plain": [
              "<Figure size 1008x720 with 1 Axes>"
            ]
          },
          "metadata": {
            "needs_background": "light"
          }
        }
      ],
      "source": [
        "colors = ['#4D3425','#E4512B']\n",
        "Projects_Turnover = data.groupby(['Projects','Turnover']).size().unstack()\n",
        "\n",
        "ax = (Projects_Turnover.T*100.0 / Projects_Turnover.T.sum()).T.plot(kind='bar',\n",
        "                                                                width = 0.3,\n",
        "                                                                stacked = True,\n",
        "                                                                rot = 0, \n",
        "                                                                figsize = (14,10),\n",
        "                                                                color = colors)\n",
        "ax.yaxis.set_major_formatter(mtick.PercentFormatter())\n",
        "ax.legend(loc='best',prop={'size':14},title = 'Turnover')\n",
        "ax.set_ylabel('% Employee',size = 14)\n",
        "ax.set_title('Turnover by Projects',size = 14)\n",
        "\n",
        "# Code to add the data labels on the stacked bar chart\n",
        "for p in ax.patches:\n",
        "    width, height = p.get_width(), p.get_height()\n",
        "    x, y = p.get_xy() \n",
        "    ax.annotate('{:.0f}%'.format(height), (p.get_x()+.25*width, p.get_y()+.4*height),\n",
        "                color = 'white',\n",
        "               weight = 'bold',\n",
        "               size = 14)"
      ]
    },
    {
      "cell_type": "markdown",
      "metadata": {
        "id": "79RPXho1xMky"
      },
      "source": [
        "More than half of the employees with 2,6, and 7 projects are leaving the company, interestingly, all the employees with 7 projects leave the company, followed by 66% of those with only 2 projects. Many employees who do not leave the company have 3,4 and 5 projects respectively."
      ]
    },
    {
      "cell_type": "markdown",
      "metadata": {
        "id": "DEf0XLWuELb6"
      },
      "source": [
        "####**Turnover Vs Years**"
      ]
    },
    {
      "cell_type": "code",
      "execution_count": 23,
      "metadata": {
        "colab": {
          "base_uri": "https://localhost:8080/"
        },
        "id": "uC4Hj8WoDNAn",
        "outputId": "0260e8c5-d27c-4fa2-b4a1-774cb91d8dee"
      },
      "outputs": [
        {
          "output_type": "execute_result",
          "data": {
            "text/plain": [
              "3     6443\n",
              "2     3244\n",
              "4     2557\n",
              "5     1473\n",
              "6      718\n",
              "10     214\n",
              "7      188\n",
              "8      162\n",
              "Name: Years, dtype: int64"
            ]
          },
          "metadata": {},
          "execution_count": 23
        }
      ],
      "source": [
        "data['Years'].value_counts()"
      ]
    },
    {
      "cell_type": "code",
      "execution_count": 24,
      "metadata": {
        "colab": {
          "base_uri": "https://localhost:8080/",
          "height": 298
        },
        "id": "YZ9jawtzDUGC",
        "outputId": "74854c4d-09a4-4b7c-ee6e-beea814d7616"
      },
      "outputs": [
        {
          "output_type": "execute_result",
          "data": {
            "text/plain": [
              "Text(0.5, 1.0, '# of Employees by Years')"
            ]
          },
          "metadata": {},
          "execution_count": 24
        },
        {
          "output_type": "display_data",
          "data": {
            "image/png": "[encoded data removed]",
            "text/plain": [
              "<Figure size 432x288 with 1 Axes>"
            ]
          },
          "metadata": {
            "needs_background": "light"
          }
        }
      ],
      "source": [
        "ax = data['Years'].value_counts().plot(kind = 'bar',rot = 0, width = 0.3)\n",
        "ax.set_ylabel('# of Employees')\n",
        "ax.set_title('# of Employees by Years')"
      ]
    },
    {
      "cell_type": "code",
      "execution_count": 25,
      "metadata": {
        "colab": {
          "base_uri": "https://localhost:8080/",
          "height": 623
        },
        "id": "qXFhjxPQDcq2",
        "outputId": "7bbfc1aa-4951-426e-e47a-778c83a0a782"
      },
      "outputs": [
        {
          "output_type": "display_data",
          "data": {
            "image/png": "[encoded data removed]",
            "text/plain": [
              "<Figure size 1008x720 with 1 Axes>"
            ]
          },
          "metadata": {
            "needs_background": "light"
          }
        }
      ],
      "source": [
        "colors = ['#4D3425','#E4512B']\n",
        "Years_Turnover = data.groupby(['Years','Turnover']).size().unstack()\n",
        "\n",
        "ax = (Years_Turnover.T*100.0 / Years_Turnover.T.sum()).T.plot(kind='bar',\n",
        "                                                                width = 0.3,\n",
        "                                                                stacked = True,\n",
        "                                                                rot = 0, \n",
        "                                                                figsize = (14,10),\n",
        "                                                                color = colors)\n",
        "ax.yaxis.set_major_formatter(mtick.PercentFormatter())\n",
        "ax.legend(loc='best',prop={'size':14},title = 'Turnover')\n",
        "ax.set_ylabel('% Employee',size = 14)\n",
        "ax.set_title('Turnover by Years',size = 14)\n",
        "\n",
        "# Code to add the data labels on the stacked bar chart\n",
        "for p in ax.patches:\n",
        "    width, height = p.get_width(), p.get_height()\n",
        "    x, y = p.get_xy() \n",
        "    ax.annotate('{:.0f}%'.format(height), (p.get_x()+.25*width, p.get_y()+.4*height),\n",
        "                color = 'white',\n",
        "               weight = 'bold',\n",
        "               size = 14)"
      ]
    },
    {
      "cell_type": "markdown",
      "metadata": {
        "id": "Swpg88eiD1lk"
      },
      "source": [
        "Notice that employees leaving the company have worked for 3 to 6 yrs, with most of them working for 5 years,"
      ]
    },
    {
      "cell_type": "markdown",
      "metadata": {
        "id": "gCURIioOCvVV"
      },
      "source": [
        "####**Turnover Vs Evaluation**"
      ]
    },
    {
      "cell_type": "code",
      "execution_count": 26,
      "metadata": {
        "colab": {
          "base_uri": "https://localhost:8080/",
          "height": 312
        },
        "id": "xRoKi2tPyqXB",
        "outputId": "30378691-6c16-4dba-972b-f3a74739a744"
      },
      "outputs": [
        {
          "output_type": "execute_result",
          "data": {
            "text/plain": [
              "Text(0.5, 1.0, 'Employee Evaluation Distribution - Turnover V.S. No Turnover')"
            ]
          },
          "metadata": {},
          "execution_count": 26
        },
        {
          "output_type": "display_data",
          "data": {
            "image/png": "[encoded data removed]",
            "text/plain": [
              "<Figure size 1080x288 with 1 Axes>"
            ]
          },
          "metadata": {
            "needs_background": "light"
          }
        }
      ],
      "source": [
        "# Kernel Density Plot\n",
        "fig = plt.figure(figsize=(15,4),)\n",
        "ax=sns.kdeplot(data.loc[(data['Turnover'] == 0),'Evaluation'] , color='g',shade=True,label='no turnover')\n",
        "ax=sns.kdeplot(data.loc[(data['Turnover'] == 1),'Evaluation'] , color='r',shade=True, label='turnover')\n",
        "ax.set(xlabel='Employee Evaluation', ylabel='Frequency')\n",
        "plt.title('Employee Evaluation Distribution - Turnover V.S. No Turnover')"
      ]
    },
    {
      "cell_type": "markdown",
      "metadata": {
        "id": "JPaqHl_Z-zgx"
      },
      "source": [
        "We can se that employees being evaluated in the ranges 0.4-0.6 and 0.8-1.0 tend to leave the company. This represents a bimodal distribution, meaning both employees who are low and highly evaluated leave the company leaving the best evaluation spot in the range 0.6-0.8."
      ]
    },
    {
      "cell_type": "markdown",
      "metadata": {
        "id": "g2wjraQ8C0Gv"
      },
      "source": [
        "####**Turnover Vs Average Monthly Hours**"
      ]
    },
    {
      "cell_type": "code",
      "execution_count": 27,
      "metadata": {
        "colab": {
          "base_uri": "https://localhost:8080/",
          "height": 312
        },
        "id": "564t_HpHyu4d",
        "outputId": "9ff424d8-bd99-481b-8fcc-06652442290a"
      },
      "outputs": [
        {
          "output_type": "execute_result",
          "data": {
            "text/plain": [
              "Text(0.5, 1.0, 'Employee AverageMonthly Hours Distribution - Turnover V.S. No Turnover')"
            ]
          },
          "metadata": {},
          "execution_count": 27
        },
        {
          "output_type": "display_data",
          "data": {
            "image/png": "[encoded data removed]",
            "text/plain": [
              "<Figure size 1080x288 with 1 Axes>"
            ]
          },
          "metadata": {
            "needs_background": "light"
          }
        }
      ],
      "source": [
        "#KDEPlot: Kernel Density Estimate Plot\n",
        "fig = plt.figure(figsize=(15,4))\n",
        "ax=sns.kdeplot(data.loc[(data['Turnover'] == 0),'Average_Montly_Hours'] , color='g',shade=True, label='no turnover')\n",
        "ax=sns.kdeplot(data.loc[(data['Turnover'] == 1),'Average_Montly_Hours'] , color='r',shade=True, label='turnover')\n",
        "ax.set(xlabel='Employee Average Monthly Hours', ylabel='Frequency')\n",
        "plt.title('Employee AverageMonthly Hours Distribution - Turnover V.S. No Turnover')"
      ]
    },
    {
      "cell_type": "markdown",
      "metadata": {
        "id": "iBZPuhSzAW60"
      },
      "source": [
        "We can se that employees leaving the company are either underworked(less 150hrs) or overworked(more than 250hrs)."
      ]
    },
    {
      "cell_type": "markdown",
      "metadata": {
        "id": "qhMjy7B4C7vR"
      },
      "source": [
        "####**Turnover Vs Satisfaction**"
      ]
    },
    {
      "cell_type": "code",
      "execution_count": 28,
      "metadata": {
        "colab": {
          "base_uri": "https://localhost:8080/",
          "height": 312
        },
        "id": "1kVvnZnty3Wp",
        "outputId": "8160d739-bb63-43fd-95d5-c8164ab4888f"
      },
      "outputs": [
        {
          "output_type": "execute_result",
          "data": {
            "text/plain": [
              "Text(0.5, 1.0, 'Employee Satisfaction Distribution - Turnover V.S. No Turnover')"
            ]
          },
          "metadata": {},
          "execution_count": 28
        },
        {
          "output_type": "display_data",
          "data": {
            "image/png": "[encoded data removed]",
            "text/plain": [
              "<Figure size 1080x288 with 1 Axes>"
            ]
          },
          "metadata": {
            "needs_background": "light"
          }
        }
      ],
      "source": [
        "#KDEPlot: Kernel Density Estimate Plot\n",
        "fig = plt.figure(figsize=(15,4))\n",
        "ax=sns.kdeplot(data.loc[(data['Turnover'] == 0),'Satisfaction'] , color='g',shade=True, label='no turnover')\n",
        "ax=sns.kdeplot(data.loc[(data['Turnover'] == 1),'Satisfaction'] , color='r',shade=True, label='turnover')\n",
        "plt.title('Employee Satisfaction Distribution - Turnover V.S. No Turnover')"
      ]
    },
    {
      "cell_type": "markdown",
      "metadata": {
        "id": "lOkYQ15XBRaQ"
      },
      "source": [
        "We can see a trimodal distribution showing that employees who were less satisfied left the company, however more employees with low satisfaction between 0.3 and 0.5 left the company. We can also see that employees with high satisfaction also left the company."
      ]
    },
    {
      "cell_type": "markdown",
      "metadata": {
        "id": "5grinf9xok60"
      },
      "source": [
        "####**Satisfaction Vs Evaluation**"
      ]
    },
    {
      "cell_type": "code",
      "execution_count": 29,
      "metadata": {
        "colab": {
          "base_uri": "https://localhost:8080/",
          "height": 386
        },
        "id": "5MSQrF-Nz-dy",
        "outputId": "af6916f0-2df0-4705-810a-aaeb34d5314c"
      },
      "outputs": [
        {
          "output_type": "execute_result",
          "data": {
            "text/plain": [
              "<seaborn.axisgrid.FacetGrid at 0x7f2c5556ae90>"
            ]
          },
          "metadata": {},
          "execution_count": 29
        },
        {
          "output_type": "display_data",
          "data": {
            "image/png": "[encoded data removed]",
            "text/plain": [
              "<Figure size 411.375x360 with 1 Axes>"
            ]
          },
          "metadata": {
            "needs_background": "light"
          }
        }
      ],
      "source": [
        "sns.lmplot(x='Satisfaction', y='Evaluation', data=data,\n",
        "           fit_reg=False, # No regression line\n",
        "           hue='Turnover')   # Color by evolution stage"
      ]
    },
    {
      "cell_type": "markdown",
      "metadata": {
        "id": "CybNYly1peUc"
      },
      "source": [
        "This shows u the 3 main clusters of employees who left the company based on evaluation and satisfaction.\n",
        "\n",
        "1. **Highly evaluated and unsatisfied**: these are employees with a satisfaction level of less than 0.2 and were evaluated over 0.75.\n",
        "2. **Low evaluated and unsatisfied** these are employees with a satisfaction level below 0.5 and are evaluated below 0.6.\n",
        "3. **Highly evaluated and satisfied** these are employees with a satisfaction level above 0.7 and are evaluated above 0.8."
      ]
    },
    {
      "cell_type": "markdown",
      "metadata": {
        "id": "kiD9Va-XrpDL"
      },
      "source": [
        "###**Data Modeling**"
      ]
    },
    {
      "cell_type": "code",
      "execution_count": 30,
      "metadata": {
        "colab": {
          "base_uri": "https://localhost:8080/"
        },
        "id": "-fknTq8ywL00",
        "outputId": "ce8c4209-f19d-4ead-f03e-b9b6d945c029"
      },
      "outputs": [
        {
          "output_type": "stream",
          "name": "stdout",
          "text": [
            "Department ['sales' 'accounting' 'hr' 'technical' 'support' 'management' 'IT'\n",
            " 'product_mng' 'marketing' 'RandD']\n",
            "Salary ['low' 'medium' 'high']\n"
          ]
        }
      ],
      "source": [
        "# unique values for each column containing a categorical feature\n",
        "def unique_values():\n",
        "  cat_columns = np.unique(data.select_dtypes('object').columns)\n",
        "  for i in cat_columns:\n",
        "    print(i, data[i].unique())\n",
        "\n",
        "unique_values()"
      ]
    },
    {
      "cell_type": "markdown",
      "metadata": {
        "id": "3cozWnzfuud4"
      },
      "source": [
        "#### Data Preprocessing**"
      ]
    },
    {
      "cell_type": "markdown",
      "metadata": {
        "id": "fppSVL13wsg_"
      },
      "source": [
        "#####**Encoding**"
      ]
    },
    {
      "cell_type": "markdown",
      "metadata": {
        "id": "5WJyWMoJvyi3"
      },
      "source": [
        "Machine learning algorithms works better with numerical variables, therefore, there is need to convert categorical variables into dummy variables. using; \n",
        "* `LabelEncoder` for binary\n",
        "* `get_dummies` for other categorical variables"
      ]
    },
    {
      "cell_type": "code",
      "execution_count": 31,
      "metadata": {
        "colab": {
          "base_uri": "https://localhost:8080/",
          "height": 270
        },
        "id": "thOIbKhMu11i",
        "outputId": "263ad11b-b9df-4581-ddce-7f7a342eb21b"
      },
      "outputs": [
        {
          "output_type": "execute_result",
          "data": {
            "text/html": [
              "\n",
              "  <div id=\"df-2b2c141e-cbba-43aa-9969-a6386d05071f\">\n",
              "    <div class=\"colab-df-container\">\n",
              "      <div>\n",
              "<style scoped>\n",
              "    .dataframe tbody tr th:only-of-type {\n",
              "        vertical-align: middle;\n",
              "    }\n",
              "\n",
              "    .dataframe tbody tr th {\n",
              "        vertical-align: top;\n",
              "    }\n",
              "\n",
              "    .dataframe thead th {\n",
              "        text-align: right;\n",
              "    }\n",
              "</style>\n",
              "<table border=\"1\" class=\"dataframe\">\n",
              "  <thead>\n",
              "    <tr style=\"text-align: right;\">\n",
              "      <th></th>\n",
              "      <th>Satisfaction</th>\n",
              "      <th>Evaluation</th>\n",
              "      <th>Projects</th>\n",
              "      <th>Average_Montly_Hours</th>\n",
              "      <th>Years</th>\n",
              "      <th>Accident</th>\n",
              "      <th>Turnover</th>\n",
              "      <th>Promotion</th>\n",
              "      <th>Department_IT</th>\n",
              "      <th>Department_RandD</th>\n",
              "      <th>Department_accounting</th>\n",
              "      <th>Department_hr</th>\n",
              "      <th>Department_management</th>\n",
              "      <th>Department_marketing</th>\n",
              "      <th>Department_product_mng</th>\n",
              "      <th>Department_sales</th>\n",
              "      <th>Department_support</th>\n",
              "      <th>Department_technical</th>\n",
              "      <th>Salary_high</th>\n",
              "      <th>Salary_low</th>\n",
              "      <th>Salary_medium</th>\n",
              "    </tr>\n",
              "  </thead>\n",
              "  <tbody>\n",
              "    <tr>\n",
              "      <th>0</th>\n",
              "      <td>0.38</td>\n",
              "      <td>0.53</td>\n",
              "      <td>2</td>\n",
              "      <td>157</td>\n",
              "      <td>3</td>\n",
              "      <td>0</td>\n",
              "      <td>1</td>\n",
              "      <td>0</td>\n",
              "      <td>0</td>\n",
              "      <td>0</td>\n",
              "      <td>0</td>\n",
              "      <td>0</td>\n",
              "      <td>0</td>\n",
              "      <td>0</td>\n",
              "      <td>0</td>\n",
              "      <td>1</td>\n",
              "      <td>0</td>\n",
              "      <td>0</td>\n",
              "      <td>0</td>\n",
              "      <td>1</td>\n",
              "      <td>0</td>\n",
              "    </tr>\n",
              "    <tr>\n",
              "      <th>1</th>\n",
              "      <td>0.80</td>\n",
              "      <td>0.86</td>\n",
              "      <td>5</td>\n",
              "      <td>262</td>\n",
              "      <td>6</td>\n",
              "      <td>0</td>\n",
              "      <td>1</td>\n",
              "      <td>0</td>\n",
              "      <td>0</td>\n",
              "      <td>0</td>\n",
              "      <td>0</td>\n",
              "      <td>0</td>\n",
              "      <td>0</td>\n",
              "      <td>0</td>\n",
              "      <td>0</td>\n",
              "      <td>1</td>\n",
              "      <td>0</td>\n",
              "      <td>0</td>\n",
              "      <td>0</td>\n",
              "      <td>0</td>\n",
              "      <td>1</td>\n",
              "    </tr>\n",
              "    <tr>\n",
              "      <th>2</th>\n",
              "      <td>0.11</td>\n",
              "      <td>0.88</td>\n",
              "      <td>7</td>\n",
              "      <td>272</td>\n",
              "      <td>4</td>\n",
              "      <td>0</td>\n",
              "      <td>1</td>\n",
              "      <td>0</td>\n",
              "      <td>0</td>\n",
              "      <td>0</td>\n",
              "      <td>0</td>\n",
              "      <td>0</td>\n",
              "      <td>0</td>\n",
              "      <td>0</td>\n",
              "      <td>0</td>\n",
              "      <td>1</td>\n",
              "      <td>0</td>\n",
              "      <td>0</td>\n",
              "      <td>0</td>\n",
              "      <td>0</td>\n",
              "      <td>1</td>\n",
              "    </tr>\n",
              "    <tr>\n",
              "      <th>3</th>\n",
              "      <td>0.72</td>\n",
              "      <td>0.87</td>\n",
              "      <td>5</td>\n",
              "      <td>223</td>\n",
              "      <td>5</td>\n",
              "      <td>0</td>\n",
              "      <td>1</td>\n",
              "      <td>0</td>\n",
              "      <td>0</td>\n",
              "      <td>0</td>\n",
              "      <td>0</td>\n",
              "      <td>0</td>\n",
              "      <td>0</td>\n",
              "      <td>0</td>\n",
              "      <td>0</td>\n",
              "      <td>1</td>\n",
              "      <td>0</td>\n",
              "      <td>0</td>\n",
              "      <td>0</td>\n",
              "      <td>1</td>\n",
              "      <td>0</td>\n",
              "    </tr>\n",
              "    <tr>\n",
              "      <th>4</th>\n",
              "      <td>0.37</td>\n",
              "      <td>0.52</td>\n",
              "      <td>2</td>\n",
              "      <td>159</td>\n",
              "      <td>3</td>\n",
              "      <td>0</td>\n",
              "      <td>1</td>\n",
              "      <td>0</td>\n",
              "      <td>0</td>\n",
              "      <td>0</td>\n",
              "      <td>0</td>\n",
              "      <td>0</td>\n",
              "      <td>0</td>\n",
              "      <td>0</td>\n",
              "      <td>0</td>\n",
              "      <td>1</td>\n",
              "      <td>0</td>\n",
              "      <td>0</td>\n",
              "      <td>0</td>\n",
              "      <td>1</td>\n",
              "      <td>0</td>\n",
              "    </tr>\n",
              "  </tbody>\n",
              "</table>\n",
              "</div>\n",
              "      <button class=\"colab-df-convert\" onclick=\"convertToInteractive('df-2b2c141e-cbba-43aa-9969-a6386d05071f')\"\n",
              "              title=\"Convert this dataframe to an interactive table.\"\n",
              "              style=\"display:none;\">\n",
              "        \n",
              "  <svg xmlns=\"http://www.w3.org/2000/svg\" height=\"24px\"viewBox=\"0 0 24 24\"\n",
              "       width=\"24px\">\n",
              "    <path d=\"M0 0h24v24H0V0z\" fill=\"none\"/>\n",
              "    <path d=\"M18.56 5.44l.94 2.06.94-2.06 2.06-.94-2.06-.94-.94-2.06-.94 2.06-2.06.94zm-11 1L8.5 8.5l.94-2.06 2.06-.94-2.06-.94L8.5 2.5l-.94 2.06-2.06.94zm10 10l.94 2.06.94-2.06 2.06-.94-2.06-.94-.94-2.06-.94 2.06-2.06.94z\"/><path d=\"M17.41 7.96l-1.37-1.37c-.4-.4-.92-.59-1.43-.59-.52 0-1.04.2-1.43.59L10.3 9.45l-7.72 7.72c-.78.78-.78 2.05 0 2.83L4 21.41c.39.39.9.59 1.41.59.51 0 1.02-.2 1.41-.59l7.78-7.78 2.81-2.81c.8-.78.8-2.07 0-2.86zM5.41 20L4 18.59l7.72-7.72 1.47 1.35L5.41 20z\"/>\n",
              "  </svg>\n",
              "      </button>\n",
              "      \n",
              "  <style>\n",
              "    .colab-df-container {\n",
              "      display:flex;\n",
              "      flex-wrap:wrap;\n",
              "      gap: 12px;\n",
              "    }\n",
              "\n",
              "    .colab-df-convert {\n",
              "      background-color: #E8F0FE;\n",
              "      border: none;\n",
              "      border-radius: 50%;\n",
              "      cursor: pointer;\n",
              "      display: none;\n",
              "      fill: #1967D2;\n",
              "      height: 32px;\n",
              "      padding: 0 0 0 0;\n",
              "      width: 32px;\n",
              "    }\n",
              "\n",
              "    .colab-df-convert:hover {\n",
              "      background-color: #E2EBFA;\n",
              "      box-shadow: 0px 1px 2px rgba(60, 64, 67, 0.3), 0px 1px 3px 1px rgba(60, 64, 67, 0.15);\n",
              "      fill: #174EA6;\n",
              "    }\n",
              "\n",
              "    [theme=dark] .colab-df-convert {\n",
              "      background-color: #3B4455;\n",
              "      fill: #D2E3FC;\n",
              "    }\n",
              "\n",
              "    [theme=dark] .colab-df-convert:hover {\n",
              "      background-color: #434B5C;\n",
              "      box-shadow: 0px 1px 3px 1px rgba(0, 0, 0, 0.15);\n",
              "      filter: drop-shadow(0px 1px 2px rgba(0, 0, 0, 0.3));\n",
              "      fill: #FFFFFF;\n",
              "    }\n",
              "  </style>\n",
              "\n",
              "      <script>\n",
              "        const buttonEl =\n",
              "          document.querySelector('#df-2b2c141e-cbba-43aa-9969-a6386d05071f button.colab-df-convert');\n",
              "        buttonEl.style.display =\n",
              "          google.colab.kernel.accessAllowed ? 'block' : 'none';\n",
              "\n",
              "        async function convertToInteractive(key) {\n",
              "          const element = document.querySelector('#df-2b2c141e-cbba-43aa-9969-a6386d05071f');\n",
              "          const dataTable =\n",
              "            await google.colab.kernel.invokeFunction('convertToInteractive',\n",
              "                                                     [key], {});\n",
              "          if (!dataTable) return;\n",
              "\n",
              "          const docLinkHtml = 'Like what you see? Visit the ' +\n",
              "            '<a target=\"_blank\" href=https://colab.research.google.com/notebooks/data_table.ipynb>data table notebook</a>'\n",
              "            + ' to learn more about interactive tables.';\n",
              "          element.innerHTML = '';\n",
              "          dataTable['output_type'] = 'display_data';\n",
              "          await google.colab.output.renderOutput(dataTable, element);\n",
              "          const docLink = document.createElement('div');\n",
              "          docLink.innerHTML = docLinkHtml;\n",
              "          element.appendChild(docLink);\n",
              "        }\n",
              "      </script>\n",
              "    </div>\n",
              "  </div>\n",
              "  "
            ],
            "text/plain": [
              "   Satisfaction  Evaluation  Projects  ...  Salary_high  Salary_low  Salary_medium\n",
              "0          0.38        0.53         2  ...            0           1              0\n",
              "1          0.80        0.86         5  ...            0           0              1\n",
              "2          0.11        0.88         7  ...            0           0              1\n",
              "3          0.72        0.87         5  ...            0           1              0\n",
              "4          0.37        0.52         2  ...            0           1              0\n",
              "\n",
              "[5 rows x 21 columns]"
            ]
          },
          "metadata": {},
          "execution_count": 31
        }
      ],
      "source": [
        "#Converting the predictor variable in a binary numeric variable\n",
        "#Let's convert all the categorical variables into dummy variables\n",
        "data_dummies = pd.get_dummies(data)\n",
        "data_dummies.head()"
      ]
    },
    {
      "cell_type": "markdown",
      "metadata": {
        "id": "RBmRduJXw72O"
      },
      "source": [
        "#####**Scaling**"
      ]
    },
    {
      "cell_type": "code",
      "execution_count": 32,
      "metadata": {
        "id": "XHaPNCJ9vpCT"
      },
      "outputs": [],
      "source": [
        "# We will use the data frame where we had created dummy variables\n",
        "y = data_dummies['Turnover'].values\n",
        "X = data_dummies.drop(columns = ['Turnover'])\n",
        "\n",
        "# Scaling all the variables to a range of 0 to 1\n",
        "from sklearn.preprocessing import MinMaxScaler\n",
        "features = X.columns.values\n",
        "scaler = MinMaxScaler(feature_range = (0,1))\n",
        "scaler.fit(X)\n",
        "X = pd.DataFrame(scaler.transform(X))\n",
        "X.columns = features"
      ]
    },
    {
      "cell_type": "markdown",
      "metadata": {
        "id": "bgATM1htxeYM"
      },
      "source": [
        "##### Splitting data into training and testing sets"
      ]
    },
    {
      "cell_type": "code",
      "execution_count": 33,
      "metadata": {
        "colab": {
          "base_uri": "https://localhost:8080/"
        },
        "id": "0J7RVv51yVb_",
        "outputId": "40491284-d662-40de-83d9-f54fd690aee2"
      },
      "outputs": [
        {
          "output_type": "stream",
          "name": "stdout",
          "text": [
            "Number transactions X_train dataset:  (10499, 20)\n",
            "Number transactions y_train dataset:  (10499,)\n",
            "Number transactions X_test dataset:  (4500, 20)\n",
            "Number transactions y_test dataset:  (4500,)\n"
          ]
        }
      ],
      "source": [
        "# Since we have class imbalance (i.e. more employees with turnover=0 than turnover=1)\n",
        "# let's use stratify=y to maintain the same ratio as in the training dataset when splitting the dataset\n",
        "X_train, X_test, y_train, y_test = train_test_split(X,\n",
        "                                                    y,\n",
        "                                                    test_size=0.3,\n",
        "                                                    random_state=7,\n",
        "                                                    stratify=y)  \n",
        "print(\"Number transactions X_train dataset: \", X_train.shape)\n",
        "print(\"Number transactions y_train dataset: \", y_train.shape)\n",
        "print(\"Number transactions X_test dataset: \", X_test.shape)\n",
        "print(\"Number transactions y_test dataset: \", y_test.shape)"
      ]
    },
    {
      "cell_type": "markdown",
      "metadata": {
        "id": "F1ZVRLa6zxaC"
      },
      "source": [
        "####**Building Machine Learning Models**"
      ]
    },
    {
      "cell_type": "markdown",
      "metadata": {
        "id": "Smfpas66z24u"
      },
      "source": [
        "#####**1. Logistic Regression**"
      ]
    },
    {
      "cell_type": "code",
      "execution_count": 34,
      "metadata": {
        "colab": {
          "base_uri": "https://localhost:8080/"
        },
        "id": "YoqgTk7D2bCP",
        "outputId": "791e7dc2-197a-40ec-be8b-6eb49b1d8a9e"
      },
      "outputs": [
        {
          "output_type": "stream",
          "name": "stdout",
          "text": [
            "AUC score (STD): 0.83 (0.01)\n",
            "====================\n",
            "best params: LogisticRegression(C=1.9609999999999996, class_weight='balanced',\n",
            "                   random_state=7, solver='liblinear')\n",
            "best params: {'C': 1.9609999999999996}\n",
            "best score: 0.8279623335419274\n",
            "====================\n"
          ]
        }
      ],
      "source": [
        "# Running logistic regression model\n",
        "kfold = 10\n",
        "from sklearn.linear_model import LogisticRegression\n",
        "model = LogisticRegression(solver='liblinear',\n",
        "                             class_weight=\"balanced\", \n",
        "                             random_state=7)\n",
        "\n",
        "#Cross validation\n",
        "scoring = 'roc_auc'\n",
        "results = model_selection.cross_val_score(\n",
        "    model, X_train, y_train, cv=kfold, scoring=scoring)\n",
        "print(\"AUC score (STD): %.2f (%.2f)\" % (results.mean(), results.std()))\n",
        "\n",
        "#Fine tuning\n",
        "param_grid = {'C': np.arange(1e-03, 2, 0.01)} # hyper-parameter list to fine-tune\n",
        "log_gs = GridSearchCV(LogisticRegression(solver='liblinear', \n",
        "                                         class_weight=\"balanced\", \n",
        "                                         random_state=7),\n",
        "\n",
        "                      return_train_score=True,\n",
        "                      param_grid=param_grid,\n",
        "                      scoring='roc_auc',\n",
        "                      cv=10)\n",
        "\n",
        "#fitting the model\n",
        "log_grid = log_gs.fit(X_train, y_train)\n",
        "log_opt = log_grid.best_estimator_\n",
        "results = log_gs.cv_results_\n",
        "\n",
        "print('='*20)\n",
        "print(\"best params: \" + str(log_gs.best_estimator_))\n",
        "print(\"best params: \" + str(log_gs.best_params_))\n",
        "print('best score:', log_gs.best_score_)\n",
        "print('='*20)\n",
        "\n"
      ]
    },
    {
      "cell_type": "markdown",
      "metadata": {
        "id": "yq09xsKJ8Tx9"
      },
      "source": [
        "#####**Evaluation**"
      ]
    },
    {
      "cell_type": "code",
      "execution_count": 35,
      "metadata": {
        "colab": {
          "base_uri": "https://localhost:8080/",
          "height": 342
        },
        "id": "rGCqnAU-8ZFN",
        "outputId": "2f6e0379-557b-4d9e-d7e9-b786bcede844"
      },
      "outputs": [
        {
          "output_type": "execute_result",
          "data": {
            "text/plain": [
              "Text(0.5, 257.44, 'Predicted label')"
            ]
          },
          "metadata": {},
          "execution_count": 35
        },
        {
          "output_type": "display_data",
          "data": {
            "image/png": "[encoded data removed]",
            "text/plain": [
              "<Figure size 432x288 with 2 Axes>"
            ]
          },
          "metadata": {
            "needs_background": "light"
          }
        }
      ],
      "source": [
        "## Confusion Matrix\n",
        "cnf_matrix = metrics.confusion_matrix(y_test, log_opt.predict(X_test))\n",
        "class_names=[0,1] # name  of classes\n",
        "fig, ax = plt.subplots()\n",
        "tick_marks = np.arange(len(class_names))\n",
        "plt.xticks(tick_marks, class_names)\n",
        "plt.yticks(tick_marks, class_names)\n",
        "# create heatmap\n",
        "sns.heatmap(pd.DataFrame(cnf_matrix), annot=True, cmap=\"YlGnBu\" ,fmt='g')\n",
        "ax.xaxis.set_label_position(\"top\")\n",
        "plt.tight_layout()\n",
        "plt.title('Confusion matrix', y=1.1)\n",
        "plt.ylabel('Actual label')\n",
        "plt.xlabel('Predicted label')"
      ]
    },
    {
      "cell_type": "code",
      "execution_count": 36,
      "metadata": {
        "colab": {
          "base_uri": "https://localhost:8080/"
        },
        "id": "1_JJh_U8G5A0",
        "outputId": "d37b3cc9-26b3-47c3-dca1-88b3f6f8f94c"
      },
      "outputs": [
        {
          "output_type": "stream",
          "name": "stdout",
          "text": [
            "              precision    recall  f1-score   support\n",
            "\n",
            "           0       0.93      0.75      0.83      3429\n",
            "           1       0.50      0.81      0.62      1071\n",
            "\n",
            "    accuracy                           0.76      4500\n",
            "   macro avg       0.71      0.78      0.72      4500\n",
            "weighted avg       0.82      0.76      0.78      4500\n",
            "\n"
          ]
        }
      ],
      "source": [
        "# Classification report for the optimised Log Regression\n",
        "log_opt.fit(X_train, y_train)\n",
        "print(classification_report(y_test, log_opt.predict(X_test)))"
      ]
    },
    {
      "cell_type": "code",
      "execution_count": 37,
      "metadata": {
        "colab": {
          "base_uri": "https://localhost:8080/"
        },
        "id": "u9U9Wtrx8_LU",
        "outputId": "275c61bb-9348-4baf-959f-5d1d8ad453c0"
      },
      "outputs": [
        {
          "output_type": "stream",
          "name": "stdout",
          "text": [
            "Accuracy of Logistic Regression Classifier on test set: 76.13\n"
          ]
        }
      ],
      "source": [
        "print('Accuracy of Logistic Regression Classifier on test set: {:.2f}'.format(log_opt.score(X_test, y_test)*100))"
      ]
    },
    {
      "cell_type": "code",
      "execution_count": 38,
      "metadata": {
        "colab": {
          "base_uri": "https://localhost:8080/"
        },
        "id": "9vSkmK7I_Lu5",
        "outputId": "eb029e41-90ea-41e9-d401-2601c47368f2"
      },
      "outputs": [
        {
          "output_type": "stream",
          "name": "stdout",
          "text": [
            "AUC score: 0.830\n"
          ]
        }
      ],
      "source": [
        "log_opt.fit(X_train, y_train) # fit optimised model to the training data\n",
        "probs = log_opt.predict_proba(X_test) # predict probabilities\n",
        "probs = probs[:, 1] # we will only keep probabilities associated with the employee leaving\n",
        "logit_roc_auc = roc_auc_score(y_test, probs) # calculate AUC score using test dataset\n",
        "print('AUC score: %.3f' % logit_roc_auc)"
      ]
    },
    {
      "cell_type": "markdown",
      "metadata": {
        "id": "Vq2A3oKSL8Tc"
      },
      "source": [
        "#####**2. Random Forest Classifier**"
      ]
    },
    {
      "cell_type": "code",
      "source": [
        "# Random Forest Model\n",
        "rf = RandomForestClassifier(\n",
        "    n_estimators=1000, \n",
        "    max_depth=None, \n",
        "    min_samples_split=10, \n",
        "    class_weight=\"balanced\"\n",
        "    #min_weight_fraction_leaf=0.02 \n",
        "    )\n",
        "rf.fit(X_train, y_train)\n",
        "print (\"\\n\\n ---Random Forest Model---\")\n",
        "rf_roc_auc = roc_auc_score(y_test, rf.predict(X_test))\n",
        "print (\"Random Forest AUC = %2.2f\" % rf_roc_auc)\n",
        "print(classification_report(y_test, rf.predict(X_test)))"
      ],
      "metadata": {
        "colab": {
          "base_uri": "https://localhost:8080/"
        },
        "id": "i9hHsyK-ByeG",
        "outputId": "8682b8ee-4ea1-47ce-fb70-0c8f9640fa08"
      },
      "execution_count": 39,
      "outputs": [
        {
          "output_type": "stream",
          "name": "stdout",
          "text": [
            "\n",
            "\n",
            " ---Random Forest Model---\n",
            "Random Forest AUC = 0.97\n",
            "              precision    recall  f1-score   support\n",
            "\n",
            "           0       0.98      1.00      0.99      3429\n",
            "           1       0.99      0.94      0.96      1071\n",
            "\n",
            "    accuracy                           0.98      4500\n",
            "   macro avg       0.98      0.97      0.98      4500\n",
            "weighted avg       0.98      0.98      0.98      4500\n",
            "\n"
          ]
        }
      ]
    },
    {
      "cell_type": "code",
      "execution_count": 40,
      "metadata": {
        "colab": {
          "base_uri": "https://localhost:8080/",
          "height": 566
        },
        "id": "4UqiMPBROAfQ",
        "outputId": "049a59fc-e1f1-42c4-c939-3213a1768c18"
      },
      "outputs": [
        {
          "output_type": "display_data",
          "data": {
            "image/png": "[encoded data removed]",
            "text/plain": [
              "<Figure size 1080x504 with 1 Axes>"
            ]
          },
          "metadata": {
            "needs_background": "light"
          }
        }
      ],
      "source": [
        "importances = rf.feature_importances_\n",
        "indices = np.argsort(importances)[::-1] # Sort feature importances in descending order\n",
        "names = [X_train.columns[i] for i in indices] # Rearrange feature names so they match the sorted feature importances\n",
        "plt.figure(figsize=(15, 7)) # Create plot\n",
        "plt.title(\"Feature Importance\") # Create plot title\n",
        "plt.bar(range(X_train.shape[1]), importances[indices]) # Add bars\n",
        "plt.xticks(range(X_train.shape[1]), names, rotation=90) # Add feature names as x-axis labels\n",
        "plt.show() # Show plot"
      ]
    },
    {
      "cell_type": "code",
      "execution_count": 41,
      "metadata": {
        "id": "gpkt5Jo2dep4",
        "colab": {
          "base_uri": "https://localhost:8080/",
          "height": 363
        },
        "outputId": "d42d86d6-1de2-4533-c752-5fdd391ca885"
      },
      "outputs": [
        {
          "output_type": "execute_result",
          "data": {
            "text/html": [
              "\n",
              "  <div id=\"df-ae0d00cc-b3d2-4d30-9311-f8db420031a6\">\n",
              "    <div class=\"colab-df-container\">\n",
              "      <div>\n",
              "<style scoped>\n",
              "    .dataframe tbody tr th:only-of-type {\n",
              "        vertical-align: middle;\n",
              "    }\n",
              "\n",
              "    .dataframe tbody tr th {\n",
              "        vertical-align: top;\n",
              "    }\n",
              "\n",
              "    .dataframe thead th {\n",
              "        text-align: right;\n",
              "    }\n",
              "</style>\n",
              "<table border=\"1\" class=\"dataframe\">\n",
              "  <thead>\n",
              "    <tr style=\"text-align: right;\">\n",
              "      <th></th>\n",
              "      <th>Feature</th>\n",
              "      <th>Coefficient</th>\n",
              "    </tr>\n",
              "  </thead>\n",
              "  <tbody>\n",
              "    <tr>\n",
              "      <th>0</th>\n",
              "      <td>Satisfaction</td>\n",
              "      <td>0.265887</td>\n",
              "    </tr>\n",
              "    <tr>\n",
              "      <th>1</th>\n",
              "      <td>Years</td>\n",
              "      <td>0.240420</td>\n",
              "    </tr>\n",
              "    <tr>\n",
              "      <th>2</th>\n",
              "      <td>Projects</td>\n",
              "      <td>0.164844</td>\n",
              "    </tr>\n",
              "    <tr>\n",
              "      <th>3</th>\n",
              "      <td>Average_Montly_Hours</td>\n",
              "      <td>0.151306</td>\n",
              "    </tr>\n",
              "    <tr>\n",
              "      <th>4</th>\n",
              "      <td>Evaluation</td>\n",
              "      <td>0.126888</td>\n",
              "    </tr>\n",
              "    <tr>\n",
              "      <th>5</th>\n",
              "      <td>Accident</td>\n",
              "      <td>0.012415</td>\n",
              "    </tr>\n",
              "    <tr>\n",
              "      <th>6</th>\n",
              "      <td>Salary_low</td>\n",
              "      <td>0.007364</td>\n",
              "    </tr>\n",
              "    <tr>\n",
              "      <th>7</th>\n",
              "      <td>Salary_high</td>\n",
              "      <td>0.006560</td>\n",
              "    </tr>\n",
              "    <tr>\n",
              "      <th>8</th>\n",
              "      <td>Department_technical</td>\n",
              "      <td>0.003364</td>\n",
              "    </tr>\n",
              "    <tr>\n",
              "      <th>9</th>\n",
              "      <td>Salary_medium</td>\n",
              "      <td>0.003360</td>\n",
              "    </tr>\n",
              "  </tbody>\n",
              "</table>\n",
              "</div>\n",
              "      <button class=\"colab-df-convert\" onclick=\"convertToInteractive('df-ae0d00cc-b3d2-4d30-9311-f8db420031a6')\"\n",
              "              title=\"Convert this dataframe to an interactive table.\"\n",
              "              style=\"display:none;\">\n",
              "        \n",
              "  <svg xmlns=\"http://www.w3.org/2000/svg\" height=\"24px\"viewBox=\"0 0 24 24\"\n",
              "       width=\"24px\">\n",
              "    <path d=\"M0 0h24v24H0V0z\" fill=\"none\"/>\n",
              "    <path d=\"M18.56 5.44l.94 2.06.94-2.06 2.06-.94-2.06-.94-.94-2.06-.94 2.06-2.06.94zm-11 1L8.5 8.5l.94-2.06 2.06-.94-2.06-.94L8.5 2.5l-.94 2.06-2.06.94zm10 10l.94 2.06.94-2.06 2.06-.94-2.06-.94-.94-2.06-.94 2.06-2.06.94z\"/><path d=\"M17.41 7.96l-1.37-1.37c-.4-.4-.92-.59-1.43-.59-.52 0-1.04.2-1.43.59L10.3 9.45l-7.72 7.72c-.78.78-.78 2.05 0 2.83L4 21.41c.39.39.9.59 1.41.59.51 0 1.02-.2 1.41-.59l7.78-7.78 2.81-2.81c.8-.78.8-2.07 0-2.86zM5.41 20L4 18.59l7.72-7.72 1.47 1.35L5.41 20z\"/>\n",
              "  </svg>\n",
              "      </button>\n",
              "      \n",
              "  <style>\n",
              "    .colab-df-container {\n",
              "      display:flex;\n",
              "      flex-wrap:wrap;\n",
              "      gap: 12px;\n",
              "    }\n",
              "\n",
              "    .colab-df-convert {\n",
              "      background-color: #E8F0FE;\n",
              "      border: none;\n",
              "      border-radius: 50%;\n",
              "      cursor: pointer;\n",
              "      display: none;\n",
              "      fill: #1967D2;\n",
              "      height: 32px;\n",
              "      padding: 0 0 0 0;\n",
              "      width: 32px;\n",
              "    }\n",
              "\n",
              "    .colab-df-convert:hover {\n",
              "      background-color: #E2EBFA;\n",
              "      box-shadow: 0px 1px 2px rgba(60, 64, 67, 0.3), 0px 1px 3px 1px rgba(60, 64, 67, 0.15);\n",
              "      fill: #174EA6;\n",
              "    }\n",
              "\n",
              "    [theme=dark] .colab-df-convert {\n",
              "      background-color: #3B4455;\n",
              "      fill: #D2E3FC;\n",
              "    }\n",
              "\n",
              "    [theme=dark] .colab-df-convert:hover {\n",
              "      background-color: #434B5C;\n",
              "      box-shadow: 0px 1px 3px 1px rgba(0, 0, 0, 0.15);\n",
              "      filter: drop-shadow(0px 1px 2px rgba(0, 0, 0, 0.3));\n",
              "      fill: #FFFFFF;\n",
              "    }\n",
              "  </style>\n",
              "\n",
              "      <script>\n",
              "        const buttonEl =\n",
              "          document.querySelector('#df-ae0d00cc-b3d2-4d30-9311-f8db420031a6 button.colab-df-convert');\n",
              "        buttonEl.style.display =\n",
              "          google.colab.kernel.accessAllowed ? 'block' : 'none';\n",
              "\n",
              "        async function convertToInteractive(key) {\n",
              "          const element = document.querySelector('#df-ae0d00cc-b3d2-4d30-9311-f8db420031a6');\n",
              "          const dataTable =\n",
              "            await google.colab.kernel.invokeFunction('convertToInteractive',\n",
              "                                                     [key], {});\n",
              "          if (!dataTable) return;\n",
              "\n",
              "          const docLinkHtml = 'Like what you see? Visit the ' +\n",
              "            '<a target=\"_blank\" href=https://colab.research.google.com/notebooks/data_table.ipynb>data table notebook</a>'\n",
              "            + ' to learn more about interactive tables.';\n",
              "          element.innerHTML = '';\n",
              "          dataTable['output_type'] = 'display_data';\n",
              "          await google.colab.output.renderOutput(dataTable, element);\n",
              "          const docLink = document.createElement('div');\n",
              "          docLink.innerHTML = docLinkHtml;\n",
              "          element.appendChild(docLink);\n",
              "        }\n",
              "      </script>\n",
              "    </div>\n",
              "  </div>\n",
              "  "
            ],
            "text/plain": [
              "                Feature  Coefficient\n",
              "0          Satisfaction     0.265887\n",
              "1                 Years     0.240420\n",
              "2              Projects     0.164844\n",
              "3  Average_Montly_Hours     0.151306\n",
              "4            Evaluation     0.126888\n",
              "5              Accident     0.012415\n",
              "6            Salary_low     0.007364\n",
              "7           Salary_high     0.006560\n",
              "8  Department_technical     0.003364\n",
              "9         Salary_medium     0.003360"
            ]
          },
          "metadata": {},
          "execution_count": 41
        }
      ],
      "source": [
        "importances = rf.feature_importances_\n",
        "df_param_coeff = pd.DataFrame(columns=['Feature', 'Coefficient'])\n",
        "for i in range(20):\n",
        "    feat = X_train.columns[i]\n",
        "    coeff = importances[i]\n",
        "    df_param_coeff.loc[i] = (feat, coeff)\n",
        "df_param_coeff.sort_values(by='Coefficient', ascending=False, inplace=True)\n",
        "df_param_coeff = df_param_coeff.reset_index(drop=True)\n",
        "df_param_coeff.head(10)"
      ]
    },
    {
      "cell_type": "code",
      "execution_count": 42,
      "metadata": {
        "colab": {
          "base_uri": "https://localhost:8080/",
          "height": 342
        },
        "id": "bM0UTRtZdmwT",
        "outputId": "1b746785-a1d3-4d54-99c6-faed43fd417b"
      },
      "outputs": [
        {
          "output_type": "execute_result",
          "data": {
            "text/plain": [
              "Text(0.5, 257.44, 'Predicted label')"
            ]
          },
          "metadata": {},
          "execution_count": 42
        },
        {
          "output_type": "display_data",
          "data": {
            "image/png": "[encoded data removed]",
            "text/plain": [
              "<Figure size 432x288 with 2 Axes>"
            ]
          },
          "metadata": {
            "needs_background": "light"
          }
        }
      ],
      "source": [
        "## Confusion Matrix\n",
        "cnf_matrix = metrics.confusion_matrix(y_test, rf.predict(X_test))\n",
        "class_names=[0,1] # name  of classes\n",
        "fig, ax = plt.subplots()\n",
        "tick_marks = np.arange(len(class_names))\n",
        "plt.xticks(tick_marks, class_names)\n",
        "plt.yticks(tick_marks, class_names)\n",
        "# create heatmap\n",
        "sns.heatmap(pd.DataFrame(cnf_matrix), annot=True, cmap=\"YlGnBu\" ,fmt='g')\n",
        "ax.xaxis.set_label_position(\"top\")\n",
        "plt.tight_layout()\n",
        "plt.title('Confusion matrix', y=1.1)\n",
        "plt.ylabel('Actual label')\n",
        "plt.xlabel('Predicted label')"
      ]
    },
    {
      "cell_type": "code",
      "execution_count": 43,
      "metadata": {
        "colab": {
          "base_uri": "https://localhost:8080/"
        },
        "id": "cFm530ikdtFq",
        "outputId": "e44e7b83-3ac3-42ab-cce3-cee96a098291"
      },
      "outputs": [
        {
          "output_type": "stream",
          "name": "stdout",
          "text": [
            "              precision    recall  f1-score   support\n",
            "\n",
            "           0       0.98      1.00      0.99      3429\n",
            "           1       0.99      0.94      0.96      1071\n",
            "\n",
            "    accuracy                           0.98      4500\n",
            "   macro avg       0.99      0.97      0.98      4500\n",
            "weighted avg       0.98      0.98      0.98      4500\n",
            "\n"
          ]
        }
      ],
      "source": [
        "# Classification report for the optimised RF Regression\n",
        "rf.fit(X_train, y_train)\n",
        "print(classification_report(y_test, rf.predict(X_test)))"
      ]
    },
    {
      "cell_type": "code",
      "execution_count": 44,
      "metadata": {
        "colab": {
          "base_uri": "https://localhost:8080/"
        },
        "id": "Wt1gHKZwd02p",
        "outputId": "92540d6e-27aa-4f6c-8a84-35b5edca7b65"
      },
      "outputs": [
        {
          "output_type": "stream",
          "name": "stdout",
          "text": [
            "Accuracy of RandomForest Regression Classifier on test set: 98.36\n"
          ]
        }
      ],
      "source": [
        "print('Accuracy of RandomForest Regression Classifier on test set: {:.2f}'.format(rf.score(X_test, y_test)*100))"
      ]
    },
    {
      "cell_type": "code",
      "execution_count": 45,
      "metadata": {
        "colab": {
          "base_uri": "https://localhost:8080/"
        },
        "id": "d1zq_Nqsd7sf",
        "outputId": "0f179699-cd0d-4836-81e1-d9126d794ab0"
      },
      "outputs": [
        {
          "output_type": "stream",
          "name": "stdout",
          "text": [
            "AUC score: 0.994\n"
          ]
        }
      ],
      "source": [
        "rf.fit(X_train, y_train) # fit optimised model to the training data\n",
        "probs = rf.predict_proba(X_test) # predict probabilities\n",
        "probs = probs[:, 1] # we will only keep probabilities associated with the employee leaving\n",
        "rf_opt_roc_auc = roc_auc_score(y_test, probs) # calculate AUC score using test dataset\n",
        "print('AUC score: %.3f' % rf_opt_roc_auc)"
      ]
    },
    {
      "cell_type": "markdown",
      "metadata": {
        "id": "jEzktqkafRhr"
      },
      "source": [
        "#####**3. Support Vecor Machine (SVM)**"
      ]
    },
    {
      "cell_type": "code",
      "execution_count": 46,
      "metadata": {
        "id": "B0LJ8sSqfQ6N",
        "colab": {
          "base_uri": "https://localhost:8080/"
        },
        "outputId": "0b4a08bd-d06d-46ed-b362-e5838d7f7554"
      },
      "outputs": [
        {
          "output_type": "stream",
          "name": "stdout",
          "text": [
            "\n",
            "\n",
            " ---SVM Model---\n",
            "SVM AUC = 0.59\n",
            "              precision    recall  f1-score   support\n",
            "\n",
            "           0       0.80      0.94      0.86      3429\n",
            "           1       0.56      0.24      0.34      1071\n",
            "\n",
            "    accuracy                           0.77      4500\n",
            "   macro avg       0.68      0.59      0.60      4500\n",
            "weighted avg       0.74      0.77      0.74      4500\n",
            "\n"
          ]
        }
      ],
      "source": [
        "from sklearn.svm import SVC\n",
        "\n",
        "svm = SVC(kernel='linear',probability=True) \n",
        "svm.fit(X_train,y_train)\n",
        "print (\"\\n\\n ---SVM Model---\")\n",
        "svm_roc_auc = roc_auc_score(y_test, svm.predict(X_test))\n",
        "print (\"SVM AUC = %2.2f\" % svm_roc_auc)\n",
        "print(classification_report(y_test, svm.predict(X_test)))"
      ]
    },
    {
      "cell_type": "code",
      "source": [
        "## Confusion Matrix\n",
        "cnf_matrix = metrics.confusion_matrix(y_test, svm.predict(X_test))\n",
        "class_names=[0,1] # name  of classes\n",
        "fig, ax = plt.subplots()\n",
        "tick_marks = np.arange(len(class_names))\n",
        "plt.xticks(tick_marks, class_names)\n",
        "plt.yticks(tick_marks, class_names)\n",
        "# create heatmap\n",
        "sns.heatmap(pd.DataFrame(cnf_matrix), annot=True, cmap=\"YlGnBu\" ,fmt='g')\n",
        "ax.xaxis.set_label_position(\"top\")\n",
        "plt.tight_layout()\n",
        "plt.title('Confusion matrix', y=1.1)\n",
        "plt.ylabel('Actual label')\n",
        "plt.xlabel('Predicted label')"
      ],
      "metadata": {
        "colab": {
          "base_uri": "https://localhost:8080/",
          "height": 342
        },
        "id": "dVj8tVqqHD2q",
        "outputId": "6ac0f2b2-2315-4c53-81ef-d5cf6b1305f4"
      },
      "execution_count": 47,
      "outputs": [
        {
          "output_type": "execute_result",
          "data": {
            "text/plain": [
              "Text(0.5, 257.44, 'Predicted label')"
            ]
          },
          "metadata": {},
          "execution_count": 47
        },
        {
          "output_type": "display_data",
          "data": {
            "image/png": "[encoded data removed]",
            "text/plain": [
              "<Figure size 432x288 with 2 Axes>"
            ]
          },
          "metadata": {
            "needs_background": "light"
          }
        }
      ]
    },
    {
      "cell_type": "markdown",
      "metadata": {
        "id": "sDUkvU2zf2VL"
      },
      "source": [
        "#####**4. ADA Boost**"
      ]
    },
    {
      "cell_type": "code",
      "execution_count": 48,
      "metadata": {
        "id": "Fo7scs1Gfxx0",
        "colab": {
          "base_uri": "https://localhost:8080/"
        },
        "outputId": "4c2cfc9f-52a2-4c5e-98b1-5d9424815fce"
      },
      "outputs": [
        {
          "output_type": "stream",
          "name": "stdout",
          "text": [
            "\n",
            "\n",
            " ---AdaBoost Model---\n",
            "AdaBoost AUC = 0.94\n",
            "              precision    recall  f1-score   support\n",
            "\n",
            "           0       0.97      0.98      0.98      3429\n",
            "           1       0.94      0.90      0.92      1071\n",
            "\n",
            "    accuracy                           0.96      4500\n",
            "   macro avg       0.95      0.94      0.95      4500\n",
            "weighted avg       0.96      0.96      0.96      4500\n",
            "\n"
          ]
        }
      ],
      "source": [
        "# Ada Boost\n",
        "ada = AdaBoostClassifier(n_estimators=400, learning_rate=0.1)\n",
        "ada.fit(X_train,y_train)\n",
        "print (\"\\n\\n ---AdaBoost Model---\")\n",
        "ada_roc_auc = roc_auc_score(y_test, ada.predict(X_test))\n",
        "print (\"AdaBoost AUC = %2.2f\" % ada_roc_auc)\n",
        "print(classification_report(y_test, ada.predict(X_test)))"
      ]
    },
    {
      "cell_type": "code",
      "source": [
        "## Confusion Matrix\n",
        "cnf_matrix = metrics.confusion_matrix(y_test, ada.predict(X_test))\n",
        "class_names=[0,1] # name  of classes\n",
        "fig, ax = plt.subplots()\n",
        "tick_marks = np.arange(len(class_names))\n",
        "plt.xticks(tick_marks, class_names)\n",
        "plt.yticks(tick_marks, class_names)\n",
        "# create heatmap\n",
        "sns.heatmap(pd.DataFrame(cnf_matrix), annot=True, cmap=\"YlGnBu\" ,fmt='g')\n",
        "ax.xaxis.set_label_position(\"top\")\n",
        "plt.tight_layout()\n",
        "plt.title('Confusion matrix', y=1.1)\n",
        "plt.ylabel('Actual label')\n",
        "plt.xlabel('Predicted label')"
      ],
      "metadata": {
        "colab": {
          "base_uri": "https://localhost:8080/",
          "height": 342
        },
        "id": "QhmhusujHl_f",
        "outputId": "168267b0-64e7-4ec9-a25e-dd907e00cc6c"
      },
      "execution_count": 49,
      "outputs": [
        {
          "output_type": "execute_result",
          "data": {
            "text/plain": [
              "Text(0.5, 257.44, 'Predicted label')"
            ]
          },
          "metadata": {},
          "execution_count": 49
        },
        {
          "output_type": "display_data",
          "data": {
            "image/png": "[encoded data removed]",
            "text/plain": [
              "<Figure size 432x288 with 2 Axes>"
            ]
          },
          "metadata": {
            "needs_background": "light"
          }
        }
      ]
    },
    {
      "cell_type": "code",
      "source": [
        "print('Accuracy of Logistic Regression Classifier on test set: {:.2f}'.format(ada.score(X_test, y_test)*100))"
      ],
      "metadata": {
        "colab": {
          "base_uri": "https://localhost:8080/"
        },
        "id": "UpVM6_KWHw74",
        "outputId": "1dcad30a-edc3-4ca4-8adc-05edd4156ef0"
      },
      "execution_count": 50,
      "outputs": [
        {
          "output_type": "stream",
          "name": "stdout",
          "text": [
            "Accuracy of Logistic Regression Classifier on test set: 96.22\n"
          ]
        }
      ]
    },
    {
      "cell_type": "code",
      "source": [
        "ada.fit(X_train, y_train) # fit optimised model to the training data\n",
        "probs = ada.predict_proba(X_test) # predict probabilities\n",
        "probs = probs[:, 1] # we will only keep probabilities associated with the employee leaving\n",
        "ada_roc_auc = roc_auc_score(y_test, probs) # calculate AUC score using test dataset\n",
        "print('AUC score: %.3f' % ada_roc_auc)"
      ],
      "metadata": {
        "colab": {
          "base_uri": "https://localhost:8080/"
        },
        "id": "D-hKS8t2H4qG",
        "outputId": "a2577293-63fe-4273-c486-4918dd6140ba"
      },
      "execution_count": 51,
      "outputs": [
        {
          "output_type": "stream",
          "name": "stdout",
          "text": [
            "AUC score: 0.983\n"
          ]
        }
      ]
    },
    {
      "cell_type": "markdown",
      "metadata": {
        "id": "etNXv1-wgA0W"
      },
      "source": [
        "#####**5. XG Boost**"
      ]
    },
    {
      "cell_type": "code",
      "execution_count": 52,
      "metadata": {
        "colab": {
          "base_uri": "https://localhost:8080/"
        },
        "id": "aqqmGk8rf_0Y",
        "outputId": "d1810049-e3b3-40ce-a29b-53a65ee44bef"
      },
      "outputs": [
        {
          "output_type": "stream",
          "name": "stdout",
          "text": [
            "\n",
            "\n",
            " ---xgboost Model---\n",
            "xgboost AUC = 0.96\n",
            "              precision    recall  f1-score   support\n",
            "\n",
            "           0       0.98      0.99      0.98      3429\n",
            "           1       0.96      0.93      0.94      1071\n",
            "\n",
            "    accuracy                           0.97      4500\n",
            "   macro avg       0.97      0.96      0.96      4500\n",
            "weighted avg       0.97      0.97      0.97      4500\n",
            "\n"
          ]
        }
      ],
      "source": [
        "from xgboost import XGBClassifier\n",
        "xgboost = XGBClassifier()\n",
        "xgboost.fit(X_train,y_train)\n",
        "print (\"\\n\\n ---xgboost Model---\")\n",
        "xgboost_roc_auc = roc_auc_score(y_test, xgboost.predict(X_test))\n",
        "print (\"xgboost AUC = %2.2f\" % xgboost_roc_auc)\n",
        "print(classification_report(y_test, xgboost.predict(X_test)))"
      ]
    },
    {
      "cell_type": "code",
      "source": [
        "## Confusion Matrix\n",
        "cnf_matrix = metrics.confusion_matrix(y_test, xgboost.predict(X_test))\n",
        "class_names=[0,1] # name  of classes\n",
        "fig, ax = plt.subplots()\n",
        "tick_marks = np.arange(len(class_names))\n",
        "plt.xticks(tick_marks, class_names)\n",
        "plt.yticks(tick_marks, class_names)\n",
        "# create heatmap\n",
        "sns.heatmap(pd.DataFrame(cnf_matrix), annot=True, cmap=\"YlGnBu\" ,fmt='g')\n",
        "ax.xaxis.set_label_position(\"top\")\n",
        "plt.tight_layout()\n",
        "plt.title('Confusion matrix', y=1.1)\n",
        "plt.ylabel('Actual label')\n",
        "plt.xlabel('Predicted label')"
      ],
      "metadata": {
        "colab": {
          "base_uri": "https://localhost:8080/",
          "height": 342
        },
        "id": "LYJWFkwpIlxl",
        "outputId": "50e15f60-8fc6-4271-af69-c333de5f9243"
      },
      "execution_count": 53,
      "outputs": [
        {
          "output_type": "execute_result",
          "data": {
            "text/plain": [
              "Text(0.5, 257.44, 'Predicted label')"
            ]
          },
          "metadata": {},
          "execution_count": 53
        },
        {
          "output_type": "display_data",
          "data": {
            "image/png": "[encoded data removed]",
            "text/plain": [
              "<Figure size 432x288 with 2 Axes>"
            ]
          },
          "metadata": {
            "needs_background": "light"
          }
        }
      ]
    },
    {
      "cell_type": "code",
      "source": [
        "print('Accuracy of Logistic Regression Classifier on test set: {:.2f}'.format(xgboost.score(X_test, y_test)*100))"
      ],
      "metadata": {
        "colab": {
          "base_uri": "https://localhost:8080/"
        },
        "id": "8820kIW0JGpS",
        "outputId": "0d448c1e-5f40-4c33-fce6-3171b4beaa7c"
      },
      "execution_count": 54,
      "outputs": [
        {
          "output_type": "stream",
          "name": "stdout",
          "text": [
            "Accuracy of Logistic Regression Classifier on test set: 97.42\n"
          ]
        }
      ]
    },
    {
      "cell_type": "code",
      "source": [
        "xgboost.fit(X_train, y_train) # fit optimised model to the training data\n",
        "probs = xgboost.predict_proba(X_test) # predict probabilities\n",
        "probs = probs[:, 1] # we will only keep probabilities associated with the employee leaving\n",
        "xgboost_roc_auc = roc_auc_score(y_test, probs) # calculate AUC score using test dataset\n",
        "print('AUC score: %.3f' % xgboost_roc_auc)"
      ],
      "metadata": {
        "colab": {
          "base_uri": "https://localhost:8080/"
        },
        "id": "Z59-oPcyI5Xk",
        "outputId": "599b7be8-4c2f-464b-b9eb-07eb6194e065"
      },
      "execution_count": 55,
      "outputs": [
        {
          "output_type": "stream",
          "name": "stdout",
          "text": [
            "AUC score: 0.988\n"
          ]
        }
      ]
    },
    {
      "cell_type": "markdown",
      "source": [
        "#####**6. Decision Tree**"
      ],
      "metadata": {
        "id": "HPkP0_oiIE7C"
      }
    },
    {
      "cell_type": "code",
      "source": [
        "# Decision Tree Model\n",
        "dtree = tree.DecisionTreeClassifier(\n",
        "    #max_depth=3,\n",
        "    class_weight=\"balanced\",\n",
        "    min_weight_fraction_leaf=0.01\n",
        "    )\n",
        "dtree = dtree.fit(X_train,y_train)\n",
        "print (\"\\n\\n ---Decision Tree Model---\")\n",
        "dt_roc_auc = roc_auc_score(y_test, dtree.predict(X_test))\n",
        "print (\"Decision Tree AUC = %2.2f\" % dt_roc_auc)\n",
        "print(classification_report(y_test, dtree.predict(X_test)))"
      ],
      "metadata": {
        "colab": {
          "base_uri": "https://localhost:8080/"
        },
        "id": "dNH2HpcQIP_R",
        "outputId": "22de9744-e192-4d73-dec8-ce03d0a6098c"
      },
      "execution_count": 56,
      "outputs": [
        {
          "output_type": "stream",
          "name": "stdout",
          "text": [
            "\n",
            "\n",
            " ---Decision Tree Model---\n",
            "Decision Tree AUC = 0.94\n",
            "              precision    recall  f1-score   support\n",
            "\n",
            "           0       0.97      0.97      0.97      3429\n",
            "           1       0.92      0.91      0.91      1071\n",
            "\n",
            "    accuracy                           0.96      4500\n",
            "   macro avg       0.94      0.94      0.94      4500\n",
            "weighted avg       0.96      0.96      0.96      4500\n",
            "\n"
          ]
        }
      ]
    },
    {
      "cell_type": "code",
      "source": [
        "## Confusion Matrix\n",
        "cnf_matrix = metrics.confusion_matrix(y_test, dtree.predict(X_test))\n",
        "class_names=[0,1] # name  of classes\n",
        "fig, ax = plt.subplots()\n",
        "tick_marks = np.arange(len(class_names))\n",
        "plt.xticks(tick_marks, class_names)\n",
        "plt.yticks(tick_marks, class_names)\n",
        "# create heatmap\n",
        "sns.heatmap(pd.DataFrame(cnf_matrix), annot=True, cmap=\"YlGnBu\" ,fmt='g')\n",
        "ax.xaxis.set_label_position(\"top\")\n",
        "plt.tight_layout()\n",
        "plt.title('Confusion matrix', y=1.1)\n",
        "plt.ylabel('Actual label')\n",
        "plt.xlabel('Predicted label')"
      ],
      "metadata": {
        "colab": {
          "base_uri": "https://localhost:8080/",
          "height": 342
        },
        "id": "0p1AZQoXJUlO",
        "outputId": "e4c69535-1fe9-4dd9-a5bd-f34119faa9ee"
      },
      "execution_count": 57,
      "outputs": [
        {
          "output_type": "execute_result",
          "data": {
            "text/plain": [
              "Text(0.5, 257.44, 'Predicted label')"
            ]
          },
          "metadata": {},
          "execution_count": 57
        },
        {
          "output_type": "display_data",
          "data": {
            "image/png": "[encoded data removed]",
            "text/plain": [
              "<Figure size 432x288 with 2 Axes>"
            ]
          },
          "metadata": {
            "needs_background": "light"
          }
        }
      ]
    },
    {
      "cell_type": "code",
      "source": [
        "print('Accuracy of Logistic Regression Classifier on test set: {:.2f}'.format(dtree.score(X_test, y_test)*100))"
      ],
      "metadata": {
        "colab": {
          "base_uri": "https://localhost:8080/"
        },
        "id": "Qyy2CalkJeaN",
        "outputId": "3248915e-f85d-40aa-d2fe-33e0cb1458c7"
      },
      "execution_count": 58,
      "outputs": [
        {
          "output_type": "stream",
          "name": "stdout",
          "text": [
            "Accuracy of Logistic Regression Classifier on test set: 95.87\n"
          ]
        }
      ]
    },
    {
      "cell_type": "code",
      "source": [
        "dtree.fit(X_train, y_train) # fit optimised model to the training data\n",
        "probs = dtree.predict_proba(X_test) # predict probabilities\n",
        "probs = probs[:, 1] # we will only keep probabilities associated with the employee leaving\n",
        "dtree_roc_auc = roc_auc_score(y_test, probs) # calculate AUC score using test dataset\n",
        "print('AUC score: %.3f' % dtree_roc_auc)"
      ],
      "metadata": {
        "colab": {
          "base_uri": "https://localhost:8080/"
        },
        "id": "oKfZKx3oJlAt",
        "outputId": "6c8cace6-709d-4055-f218-1ffd514aa3ed"
      },
      "execution_count": 59,
      "outputs": [
        {
          "output_type": "stream",
          "name": "stdout",
          "text": [
            "AUC score: 0.980\n"
          ]
        }
      ]
    },
    {
      "cell_type": "markdown",
      "source": [
        "####**ROC GRAPH**"
      ],
      "metadata": {
        "id": "qihVYUfNcIA9"
      }
    },
    {
      "cell_type": "markdown",
      "source": [
        "An ROC curve (receiver operating characteristic curve) is a graph showing the performance of a classification model at all classification thresholds. This curve plots two parameters:\n",
        "\n",
        "*True Positive Rate*\n",
        "\n",
        "*False Positive Rate*\n",
        "\n",
        "To choose the best perfoming model, we use the AUC(**Area Under the ROC Curve**). AUC provides an aggregate measure of performance across all possible classification thresholds. One way of interpreting AUC is as the probability that the model ranks a random positive example more highly than a random negative example. "
      ],
      "metadata": {
        "id": "6G-JbofDQ-w5"
      }
    },
    {
      "cell_type": "code",
      "execution_count": 60,
      "metadata": {
        "colab": {
          "base_uri": "https://localhost:8080/",
          "height": 404
        },
        "id": "JVoGIBVykOV8",
        "outputId": "677600e2-9c90-400b-96fe-398661792f45"
      },
      "outputs": [
        {
          "output_type": "display_data",
          "data": {
            "image/png": "[encoded data removed]",
            "text/plain": [
              "<Figure size 1008x432 with 1 Axes>"
            ]
          },
          "metadata": {
            "needs_background": "light"
          }
        }
      ],
      "source": [
        "# Create ROC Graph\n",
        "from sklearn.metrics import roc_curve\n",
        "fpr, tpr, thresholds = roc_curve(y_test, log_opt.predict_proba(X_test)[:,1])\n",
        "rf_fpr, rf_tpr, rf_thresholds = roc_curve(y_test, rf.predict_proba(X_test)[:,1])\n",
        "svm_fpr, svm_tpr, svm_thresholds = roc_curve(y_test, svm.predict_proba(X_test)[:,1])\n",
        "ada_fpr, ada_tpr, ada_thresholds = roc_curve(y_test, ada.predict_proba(X_test)[:,1])\n",
        "xgboost_fpr, xgboost_tpr, xgboost_thresholds = roc_curve(y_test, xgboost.predict_proba(X_test)[:,1])\n",
        "dtree_fpr, dtree_tpr, dtree_thresholds = roc_curve(y_test, dtree.predict_proba(X_test)[:,1])\n",
        "plt.figure(figsize=(14, 6))\n",
        "\n",
        "# Plot Logistic Regression ROC\n",
        "plt.plot(fpr, tpr, label='Logistic Regression (area = %0.2f)' % logit_roc_auc)\n",
        "# Plot Random Forest ROC\n",
        "plt.plot(rf_fpr, rf_tpr, label='Random Forest (area = %0.2f)' % rf_opt_roc_auc)\n",
        "# Plot Random Forest ROC\n",
        "plt.plot(svm_fpr, svm_tpr, label='SVM (area = %0.2f)' % svm_roc_auc)\n",
        "# Plot Random Forest ROC\n",
        "plt.plot(ada_fpr, ada_tpr, label='ADA Boost (area = %0.2f)' % ada_roc_auc)\n",
        "# Plot Random Forest ROC\n",
        "plt.plot(xgboost_fpr, xgboost_tpr, label='XG Boost (area = %0.2f)' % xgboost_roc_auc)\n",
        "# Plot Random Forest ROC\n",
        "plt.plot(dtree_fpr, dtree_tpr, label='Decision Tree (area = %0.2f)' % dtree_roc_auc)\n",
        "# Plot Base Rate ROC\n",
        "plt.plot([0,1], [0,1],label='Base Rate' 'k--')\n",
        "\n",
        "plt.xlim([0.0, 1.0])\n",
        "plt.ylim([0.0, 1.05])\n",
        "plt.xlabel('False Positive Rate')\n",
        "plt.ylabel('True Positive Rate')\n",
        "plt.title('ROC Graph')\n",
        "plt.legend(loc=\"lower right\")\n",
        "plt.show()"
      ]
    },
    {
      "cell_type": "markdown",
      "metadata": {
        "id": "CnXiRGC8jMTs"
      },
      "source": [
        "####**Deep Learning Models**"
      ]
    },
    {
      "cell_type": "markdown",
      "source": [
        "In this section, we introduce deep learning algorithms, though they are not so approriate to solve the problem at hand. However deep learning algorithms are more prefered over machine learning algorithms based on Decision Boundary and Feature Engineering.\n",
        "\n",
        "#####**Decision Boundary**\n",
        "For a classification problem, the algorithm learns a function that seperates two classes, as such a machine learning algorithm such as a logistic regression learns the function that maps the input to the output, the learning function in this case is the *Sigmoid function*. The shortcoming of this tradional machine learning algorithm is that it only learns the linear decision boundaries and can not learn any non linear data. Therefore, preference of deep learning algorithms that can equally learn all functions.\n",
        "\n",
        "#####**Feature Engineering**\n",
        "Feature engineering involves feature extraction and feature selection, and these processes are automaticall done in deep learning.\n",
        "\n",
        "However, it is not all problems that can be solved using deep learning algorithms. The Artificial Neural Network can be use to solve problems related to, Tabular data, Image data, and Text data. This network is able to learn the non-linear relationship in the data. Recurrent Neural Network is used to solve problems related to Time series data, Text data, and audio data. This network is able to capture sequetial information in the data. Finally the Convolution Neural Network are developed to solve problems related to Image data, but they also perfom better in sequential data."
      ],
      "metadata": {
        "id": "wm45G_YGHzJ8"
      }
    },
    {
      "cell_type": "code",
      "source": [
        "import keras\n",
        "from keras.layers import LSTM, SimpleRNN\n",
        "from keras.layers import Flatten\n",
        "from keras.layers.convolutional import Conv1D\n",
        "from keras.layers.convolutional import MaxPooling1D\n",
        "from keras.models import Sequential\n",
        "from keras.layers import Dense,Dropout, Flatten,RepeatVector,TimeDistributed\n",
        "from keras.callbacks import EarlyStopping\n",
        "#from keras.optimizers import adam\n",
        "#from livelossplot.keras import PlotLossesCallback"
      ],
      "metadata": {
        "id": "-8ZXJN9HkvLZ"
      },
      "execution_count": 61,
      "outputs": []
    },
    {
      "cell_type": "markdown",
      "source": [
        "#####**1. Artificial Neural Network**"
      ],
      "metadata": {
        "id": "dZut1lt3AMTS"
      }
    },
    {
      "cell_type": "code",
      "source": [
        "model_ANN = Sequential()\n",
        "model_ANN.add(Dense(13, input_shape=(X_train.shape[1],), activation='relu'))\n",
        "model_ANN.add(Dense(16, activation='relu')),\n",
        "model_ANN.add(Dense(16, activation='relu')),\n",
        "model_ANN.add(Dense(1, activation = 'sigmoid'))\n",
        "model_ANN.compile(loss='binary_crossentropy', optimizer='rmsprop', metrics=['accuracy'])\n",
        "\n",
        "model_ANN.summary()"
      ],
      "metadata": {
        "colab": {
          "base_uri": "https://localhost:8080/"
        },
        "id": "_UT5LiLHsHmq",
        "outputId": "2d884192-3bd8-4699-a260-9c0672a12f2c"
      },
      "execution_count": 62,
      "outputs": [
        {
          "output_type": "stream",
          "name": "stdout",
          "text": [
            "Model: \"sequential\"\n",
            "_________________________________________________________________\n",
            " Layer (type)                Output Shape              Param #   \n",
            "=================================================================\n",
            " dense (Dense)               (None, 13)                273       \n",
            "                                                                 \n",
            " dense_1 (Dense)             (None, 16)                224       \n",
            "                                                                 \n",
            " dense_2 (Dense)             (None, 16)                272       \n",
            "                                                                 \n",
            " dense_3 (Dense)             (None, 1)                 17        \n",
            "                                                                 \n",
            "=================================================================\n",
            "Total params: 786\n",
            "Trainable params: 786\n",
            "Non-trainable params: 0\n",
            "_________________________________________________________________\n"
          ]
        }
      ]
    },
    {
      "cell_type": "code",
      "source": [
        "model_ANN.fit(X_train, y_train, epochs=50, batch_size=1)\n",
        "test_loss, test_acc = model_ANN.evaluate(X_test, y_test)"
      ],
      "metadata": {
        "colab": {
          "base_uri": "https://localhost:8080/"
        },
        "id": "RqXm1_r_vMc4",
        "outputId": "d64553b6-7be5-4cda-e602-c17110c20876"
      },
      "execution_count": 63,
      "outputs": [
        {
          "output_type": "stream",
          "name": "stdout",
          "text": [
            "Epoch 1/50\n",
            "10499/10499 [==============================] - 16s 1ms/step - loss: 0.4584 - accuracy: 0.7980\n",
            "Epoch 2/50\n",
            "10499/10499 [==============================] - 16s 1ms/step - loss: 0.4078 - accuracy: 0.8340\n",
            "Epoch 3/50\n",
            "10499/10499 [==============================] - 15s 1ms/step - loss: 0.2905 - accuracy: 0.8963\n",
            "Epoch 4/50\n",
            "10499/10499 [==============================] - 16s 1ms/step - loss: 0.2506 - accuracy: 0.9325\n",
            "Epoch 5/50\n",
            "10499/10499 [==============================] - 16s 1ms/step - loss: 0.2495 - accuracy: 0.9384\n",
            "Epoch 6/50\n",
            "10499/10499 [==============================] - 15s 1ms/step - loss: 0.2653 - accuracy: 0.9382\n",
            "Epoch 7/50\n",
            "10499/10499 [==============================] - 15s 1ms/step - loss: 0.2698 - accuracy: 0.9364\n",
            "Epoch 8/50\n",
            "10499/10499 [==============================] - 16s 2ms/step - loss: 0.2833 - accuracy: 0.9379\n",
            "Epoch 9/50\n",
            "10499/10499 [==============================] - 15s 1ms/step - loss: 0.2884 - accuracy: 0.9387\n",
            "Epoch 10/50\n",
            "10499/10499 [==============================] - 15s 1ms/step - loss: 0.2876 - accuracy: 0.9389\n",
            "Epoch 11/50\n",
            "10499/10499 [==============================] - 15s 1ms/step - loss: 0.2946 - accuracy: 0.9411\n",
            "Epoch 12/50\n",
            "10499/10499 [==============================] - 16s 1ms/step - loss: 0.2763 - accuracy: 0.9417\n",
            "Epoch 13/50\n",
            "10499/10499 [==============================] - 17s 2ms/step - loss: 0.2846 - accuracy: 0.9475\n",
            "Epoch 14/50\n",
            "10499/10499 [==============================] - 15s 1ms/step - loss: 0.2853 - accuracy: 0.9463\n",
            "Epoch 15/50\n",
            "10499/10499 [==============================] - 16s 2ms/step - loss: 0.2669 - accuracy: 0.9489\n",
            "Epoch 16/50\n",
            "10499/10499 [==============================] - 16s 2ms/step - loss: 0.2845 - accuracy: 0.9459\n",
            "Epoch 17/50\n",
            "10499/10499 [==============================] - 16s 1ms/step - loss: 0.2887 - accuracy: 0.9467\n",
            "Epoch 18/50\n",
            "10499/10499 [==============================] - 15s 1ms/step - loss: 0.2981 - accuracy: 0.9452\n",
            "Epoch 19/50\n",
            "10499/10499 [==============================] - 16s 2ms/step - loss: 0.2923 - accuracy: 0.9427\n",
            "Epoch 20/50\n",
            "10499/10499 [==============================] - 15s 1ms/step - loss: 0.3057 - accuracy: 0.9448\n",
            "Epoch 21/50\n",
            "10499/10499 [==============================] - 15s 1ms/step - loss: 0.3167 - accuracy: 0.9439\n",
            "Epoch 22/50\n",
            "10499/10499 [==============================] - 15s 1ms/step - loss: 0.3243 - accuracy: 0.9413\n",
            "Epoch 23/50\n",
            "10499/10499 [==============================] - 16s 2ms/step - loss: 0.3450 - accuracy: 0.9417\n",
            "Epoch 24/50\n",
            "10499/10499 [==============================] - 17s 2ms/step - loss: 0.3617 - accuracy: 0.9406\n",
            "Epoch 25/50\n",
            "10499/10499 [==============================] - 16s 2ms/step - loss: 0.3593 - accuracy: 0.9384\n",
            "Epoch 26/50\n",
            "10499/10499 [==============================] - 15s 1ms/step - loss: 0.3944 - accuracy: 0.9345\n",
            "Epoch 27/50\n",
            "10499/10499 [==============================] - 16s 2ms/step - loss: 0.3693 - accuracy: 0.9345\n",
            "Epoch 28/50\n",
            "10499/10499 [==============================] - 15s 1ms/step - loss: 0.3779 - accuracy: 0.9365\n",
            "Epoch 29/50\n",
            "10499/10499 [==============================] - 15s 1ms/step - loss: 0.3640 - accuracy: 0.9359\n",
            "Epoch 30/50\n",
            "10499/10499 [==============================] - 16s 2ms/step - loss: 0.3793 - accuracy: 0.9359\n",
            "Epoch 31/50\n",
            "10499/10499 [==============================] - 16s 2ms/step - loss: 0.3750 - accuracy: 0.9374\n",
            "Epoch 32/50\n",
            "10499/10499 [==============================] - 17s 2ms/step - loss: 0.3884 - accuracy: 0.9385\n",
            "Epoch 33/50\n",
            "10499/10499 [==============================] - 15s 1ms/step - loss: 0.3964 - accuracy: 0.9370\n",
            "Epoch 34/50\n",
            "10499/10499 [==============================] - 16s 2ms/step - loss: 0.3704 - accuracy: 0.9356\n",
            "Epoch 35/50\n",
            "10499/10499 [==============================] - 16s 2ms/step - loss: 0.3813 - accuracy: 0.9347\n",
            "Epoch 36/50\n",
            "10499/10499 [==============================] - 16s 2ms/step - loss: 0.3827 - accuracy: 0.9362\n",
            "Epoch 37/50\n",
            "10499/10499 [==============================] - 16s 2ms/step - loss: 0.3720 - accuracy: 0.9374\n",
            "Epoch 38/50\n",
            "10499/10499 [==============================] - 16s 2ms/step - loss: 0.3570 - accuracy: 0.9369\n",
            "Epoch 39/50\n",
            "10499/10499 [==============================] - 16s 2ms/step - loss: 0.3499 - accuracy: 0.9264\n",
            "Epoch 40/50\n",
            "10499/10499 [==============================] - 16s 2ms/step - loss: 0.3396 - accuracy: 0.9309\n",
            "Epoch 41/50\n",
            "10499/10499 [==============================] - 15s 1ms/step - loss: 0.3476 - accuracy: 0.9315\n",
            "Epoch 42/50\n",
            "10499/10499 [==============================] - 16s 2ms/step - loss: 0.3462 - accuracy: 0.9323\n",
            "Epoch 43/50\n",
            "10499/10499 [==============================] - 16s 2ms/step - loss: 0.3330 - accuracy: 0.9330\n",
            "Epoch 44/50\n",
            "10499/10499 [==============================] - 16s 2ms/step - loss: 0.3276 - accuracy: 0.9364\n",
            "Epoch 45/50\n",
            "10499/10499 [==============================] - 15s 1ms/step - loss: 0.3280 - accuracy: 0.9377\n",
            "Epoch 46/50\n",
            "10499/10499 [==============================] - 16s 2ms/step - loss: 0.3254 - accuracy: 0.9377\n",
            "Epoch 47/50\n",
            "10499/10499 [==============================] - 17s 2ms/step - loss: 0.3470 - accuracy: 0.9377\n",
            "Epoch 48/50\n",
            "10499/10499 [==============================] - 16s 2ms/step - loss: 0.3289 - accuracy: 0.9394\n",
            "Epoch 49/50\n",
            "10499/10499 [==============================] - 16s 2ms/step - loss: 0.3391 - accuracy: 0.9371\n",
            "Epoch 50/50\n",
            "10499/10499 [==============================] - 16s 2ms/step - loss: 0.3320 - accuracy: 0.9380\n",
            "141/141 [==============================] - 1s 2ms/step - loss: 0.3064 - accuracy: 0.9420\n"
          ]
        }
      ]
    },
    {
      "cell_type": "markdown",
      "source": [
        "#####**2. Convolution Neural Network**"
      ],
      "metadata": {
        "id": "bB7EhgTVAXpx"
      }
    },
    {
      "cell_type": "code",
      "execution_count": 64,
      "metadata": {
        "id": "mwxkQl1FjWuF",
        "colab": {
          "base_uri": "https://localhost:8080/"
        },
        "outputId": "7a2cece3-8435-43c9-bb35-194ed5aebb25"
      },
      "outputs": [
        {
          "output_type": "stream",
          "name": "stdout",
          "text": [
            "Model: \"sequential_1\"\n",
            "_________________________________________________________________\n",
            " Layer (type)                Output Shape              Param #   \n",
            "=================================================================\n",
            " conv1d (Conv1D)             (None, 19, 5)             15        \n",
            "                                                                 \n",
            " max_pooling1d (MaxPooling1D  (None, 9, 5)             0         \n",
            " )                                                               \n",
            "                                                                 \n",
            " flatten (Flatten)           (None, 45)                0         \n",
            "                                                                 \n",
            " dense_4 (Dense)             (None, 50)                2300      \n",
            "                                                                 \n",
            " dense_5 (Dense)             (None, 1)                 51        \n",
            "                                                                 \n",
            "=================================================================\n",
            "Total params: 2,366\n",
            "Trainable params: 2,366\n",
            "Non-trainable params: 0\n",
            "_________________________________________________________________\n"
          ]
        }
      ],
      "source": [
        "\n",
        "\n",
        "# define model\n",
        "model_CNN = Sequential()\n",
        "model_CNN.add(Conv1D(filters=5, kernel_size=2, activation='relu', input_shape=(X_train.shape[1], 1)))\n",
        "model_CNN.add(MaxPooling1D(pool_size=2))\n",
        "model_CNN.add(Flatten())\n",
        "model_CNN.add(Dense(50, activation='relu'))\n",
        "model_CNN.add(Dense(1, activation = 'sigmoid'))\n",
        "model_CNN.compile(loss='binary_crossentropy', optimizer='rmsprop', metrics=['accuracy'])\n",
        "\n",
        "model_CNN.summary()"
      ]
    },
    {
      "cell_type": "code",
      "execution_count": 65,
      "metadata": {
        "colab": {
          "base_uri": "https://localhost:8080/"
        },
        "id": "_7F3KN9pkO4T",
        "outputId": "21a954a7-905e-4fdd-8d9a-909bb40310b1"
      },
      "outputs": [
        {
          "output_type": "stream",
          "name": "stdout",
          "text": [
            "Epoch 1/100\n",
            "525/525 [==============================] - 3s 4ms/step - loss: 0.5142 - accuracy: 0.7645 - val_loss: 0.5018 - val_accuracy: 0.7505\n",
            "Epoch 2/100\n",
            "525/525 [==============================] - 2s 4ms/step - loss: 0.4600 - accuracy: 0.7675 - val_loss: 0.4541 - val_accuracy: 0.7552\n",
            "Epoch 3/100\n",
            "525/525 [==============================] - 2s 4ms/step - loss: 0.4077 - accuracy: 0.7996 - val_loss: 0.4029 - val_accuracy: 0.8143\n",
            "Epoch 4/100\n",
            "525/525 [==============================] - 2s 3ms/step - loss: 0.3557 - accuracy: 0.8415 - val_loss: 0.3485 - val_accuracy: 0.8533\n",
            "Epoch 5/100\n",
            "525/525 [==============================] - 1s 3ms/step - loss: 0.3046 - accuracy: 0.8834 - val_loss: 0.3022 - val_accuracy: 0.8895\n",
            "Epoch 6/100\n",
            "525/525 [==============================] - 1s 3ms/step - loss: 0.2657 - accuracy: 0.9048 - val_loss: 0.2697 - val_accuracy: 0.9048\n",
            "Epoch 7/100\n",
            "525/525 [==============================] - 1s 3ms/step - loss: 0.2397 - accuracy: 0.9178 - val_loss: 0.2549 - val_accuracy: 0.9081\n",
            "Epoch 8/100\n",
            "525/525 [==============================] - 1s 2ms/step - loss: 0.2247 - accuracy: 0.9237 - val_loss: 0.2417 - val_accuracy: 0.9248\n",
            "Epoch 9/100\n",
            "525/525 [==============================] - 1s 2ms/step - loss: 0.2145 - accuracy: 0.9300 - val_loss: 0.2355 - val_accuracy: 0.9252\n",
            "Epoch 10/100\n",
            "525/525 [==============================] - 1s 2ms/step - loss: 0.2080 - accuracy: 0.9342 - val_loss: 0.2289 - val_accuracy: 0.9338\n",
            "Epoch 11/100\n",
            "525/525 [==============================] - 1s 3ms/step - loss: 0.2027 - accuracy: 0.9362 - val_loss: 0.2315 - val_accuracy: 0.9281\n",
            "Epoch 12/100\n",
            "525/525 [==============================] - 1s 2ms/step - loss: 0.1990 - accuracy: 0.9399 - val_loss: 0.2269 - val_accuracy: 0.9367\n",
            "Epoch 13/100\n",
            "525/525 [==============================] - 1s 2ms/step - loss: 0.1951 - accuracy: 0.9408 - val_loss: 0.2269 - val_accuracy: 0.9357\n",
            "Epoch 14/100\n",
            "525/525 [==============================] - 1s 2ms/step - loss: 0.1920 - accuracy: 0.9412 - val_loss: 0.2257 - val_accuracy: 0.9343\n",
            "Epoch 15/100\n",
            "525/525 [==============================] - 1s 3ms/step - loss: 0.1896 - accuracy: 0.9439 - val_loss: 0.2221 - val_accuracy: 0.9410\n",
            "Epoch 16/100\n",
            "525/525 [==============================] - 1s 2ms/step - loss: 0.1869 - accuracy: 0.9438 - val_loss: 0.2199 - val_accuracy: 0.9386\n",
            "Epoch 17/100\n",
            "525/525 [==============================] - 1s 3ms/step - loss: 0.1851 - accuracy: 0.9458 - val_loss: 0.2193 - val_accuracy: 0.9433\n",
            "Epoch 18/100\n",
            "525/525 [==============================] - 1s 3ms/step - loss: 0.1831 - accuracy: 0.9470 - val_loss: 0.2158 - val_accuracy: 0.9390\n",
            "Epoch 19/100\n",
            "525/525 [==============================] - 1s 2ms/step - loss: 0.1817 - accuracy: 0.9464 - val_loss: 0.2140 - val_accuracy: 0.9433\n",
            "Epoch 20/100\n",
            "525/525 [==============================] - 1s 3ms/step - loss: 0.1799 - accuracy: 0.9468 - val_loss: 0.2130 - val_accuracy: 0.9448\n",
            "Epoch 21/100\n",
            "525/525 [==============================] - 1s 2ms/step - loss: 0.1787 - accuracy: 0.9476 - val_loss: 0.2122 - val_accuracy: 0.9429\n",
            "Epoch 22/100\n",
            "525/525 [==============================] - 1s 2ms/step - loss: 0.1773 - accuracy: 0.9469 - val_loss: 0.2114 - val_accuracy: 0.9452\n",
            "Epoch 23/100\n",
            "525/525 [==============================] - 1s 3ms/step - loss: 0.1764 - accuracy: 0.9473 - val_loss: 0.2113 - val_accuracy: 0.9457\n",
            "Epoch 24/100\n",
            "525/525 [==============================] - 1s 3ms/step - loss: 0.1750 - accuracy: 0.9477 - val_loss: 0.2093 - val_accuracy: 0.9429\n",
            "Epoch 25/100\n",
            "525/525 [==============================] - 1s 2ms/step - loss: 0.1735 - accuracy: 0.9482 - val_loss: 0.2076 - val_accuracy: 0.9457\n",
            "Epoch 26/100\n",
            "525/525 [==============================] - 1s 2ms/step - loss: 0.1729 - accuracy: 0.9498 - val_loss: 0.2057 - val_accuracy: 0.9448\n",
            "Epoch 27/100\n",
            "525/525 [==============================] - 2s 3ms/step - loss: 0.1720 - accuracy: 0.9495 - val_loss: 0.2053 - val_accuracy: 0.9471\n",
            "Epoch 28/100\n",
            "525/525 [==============================] - 1s 3ms/step - loss: 0.1709 - accuracy: 0.9496 - val_loss: 0.2103 - val_accuracy: 0.9490\n",
            "Epoch 29/100\n",
            "525/525 [==============================] - 1s 3ms/step - loss: 0.1710 - accuracy: 0.9499 - val_loss: 0.2092 - val_accuracy: 0.9471\n",
            "Epoch 30/100\n",
            "525/525 [==============================] - 1s 2ms/step - loss: 0.1704 - accuracy: 0.9498 - val_loss: 0.2045 - val_accuracy: 0.9467\n",
            "Epoch 31/100\n",
            "525/525 [==============================] - 2s 3ms/step - loss: 0.1701 - accuracy: 0.9507 - val_loss: 0.2022 - val_accuracy: 0.9467\n",
            "Epoch 32/100\n",
            "525/525 [==============================] - 2s 3ms/step - loss: 0.1689 - accuracy: 0.9505 - val_loss: 0.2015 - val_accuracy: 0.9467\n",
            "Epoch 33/100\n",
            "525/525 [==============================] - 1s 3ms/step - loss: 0.1682 - accuracy: 0.9515 - val_loss: 0.2031 - val_accuracy: 0.9476\n",
            "Epoch 34/100\n",
            "525/525 [==============================] - 1s 2ms/step - loss: 0.1669 - accuracy: 0.9521 - val_loss: 0.2028 - val_accuracy: 0.9486\n",
            "Epoch 35/100\n",
            "525/525 [==============================] - 1s 3ms/step - loss: 0.1668 - accuracy: 0.9515 - val_loss: 0.2020 - val_accuracy: 0.9495\n",
            "Epoch 36/100\n",
            "525/525 [==============================] - 1s 3ms/step - loss: 0.1660 - accuracy: 0.9525 - val_loss: 0.2013 - val_accuracy: 0.9419\n",
            "Epoch 37/100\n",
            "525/525 [==============================] - 1s 3ms/step - loss: 0.1663 - accuracy: 0.9525 - val_loss: 0.1992 - val_accuracy: 0.9505\n",
            "Epoch 38/100\n",
            "525/525 [==============================] - 2s 3ms/step - loss: 0.1655 - accuracy: 0.9513 - val_loss: 0.2044 - val_accuracy: 0.9490\n",
            "Epoch 39/100\n",
            "525/525 [==============================] - 1s 2ms/step - loss: 0.1654 - accuracy: 0.9523 - val_loss: 0.1989 - val_accuracy: 0.9510\n",
            "Epoch 40/100\n",
            "525/525 [==============================] - 1s 3ms/step - loss: 0.1651 - accuracy: 0.9514 - val_loss: 0.1998 - val_accuracy: 0.9486\n",
            "Epoch 41/100\n",
            "525/525 [==============================] - 1s 3ms/step - loss: 0.1650 - accuracy: 0.9526 - val_loss: 0.1995 - val_accuracy: 0.9495\n",
            "Epoch 42/100\n",
            "525/525 [==============================] - 1s 2ms/step - loss: 0.1647 - accuracy: 0.9537 - val_loss: 0.1970 - val_accuracy: 0.9495\n",
            "Epoch 43/100\n",
            "525/525 [==============================] - 1s 2ms/step - loss: 0.1633 - accuracy: 0.9520 - val_loss: 0.1999 - val_accuracy: 0.9495\n",
            "Epoch 44/100\n",
            "525/525 [==============================] - 1s 2ms/step - loss: 0.1641 - accuracy: 0.9531 - val_loss: 0.1996 - val_accuracy: 0.9490\n",
            "Epoch 45/100\n",
            "525/525 [==============================] - 1s 2ms/step - loss: 0.1642 - accuracy: 0.9530 - val_loss: 0.1964 - val_accuracy: 0.9514\n",
            "Epoch 46/100\n",
            "525/525 [==============================] - 1s 3ms/step - loss: 0.1628 - accuracy: 0.9533 - val_loss: 0.1949 - val_accuracy: 0.9486\n",
            "Epoch 47/100\n",
            "525/525 [==============================] - 1s 2ms/step - loss: 0.1629 - accuracy: 0.9540 - val_loss: 0.1998 - val_accuracy: 0.9505\n",
            "Epoch 48/100\n",
            "525/525 [==============================] - 1s 3ms/step - loss: 0.1623 - accuracy: 0.9538 - val_loss: 0.1952 - val_accuracy: 0.9471\n",
            "Epoch 49/100\n",
            "525/525 [==============================] - 1s 3ms/step - loss: 0.1622 - accuracy: 0.9543 - val_loss: 0.1994 - val_accuracy: 0.9476\n",
            "Epoch 50/100\n",
            "525/525 [==============================] - 1s 2ms/step - loss: 0.1622 - accuracy: 0.9543 - val_loss: 0.1951 - val_accuracy: 0.9481\n",
            "Epoch 51/100\n",
            "525/525 [==============================] - 1s 2ms/step - loss: 0.1622 - accuracy: 0.9556 - val_loss: 0.1996 - val_accuracy: 0.9510\n",
            "Epoch 52/100\n",
            "525/525 [==============================] - 1s 3ms/step - loss: 0.1611 - accuracy: 0.9542 - val_loss: 0.1953 - val_accuracy: 0.9452\n",
            "Epoch 53/100\n",
            "525/525 [==============================] - 1s 2ms/step - loss: 0.1612 - accuracy: 0.9536 - val_loss: 0.1962 - val_accuracy: 0.9476\n",
            "Epoch 54/100\n",
            "525/525 [==============================] - 1s 3ms/step - loss: 0.1614 - accuracy: 0.9552 - val_loss: 0.1956 - val_accuracy: 0.9486\n",
            "Epoch 55/100\n",
            "525/525 [==============================] - 1s 2ms/step - loss: 0.1613 - accuracy: 0.9543 - val_loss: 0.1959 - val_accuracy: 0.9486\n",
            "Epoch 56/100\n",
            "525/525 [==============================] - 1s 2ms/step - loss: 0.1608 - accuracy: 0.9544 - val_loss: 0.1945 - val_accuracy: 0.9486\n",
            "Epoch 57/100\n",
            "525/525 [==============================] - 1s 3ms/step - loss: 0.1611 - accuracy: 0.9549 - val_loss: 0.1965 - val_accuracy: 0.9490\n",
            "Epoch 58/100\n",
            "525/525 [==============================] - 1s 2ms/step - loss: 0.1609 - accuracy: 0.9550 - val_loss: 0.1951 - val_accuracy: 0.9490\n",
            "Epoch 59/100\n",
            "525/525 [==============================] - 1s 2ms/step - loss: 0.1598 - accuracy: 0.9558 - val_loss: 0.1980 - val_accuracy: 0.9486\n",
            "Epoch 60/100\n",
            "525/525 [==============================] - 1s 2ms/step - loss: 0.1596 - accuracy: 0.9557 - val_loss: 0.2063 - val_accuracy: 0.9486\n",
            "Epoch 61/100\n",
            "525/525 [==============================] - 1s 3ms/step - loss: 0.1599 - accuracy: 0.9545 - val_loss: 0.1981 - val_accuracy: 0.9490\n",
            "Epoch 62/100\n",
            "525/525 [==============================] - 1s 2ms/step - loss: 0.1598 - accuracy: 0.9555 - val_loss: 0.1945 - val_accuracy: 0.9471\n",
            "Epoch 63/100\n",
            "525/525 [==============================] - 1s 2ms/step - loss: 0.1597 - accuracy: 0.9550 - val_loss: 0.1956 - val_accuracy: 0.9495\n",
            "Epoch 64/100\n",
            "525/525 [==============================] - 1s 3ms/step - loss: 0.1597 - accuracy: 0.9555 - val_loss: 0.1944 - val_accuracy: 0.9490\n",
            "Epoch 65/100\n",
            "525/525 [==============================] - 1s 3ms/step - loss: 0.1591 - accuracy: 0.9556 - val_loss: 0.1934 - val_accuracy: 0.9505\n",
            "Epoch 66/100\n",
            "525/525 [==============================] - 1s 3ms/step - loss: 0.1591 - accuracy: 0.9552 - val_loss: 0.1944 - val_accuracy: 0.9486\n",
            "Epoch 67/100\n",
            "525/525 [==============================] - 1s 2ms/step - loss: 0.1592 - accuracy: 0.9565 - val_loss: 0.1911 - val_accuracy: 0.9490\n",
            "Epoch 68/100\n",
            "525/525 [==============================] - 1s 3ms/step - loss: 0.1592 - accuracy: 0.9569 - val_loss: 0.1951 - val_accuracy: 0.9505\n",
            "Epoch 69/100\n",
            "525/525 [==============================] - 1s 3ms/step - loss: 0.1591 - accuracy: 0.9559 - val_loss: 0.1949 - val_accuracy: 0.9500\n",
            "Epoch 70/100\n",
            "525/525 [==============================] - 1s 2ms/step - loss: 0.1585 - accuracy: 0.9562 - val_loss: 0.1937 - val_accuracy: 0.9486\n",
            "Epoch 71/100\n",
            "525/525 [==============================] - 1s 2ms/step - loss: 0.1588 - accuracy: 0.9554 - val_loss: 0.1964 - val_accuracy: 0.9486\n",
            "Epoch 72/100\n",
            "525/525 [==============================] - 1s 2ms/step - loss: 0.1585 - accuracy: 0.9565 - val_loss: 0.1991 - val_accuracy: 0.9462\n",
            "Epoch 73/100\n",
            "525/525 [==============================] - 1s 3ms/step - loss: 0.1585 - accuracy: 0.9557 - val_loss: 0.1956 - val_accuracy: 0.9495\n",
            "Epoch 74/100\n",
            "525/525 [==============================] - 1s 2ms/step - loss: 0.1583 - accuracy: 0.9552 - val_loss: 0.1952 - val_accuracy: 0.9486\n",
            "Epoch 75/100\n",
            "525/525 [==============================] - 1s 2ms/step - loss: 0.1583 - accuracy: 0.9556 - val_loss: 0.1965 - val_accuracy: 0.9505\n",
            "Epoch 76/100\n",
            "525/525 [==============================] - 1s 2ms/step - loss: 0.1579 - accuracy: 0.9570 - val_loss: 0.1956 - val_accuracy: 0.9481\n",
            "Epoch 77/100\n",
            "525/525 [==============================] - 1s 2ms/step - loss: 0.1584 - accuracy: 0.9559 - val_loss: 0.1945 - val_accuracy: 0.9510\n",
            "Epoch 78/100\n",
            "525/525 [==============================] - 1s 2ms/step - loss: 0.1584 - accuracy: 0.9556 - val_loss: 0.1946 - val_accuracy: 0.9514\n",
            "Epoch 79/100\n",
            "525/525 [==============================] - 1s 2ms/step - loss: 0.1581 - accuracy: 0.9567 - val_loss: 0.1944 - val_accuracy: 0.9510\n",
            "Epoch 80/100\n",
            "525/525 [==============================] - 1s 2ms/step - loss: 0.1576 - accuracy: 0.9563 - val_loss: 0.1960 - val_accuracy: 0.9514\n",
            "Epoch 81/100\n",
            "525/525 [==============================] - 1s 2ms/step - loss: 0.1580 - accuracy: 0.9558 - val_loss: 0.1936 - val_accuracy: 0.9495\n",
            "Epoch 82/100\n",
            "525/525 [==============================] - 1s 2ms/step - loss: 0.1577 - accuracy: 0.9570 - val_loss: 0.1948 - val_accuracy: 0.9495\n",
            "Epoch 83/100\n",
            "525/525 [==============================] - 1s 2ms/step - loss: 0.1567 - accuracy: 0.9575 - val_loss: 0.1972 - val_accuracy: 0.9490\n",
            "Epoch 84/100\n",
            "525/525 [==============================] - 1s 2ms/step - loss: 0.1571 - accuracy: 0.9565 - val_loss: 0.1988 - val_accuracy: 0.9495\n",
            "Epoch 85/100\n",
            "525/525 [==============================] - 1s 2ms/step - loss: 0.1572 - accuracy: 0.9561 - val_loss: 0.1955 - val_accuracy: 0.9490\n",
            "Epoch 86/100\n",
            "525/525 [==============================] - 1s 2ms/step - loss: 0.1570 - accuracy: 0.9573 - val_loss: 0.1941 - val_accuracy: 0.9529\n",
            "Epoch 87/100\n",
            "525/525 [==============================] - 1s 2ms/step - loss: 0.1575 - accuracy: 0.9563 - val_loss: 0.1984 - val_accuracy: 0.9519\n",
            "Epoch 88/100\n",
            "525/525 [==============================] - 1s 2ms/step - loss: 0.1581 - accuracy: 0.9559 - val_loss: 0.1963 - val_accuracy: 0.9505\n",
            "Epoch 89/100\n",
            "525/525 [==============================] - 1s 2ms/step - loss: 0.1574 - accuracy: 0.9567 - val_loss: 0.1922 - val_accuracy: 0.9500\n",
            "Epoch 90/100\n",
            "525/525 [==============================] - 1s 2ms/step - loss: 0.1571 - accuracy: 0.9568 - val_loss: 0.1951 - val_accuracy: 0.9500\n",
            "Epoch 91/100\n",
            "525/525 [==============================] - 1s 2ms/step - loss: 0.1569 - accuracy: 0.9569 - val_loss: 0.1924 - val_accuracy: 0.9476\n",
            "Epoch 92/100\n",
            "525/525 [==============================] - 1s 2ms/step - loss: 0.1569 - accuracy: 0.9575 - val_loss: 0.1936 - val_accuracy: 0.9505\n",
            "Epoch 93/100\n",
            "525/525 [==============================] - 1s 2ms/step - loss: 0.1572 - accuracy: 0.9567 - val_loss: 0.1961 - val_accuracy: 0.9486\n",
            "Epoch 94/100\n",
            "525/525 [==============================] - 1s 3ms/step - loss: 0.1571 - accuracy: 0.9565 - val_loss: 0.1921 - val_accuracy: 0.9490\n",
            "Epoch 95/100\n",
            "525/525 [==============================] - 1s 2ms/step - loss: 0.1561 - accuracy: 0.9573 - val_loss: 0.1947 - val_accuracy: 0.9500\n",
            "Epoch 96/100\n",
            "525/525 [==============================] - 1s 2ms/step - loss: 0.1564 - accuracy: 0.9580 - val_loss: 0.1967 - val_accuracy: 0.9510\n",
            "Epoch 97/100\n",
            "525/525 [==============================] - 1s 2ms/step - loss: 0.1570 - accuracy: 0.9563 - val_loss: 0.1910 - val_accuracy: 0.9510\n",
            "Epoch 98/100\n",
            "525/525 [==============================] - 1s 2ms/step - loss: 0.1567 - accuracy: 0.9565 - val_loss: 0.1939 - val_accuracy: 0.9500\n",
            "Epoch 99/100\n",
            "525/525 [==============================] - 1s 2ms/step - loss: 0.1568 - accuracy: 0.9561 - val_loss: 0.1944 - val_accuracy: 0.9533\n",
            "Epoch 100/100\n",
            "525/525 [==============================] - 1s 2ms/step - loss: 0.1564 - accuracy: 0.9567 - val_loss: 0.1930 - val_accuracy: 0.9486\n"
          ]
        },
        {
          "output_type": "execute_result",
          "data": {
            "text/plain": [
              "<keras.callbacks.History at 0x7f2bdeae3ed0>"
            ]
          },
          "metadata": {},
          "execution_count": 65
        }
      ],
      "source": [
        "nb_epoch = 100\n",
        "\n",
        "model_CNN.fit(X_train, y_train, \n",
        "          validation_split = 0.2, \n",
        "          epochs=100, \n",
        "          shuffle = True,\n",
        "          batch_size=16,\n",
        "          verbose=1,)"
      ]
    },
    {
      "cell_type": "code",
      "source": [
        "results = model_CNN.evaluate(X_test, y_test)"
      ],
      "metadata": {
        "colab": {
          "base_uri": "https://localhost:8080/"
        },
        "id": "RiBm5Doil8Oa",
        "outputId": "1a15f7ff-8b05-4aeb-879d-b09855c9805c"
      },
      "execution_count": 66,
      "outputs": [
        {
          "output_type": "stream",
          "name": "stdout",
          "text": [
            "141/141 [==============================] - 0s 2ms/step - loss: 0.1749 - accuracy: 0.9467\n"
          ]
        }
      ]
    },
    {
      "cell_type": "code",
      "source": [
        "# predict test set\n",
        "pred_y_CNN = model_CNN.predict(X_test)\n",
        "pred_y_CNN"
      ],
      "metadata": {
        "colab": {
          "base_uri": "https://localhost:8080/"
        },
        "id": "M9ksv17ImIEh",
        "outputId": "db6d4a7c-f65f-40da-a80a-7c4834449ede"
      },
      "execution_count": 67,
      "outputs": [
        {
          "output_type": "execute_result",
          "data": {
            "text/plain": [
              "array([[9.5359010e-01],\n",
              "       [5.7438314e-03],\n",
              "       [2.8724670e-03],\n",
              "       ...,\n",
              "       [4.9491183e-10],\n",
              "       [9.6275491e-01],\n",
              "       [8.1392527e-03]], dtype=float32)"
            ]
          },
          "metadata": {},
          "execution_count": 67
        }
      ]
    },
    {
      "cell_type": "markdown",
      "source": [
        "#####**3. Recurrent Neural Network**"
      ],
      "metadata": {
        "id": "QXzMGAqZpbtC"
      }
    },
    {
      "cell_type": "code",
      "source": [
        "model_RNN = Sequential()\n",
        "model_RNN.add(SimpleRNN(units=100, input_shape=(X_train.shape[1], 1))) #input_shape takes time steps and features\n",
        "model_RNN.add(Dense(1, activation = 'sigmoid'))\n",
        "\n",
        "model_RNN.compile(loss='binary_crossentropy', optimizer='rmsprop', metrics=['accuracy'])\n",
        "\n",
        "model_RNN.summary()"
      ],
      "metadata": {
        "colab": {
          "base_uri": "https://localhost:8080/"
        },
        "id": "BAPtxtKWpZKP",
        "outputId": "f19c5915-b9c8-49bd-9513-eb9873f61fc0"
      },
      "execution_count": 68,
      "outputs": [
        {
          "output_type": "stream",
          "name": "stdout",
          "text": [
            "Model: \"sequential_2\"\n",
            "_________________________________________________________________\n",
            " Layer (type)                Output Shape              Param #   \n",
            "=================================================================\n",
            " simple_rnn (SimpleRNN)      (None, 100)               10200     \n",
            "                                                                 \n",
            " dense_6 (Dense)             (None, 1)                 101       \n",
            "                                                                 \n",
            "=================================================================\n",
            "Total params: 10,301\n",
            "Trainable params: 10,301\n",
            "Non-trainable params: 0\n",
            "_________________________________________________________________\n"
          ]
        }
      ]
    },
    {
      "cell_type": "code",
      "source": [
        "model_RNN.fit(X_train, y_train, epochs=50, batch_size=1)\n",
        "test_loss, test_acc = model_RNN.evaluate(X_test, y_test)"
      ],
      "metadata": {
        "colab": {
          "base_uri": "https://localhost:8080/"
        },
        "id": "llKoXqlry903",
        "outputId": "cae5fe3d-2d12-4604-b1c0-68c4c509afdb"
      },
      "execution_count": 69,
      "outputs": [
        {
          "output_type": "stream",
          "name": "stdout",
          "text": [
            "Epoch 1/50\n",
            "10499/10499 [==============================] - 46s 4ms/step - loss: 0.4148 - accuracy: 0.8348\n",
            "Epoch 2/50\n",
            "10499/10499 [==============================] - 47s 4ms/step - loss: 0.3326 - accuracy: 0.8835\n",
            "Epoch 3/50\n",
            "10499/10499 [==============================] - 44s 4ms/step - loss: 0.3769 - accuracy: 0.8648\n",
            "Epoch 4/50\n",
            "10499/10499 [==============================] - 42s 4ms/step - loss: 0.3747 - accuracy: 0.8749\n",
            "Epoch 5/50\n",
            "10499/10499 [==============================] - 42s 4ms/step - loss: 0.4451 - accuracy: 0.8296\n",
            "Epoch 6/50\n",
            "10499/10499 [==============================] - 43s 4ms/step - loss: 0.4563 - accuracy: 0.8249\n",
            "Epoch 7/50\n",
            "10499/10499 [==============================] - 45s 4ms/step - loss: 0.4719 - accuracy: 0.8120\n",
            "Epoch 8/50\n",
            "10499/10499 [==============================] - 45s 4ms/step - loss: 0.4358 - accuracy: 0.8217\n",
            "Epoch 9/50\n",
            "10499/10499 [==============================] - 49s 5ms/step - loss: 0.4222 - accuracy: 0.8374\n",
            "Epoch 10/50\n",
            "10499/10499 [==============================] - 51s 5ms/step - loss: 0.4831 - accuracy: 0.8052\n",
            "Epoch 11/50\n",
            "10499/10499 [==============================] - 50s 5ms/step - loss: 0.4434 - accuracy: 0.8327\n",
            "Epoch 12/50\n",
            "10499/10499 [==============================] - 48s 5ms/step - loss: 0.4748 - accuracy: 0.8141\n",
            "Epoch 13/50\n",
            "10499/10499 [==============================] - 47s 4ms/step - loss: 0.5104 - accuracy: 0.7943\n",
            "Epoch 14/50\n",
            "10499/10499 [==============================] - 47s 4ms/step - loss: 0.5015 - accuracy: 0.8043\n",
            "Epoch 15/50\n",
            "10499/10499 [==============================] - 47s 4ms/step - loss: 0.5170 - accuracy: 0.7904\n",
            "Epoch 16/50\n",
            "10499/10499 [==============================] - 48s 5ms/step - loss: 0.4774 - accuracy: 0.8143\n",
            "Epoch 17/50\n",
            "10499/10499 [==============================] - 49s 5ms/step - loss: 0.4563 - accuracy: 0.8230\n",
            "Epoch 18/50\n",
            "10499/10499 [==============================] - 47s 4ms/step - loss: 0.4825 - accuracy: 0.8131\n",
            "Epoch 19/50\n",
            "10499/10499 [==============================] - 47s 4ms/step - loss: 0.4894 - accuracy: 0.8082\n",
            "Epoch 20/50\n",
            "10499/10499 [==============================] - 47s 5ms/step - loss: 0.4904 - accuracy: 0.8112\n",
            "Epoch 21/50\n",
            "10499/10499 [==============================] - 49s 5ms/step - loss: 0.4944 - accuracy: 0.8111\n",
            "Epoch 22/50\n",
            "10499/10499 [==============================] - 46s 4ms/step - loss: 0.5074 - accuracy: 0.7989\n",
            "Epoch 23/50\n",
            "10499/10499 [==============================] - 49s 5ms/step - loss: 0.4837 - accuracy: 0.8153\n",
            "Epoch 24/50\n",
            "10499/10499 [==============================] - 50s 5ms/step - loss: 0.4816 - accuracy: 0.8068\n",
            "Epoch 25/50\n",
            "10499/10499 [==============================] - 47s 4ms/step - loss: 0.5170 - accuracy: 0.7793\n",
            "Epoch 26/50\n",
            "10499/10499 [==============================] - 49s 5ms/step - loss: 0.5093 - accuracy: 0.7915\n",
            "Epoch 27/50\n",
            "10499/10499 [==============================] - 51s 5ms/step - loss: 0.4798 - accuracy: 0.8175\n",
            "Epoch 28/50\n",
            "10499/10499 [==============================] - 49s 5ms/step - loss: 0.5084 - accuracy: 0.7879\n",
            "Epoch 29/50\n",
            "10499/10499 [==============================] - 52s 5ms/step - loss: 0.5299 - accuracy: 0.7754\n",
            "Epoch 30/50\n",
            "10499/10499 [==============================] - 56s 5ms/step - loss: 0.4890 - accuracy: 0.8103\n",
            "Epoch 31/50\n",
            "10499/10499 [==============================] - 53s 5ms/step - loss: 0.5113 - accuracy: 0.7926\n",
            "Epoch 32/50\n",
            "10499/10499 [==============================] - 53s 5ms/step - loss: 0.5174 - accuracy: 0.7873\n",
            "Epoch 33/50\n",
            "10499/10499 [==============================] - 52s 5ms/step - loss: 0.4906 - accuracy: 0.8130\n",
            "Epoch 34/50\n",
            "10499/10499 [==============================] - 49s 5ms/step - loss: 0.4986 - accuracy: 0.8037\n",
            "Epoch 35/50\n",
            "10499/10499 [==============================] - 52s 5ms/step - loss: 0.4967 - accuracy: 0.8062\n",
            "Epoch 36/50\n",
            "10499/10499 [==============================] - 48s 5ms/step - loss: 0.4979 - accuracy: 0.8056\n",
            "Epoch 37/50\n",
            "10499/10499 [==============================] - 50s 5ms/step - loss: 0.5068 - accuracy: 0.8000\n",
            "Epoch 38/50\n",
            "10499/10499 [==============================] - 48s 5ms/step - loss: 0.5049 - accuracy: 0.8027\n",
            "Epoch 39/50\n",
            "10499/10499 [==============================] - 48s 5ms/step - loss: 0.5359 - accuracy: 0.7737\n",
            "Epoch 40/50\n",
            "10499/10499 [==============================] - 49s 5ms/step - loss: 0.5371 - accuracy: 0.7735\n",
            "Epoch 41/50\n",
            "10499/10499 [==============================] - 49s 5ms/step - loss: 0.5126 - accuracy: 0.7954\n",
            "Epoch 42/50\n",
            "10499/10499 [==============================] - 52s 5ms/step - loss: 0.5106 - accuracy: 0.7906\n",
            "Epoch 43/50\n",
            "10499/10499 [==============================] - 50s 5ms/step - loss: 0.4971 - accuracy: 0.8069\n",
            "Epoch 44/50\n",
            "10499/10499 [==============================] - 49s 5ms/step - loss: 0.5210 - accuracy: 0.7863\n",
            "Epoch 45/50\n",
            "10499/10499 [==============================] - 56s 5ms/step - loss: 0.5079 - accuracy: 0.7976\n",
            "Epoch 46/50\n",
            "10499/10499 [==============================] - 52s 5ms/step - loss: 0.5160 - accuracy: 0.7919\n",
            "Epoch 47/50\n",
            "10499/10499 [==============================] - 69s 7ms/step - loss: 0.5366 - accuracy: 0.7717\n",
            "Epoch 48/50\n",
            "10499/10499 [==============================] - 58s 6ms/step - loss: 0.5189 - accuracy: 0.7877\n",
            "Epoch 49/50\n",
            "10499/10499 [==============================] - 53s 5ms/step - loss: 0.5212 - accuracy: 0.7892\n",
            "Epoch 50/50\n",
            "10499/10499 [==============================] - 49s 5ms/step - loss: 0.4923 - accuracy: 0.8086\n",
            "141/141 [==============================] - 1s 4ms/step - loss: 0.4900 - accuracy: 0.8153\n"
          ]
        }
      ]
    },
    {
      "cell_type": "markdown",
      "source": [
        "####**Model Selection**"
      ],
      "metadata": {
        "id": "9moylultTQH4"
      }
    },
    {
      "cell_type": "markdown",
      "source": [
        "We restrict this problem to using a machine learning algorithm, we can therefore choose the best perfoming as follows;"
      ],
      "metadata": {
        "id": "_gVMHeZLeEaa"
      }
    },
    {
      "cell_type": "code",
      "source": [
        "# selection of algorithms to consider and set performance measure\n",
        "models = []\n",
        "models.append(('Logistic Regression', LogisticRegression(solver='liblinear',\n",
        "                             class_weight=\"balanced\", \n",
        "                             random_state=7)))\n",
        "models.append(('Random Forest', RandomForestClassifier(\n",
        "    n_estimators=1000, \n",
        "    max_depth=None, \n",
        "    min_samples_split=10, \n",
        "    class_weight=\"balanced\"\n",
        "    #min_weight_fraction_leaf=0.02 \n",
        "    )))\n",
        "models.append(('SVM', SVC(kernel='linear',random_state=7, probability=True)))\n",
        "models.append(('ADA Boost', AdaBoostClassifier(n_estimators=400, learning_rate=0.1)))\n",
        "models.append(('XG Boost', XGBClassifier()))\n",
        "models.append(('Decision Tree Classifier',\n",
        "               tree.DecisionTreeClassifier(\n",
        "    #max_depth=3,\n",
        "    class_weight=\"balanced\",\n",
        "    min_weight_fraction_leaf=0.01\n",
        "    )))"
      ],
      "metadata": {
        "id": "vZ1PTHnJTYl7"
      },
      "execution_count": 94,
      "outputs": []
    },
    {
      "cell_type": "code",
      "source": [
        "acc_results = []\n",
        "auc_results = []\n",
        "names = []\n",
        "# set table to table to populate with performance results\n",
        "col = ['Algorithm', 'ROC AUC Mean', 'ROC AUC STD', \n",
        "       'Accuracy Mean', 'Accuracy STD']\n",
        "df_results = pd.DataFrame(columns=col)\n",
        "i = 0\n",
        "# evaluate each model using cross-validation\n",
        "for name, model in models:\n",
        "    kfold = model_selection.KFold(\n",
        "        n_splits=10)  # 10-fold cross-validation\n",
        "\n",
        "    cv_acc_results = model_selection.cross_val_score(  # accuracy scoring\n",
        "        model, X_train, y_train, cv=kfold, scoring='accuracy')\n",
        "\n",
        "    cv_auc_results = model_selection.cross_val_score(  # roc_auc scoring\n",
        "        model, X_train, y_train, cv=kfold, scoring='roc_auc')\n",
        "\n",
        "    acc_results.append(cv_acc_results)\n",
        "    auc_results.append(cv_auc_results)\n",
        "    names.append(name)\n",
        "    df_results.loc[i] = [name,\n",
        "                         round(cv_auc_results.mean()*100, 2),\n",
        "                         round(cv_auc_results.std()*100, 2),\n",
        "                         round(cv_acc_results.mean()*100, 2),\n",
        "                         round(cv_acc_results.std()*100, 2)\n",
        "                         ]\n",
        "    i += 1\n",
        "df_results.sort_values(by=['ROC AUC Mean'], ascending=False)"
      ],
      "metadata": {
        "colab": {
          "base_uri": "https://localhost:8080/",
          "height": 238
        },
        "id": "5AQDGP-3YVvB",
        "outputId": "0dbe0375-6b04-423d-907a-7266956e6f26"
      },
      "execution_count": 95,
      "outputs": [
        {
          "output_type": "execute_result",
          "data": {
            "text/html": [
              "\n",
              "  <div id=\"df-de033a99-bdc4-4a99-8e24-3d1bf280c40c\">\n",
              "    <div class=\"colab-df-container\">\n",
              "      <div>\n",
              "<style scoped>\n",
              "    .dataframe tbody tr th:only-of-type {\n",
              "        vertical-align: middle;\n",
              "    }\n",
              "\n",
              "    .dataframe tbody tr th {\n",
              "        vertical-align: top;\n",
              "    }\n",
              "\n",
              "    .dataframe thead th {\n",
              "        text-align: right;\n",
              "    }\n",
              "</style>\n",
              "<table border=\"1\" class=\"dataframe\">\n",
              "  <thead>\n",
              "    <tr style=\"text-align: right;\">\n",
              "      <th></th>\n",
              "      <th>Algorithm</th>\n",
              "      <th>ROC AUC Mean</th>\n",
              "      <th>ROC AUC STD</th>\n",
              "      <th>Accuracy Mean</th>\n",
              "      <th>Accuracy STD</th>\n",
              "    </tr>\n",
              "  </thead>\n",
              "  <tbody>\n",
              "    <tr>\n",
              "      <th>1</th>\n",
              "      <td>Random Forest</td>\n",
              "      <td>99.20</td>\n",
              "      <td>0.45</td>\n",
              "      <td>98.32</td>\n",
              "      <td>0.44</td>\n",
              "    </tr>\n",
              "    <tr>\n",
              "      <th>4</th>\n",
              "      <td>XG Boost</td>\n",
              "      <td>98.72</td>\n",
              "      <td>0.54</td>\n",
              "      <td>97.45</td>\n",
              "      <td>0.49</td>\n",
              "    </tr>\n",
              "    <tr>\n",
              "      <th>3</th>\n",
              "      <td>ADA Boost</td>\n",
              "      <td>98.05</td>\n",
              "      <td>0.59</td>\n",
              "      <td>95.76</td>\n",
              "      <td>0.54</td>\n",
              "    </tr>\n",
              "    <tr>\n",
              "      <th>5</th>\n",
              "      <td>Decision Tree Classifier</td>\n",
              "      <td>97.79</td>\n",
              "      <td>0.77</td>\n",
              "      <td>96.35</td>\n",
              "      <td>0.60</td>\n",
              "    </tr>\n",
              "    <tr>\n",
              "      <th>0</th>\n",
              "      <td>Logistic Regression</td>\n",
              "      <td>82.81</td>\n",
              "      <td>1.10</td>\n",
              "      <td>75.88</td>\n",
              "      <td>1.09</td>\n",
              "    </tr>\n",
              "    <tr>\n",
              "      <th>2</th>\n",
              "      <td>SVM</td>\n",
              "      <td>80.73</td>\n",
              "      <td>1.10</td>\n",
              "      <td>78.03</td>\n",
              "      <td>1.20</td>\n",
              "    </tr>\n",
              "  </tbody>\n",
              "</table>\n",
              "</div>\n",
              "      <button class=\"colab-df-convert\" onclick=\"convertToInteractive('df-de033a99-bdc4-4a99-8e24-3d1bf280c40c')\"\n",
              "              title=\"Convert this dataframe to an interactive table.\"\n",
              "              style=\"display:none;\">\n",
              "        \n",
              "  <svg xmlns=\"http://www.w3.org/2000/svg\" height=\"24px\"viewBox=\"0 0 24 24\"\n",
              "       width=\"24px\">\n",
              "    <path d=\"M0 0h24v24H0V0z\" fill=\"none\"/>\n",
              "    <path d=\"M18.56 5.44l.94 2.06.94-2.06 2.06-.94-2.06-.94-.94-2.06-.94 2.06-2.06.94zm-11 1L8.5 8.5l.94-2.06 2.06-.94-2.06-.94L8.5 2.5l-.94 2.06-2.06.94zm10 10l.94 2.06.94-2.06 2.06-.94-2.06-.94-.94-2.06-.94 2.06-2.06.94z\"/><path d=\"M17.41 7.96l-1.37-1.37c-.4-.4-.92-.59-1.43-.59-.52 0-1.04.2-1.43.59L10.3 9.45l-7.72 7.72c-.78.78-.78 2.05 0 2.83L4 21.41c.39.39.9.59 1.41.59.51 0 1.02-.2 1.41-.59l7.78-7.78 2.81-2.81c.8-.78.8-2.07 0-2.86zM5.41 20L4 18.59l7.72-7.72 1.47 1.35L5.41 20z\"/>\n",
              "  </svg>\n",
              "      </button>\n",
              "      \n",
              "  <style>\n",
              "    .colab-df-container {\n",
              "      display:flex;\n",
              "      flex-wrap:wrap;\n",
              "      gap: 12px;\n",
              "    }\n",
              "\n",
              "    .colab-df-convert {\n",
              "      background-color: #E8F0FE;\n",
              "      border: none;\n",
              "      border-radius: 50%;\n",
              "      cursor: pointer;\n",
              "      display: none;\n",
              "      fill: #1967D2;\n",
              "      height: 32px;\n",
              "      padding: 0 0 0 0;\n",
              "      width: 32px;\n",
              "    }\n",
              "\n",
              "    .colab-df-convert:hover {\n",
              "      background-color: #E2EBFA;\n",
              "      box-shadow: 0px 1px 2px rgba(60, 64, 67, 0.3), 0px 1px 3px 1px rgba(60, 64, 67, 0.15);\n",
              "      fill: #174EA6;\n",
              "    }\n",
              "\n",
              "    [theme=dark] .colab-df-convert {\n",
              "      background-color: #3B4455;\n",
              "      fill: #D2E3FC;\n",
              "    }\n",
              "\n",
              "    [theme=dark] .colab-df-convert:hover {\n",
              "      background-color: #434B5C;\n",
              "      box-shadow: 0px 1px 3px 1px rgba(0, 0, 0, 0.15);\n",
              "      filter: drop-shadow(0px 1px 2px rgba(0, 0, 0, 0.3));\n",
              "      fill: #FFFFFF;\n",
              "    }\n",
              "  </style>\n",
              "\n",
              "      <script>\n",
              "        const buttonEl =\n",
              "          document.querySelector('#df-de033a99-bdc4-4a99-8e24-3d1bf280c40c button.colab-df-convert');\n",
              "        buttonEl.style.display =\n",
              "          google.colab.kernel.accessAllowed ? 'block' : 'none';\n",
              "\n",
              "        async function convertToInteractive(key) {\n",
              "          const element = document.querySelector('#df-de033a99-bdc4-4a99-8e24-3d1bf280c40c');\n",
              "          const dataTable =\n",
              "            await google.colab.kernel.invokeFunction('convertToInteractive',\n",
              "                                                     [key], {});\n",
              "          if (!dataTable) return;\n",
              "\n",
              "          const docLinkHtml = 'Like what you see? Visit the ' +\n",
              "            '<a target=\"_blank\" href=https://colab.research.google.com/notebooks/data_table.ipynb>data table notebook</a>'\n",
              "            + ' to learn more about interactive tables.';\n",
              "          element.innerHTML = '';\n",
              "          dataTable['output_type'] = 'display_data';\n",
              "          await google.colab.output.renderOutput(dataTable, element);\n",
              "          const docLink = document.createElement('div');\n",
              "          docLink.innerHTML = docLinkHtml;\n",
              "          element.appendChild(docLink);\n",
              "        }\n",
              "      </script>\n",
              "    </div>\n",
              "  </div>\n",
              "  "
            ],
            "text/plain": [
              "                  Algorithm  ROC AUC Mean  ...  Accuracy Mean  Accuracy STD\n",
              "1             Random Forest         99.20  ...          98.32          0.44\n",
              "4                  XG Boost         98.72  ...          97.45          0.49\n",
              "3                 ADA Boost         98.05  ...          95.76          0.54\n",
              "5  Decision Tree Classifier         97.79  ...          96.35          0.60\n",
              "0       Logistic Regression         82.81  ...          75.88          1.09\n",
              "2                       SVM         80.73  ...          78.03          1.20\n",
              "\n",
              "[6 rows x 5 columns]"
            ]
          },
          "metadata": {},
          "execution_count": 95
        }
      ]
    },
    {
      "cell_type": "markdown",
      "source": [
        "The best performing model is the random forest, which we can furthermore analyse and fine tune the parameters, and deploy to the client."
      ],
      "metadata": {
        "id": "9JhSP5ixe2v2"
      }
    },
    {
      "cell_type": "markdown",
      "source": [
        "####**Saving the Model**"
      ],
      "metadata": {
        "id": "EYjnPMtDkh_v"
      }
    },
    {
      "cell_type": "code",
      "source": [
        "import pickle"
      ],
      "metadata": {
        "id": "mnzGnigbk6Yg"
      },
      "execution_count": 109,
      "outputs": []
    },
    {
      "cell_type": "code",
      "source": [
        "# save the model to disk\n",
        "filename = 'HR_model.pkl'\n",
        "pickle.dump(rf, open(filename, 'wb'))"
      ],
      "metadata": {
        "id": "1D9mgZZVkZDE"
      },
      "execution_count": 110,
      "outputs": []
    },
    {
      "cell_type": "code",
      "source": [
        "loaded_model = pickle.load(open(filename, 'rb'))\n",
        "result = loaded_model.score(X_test, y_test)\n",
        "print(result)"
      ],
      "metadata": {
        "colab": {
          "base_uri": "https://localhost:8080/"
        },
        "id": "a900sC-TlFGN",
        "outputId": "732e09a6-fb5c-493b-db76-5ddca755f3ae"
      },
      "execution_count": 111,
      "outputs": [
        {
          "output_type": "stream",
          "name": "stdout",
          "text": [
            "0.9833333333333333\n"
          ]
        }
      ]
    }
  ],
  "metadata": {
    "colab": {
      "collapsed_sections": [],
      "name": "HR Analytics",
      "toc_visible": true,
      "provenance": [],
      "authorship_tag": "ABX9TyOeBzR9anfYMZdQPpTUwPUx",
      "include_colab_link": true
    },
    "kernelspec": {
      "display_name": "Python 3",
      "name": "python3"
    },
    "language_info": {
      "name": "python"
    }
  },
  "nbformat": 4,
  "nbformat_minor": 0
}